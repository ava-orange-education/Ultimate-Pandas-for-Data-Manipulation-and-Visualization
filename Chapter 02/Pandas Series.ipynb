{
 "cells": [
  {
   "cell_type": "code",
   "execution_count": 1,
   "id": "4f15dc40",
   "metadata": {},
   "outputs": [],
   "source": [
    "import pandas as pd\n",
    "import numpy as np\n"
   ]
  },
  {
   "cell_type": "code",
   "execution_count": 2,
   "id": "551013cd",
   "metadata": {},
   "outputs": [],
   "source": [
    "my_list = [\"Apple\", \"Banana\", \"Cherry\"]"
   ]
  },
  {
   "cell_type": "code",
   "execution_count": 3,
   "id": "c2a1e37d",
   "metadata": {},
   "outputs": [
    {
     "name": "stdout",
     "output_type": "stream",
     "text": [
      "0     Apple\n",
      "1    Banana\n",
      "2    Cherry\n",
      "dtype: object\n"
     ]
    }
   ],
   "source": [
    "\n",
    "my_list = [\"Apple\", \"Banana\", \"Cherry\"]\n",
    "\n",
    "my_series = pd.Series(my_list)\n",
    "\n",
    "print(my_series)"
   ]
  },
  {
   "cell_type": "code",
   "execution_count": 4,
   "id": "8e59b756",
   "metadata": {},
   "outputs": [],
   "source": [
    "my_array = np.array([10, 20, 30, 40, 50])"
   ]
  },
  {
   "cell_type": "code",
   "execution_count": 5,
   "id": "d8135a7b",
   "metadata": {},
   "outputs": [
    {
     "name": "stdout",
     "output_type": "stream",
     "text": [
      "0    10\n",
      "1    20\n",
      "2    30\n",
      "3    40\n",
      "4    50\n",
      "dtype: int64\n"
     ]
    }
   ],
   "source": [
    "\n",
    "# Creating a numpy array\n",
    "my_array = np.array([10, 20, 30, 40, 50])\n",
    "\n",
    "# Creating a Series from the numpy array\n",
    "series_from_array = pd.Series(my_array)\n",
    "\n",
    "print(series_from_array)"
   ]
  },
  {
   "cell_type": "code",
   "execution_count": 6,
   "id": "51c8da24",
   "metadata": {},
   "outputs": [],
   "source": [
    "my_dict = {\n",
    "    \"Name\": \"Alice\",\n",
    "    \"Age\": 25,\n",
    "    \"Occupation\": \"Engineer\"\n",
    "}"
   ]
  },
  {
   "cell_type": "code",
   "execution_count": 7,
   "id": "55fe1a8c",
   "metadata": {},
   "outputs": [
    {
     "name": "stdout",
     "output_type": "stream",
     "text": [
      "Name             Alice\n",
      "Age                 25\n",
      "Occupation    Engineer\n",
      "dtype: object\n"
     ]
    }
   ],
   "source": [
    "my_dict = {\n",
    "    \"Name\": \"Alice\",\n",
    "    \"Age\": 25,\n",
    "    \"Occupation\": \"Engineer\"\n",
    "}\n",
    "\n",
    "my_series = pd.Series(my_dict)\n",
    "\n",
    "print(my_series)"
   ]
  },
  {
   "cell_type": "code",
   "execution_count": 8,
   "id": "79c11e48",
   "metadata": {},
   "outputs": [],
   "source": [
    "my_tuple = (\"Apple\", \"Banana\", \"Cherry\")"
   ]
  },
  {
   "cell_type": "code",
   "execution_count": 9,
   "id": "f1001e68",
   "metadata": {},
   "outputs": [
    {
     "name": "stdout",
     "output_type": "stream",
     "text": [
      "0     Apple\n",
      "1    Banana\n",
      "2    Cherry\n",
      "dtype: object\n"
     ]
    }
   ],
   "source": [
    "my_tuple = (\"Apple\", \"Banana\", \"Cherry\")\n",
    "\n",
    "my_series = pd.Series(my_tuple)\n",
    "\n",
    "print(my_series)"
   ]
  },
  {
   "cell_type": "code",
   "execution_count": 10,
   "id": "a0e50fa0",
   "metadata": {},
   "outputs": [
    {
     "data": {
      "text/html": [
       "<div>\n",
       "<style scoped>\n",
       "    .dataframe tbody tr th:only-of-type {\n",
       "        vertical-align: middle;\n",
       "    }\n",
       "\n",
       "    .dataframe tbody tr th {\n",
       "        vertical-align: top;\n",
       "    }\n",
       "\n",
       "    .dataframe thead th {\n",
       "        text-align: right;\n",
       "    }\n",
       "</style>\n",
       "<table border=\"1\" class=\"dataframe\">\n",
       "  <thead>\n",
       "    <tr style=\"text-align: right;\">\n",
       "      <th></th>\n",
       "      <th>Suburb</th>\n",
       "      <th>Address</th>\n",
       "      <th>Rooms</th>\n",
       "      <th>Type</th>\n",
       "      <th>Price</th>\n",
       "      <th>Method</th>\n",
       "      <th>SellerG</th>\n",
       "      <th>Date</th>\n",
       "      <th>Distance</th>\n",
       "      <th>Postcode</th>\n",
       "      <th>...</th>\n",
       "      <th>Bathroom</th>\n",
       "      <th>Car</th>\n",
       "      <th>Landsize</th>\n",
       "      <th>BuildingArea</th>\n",
       "      <th>YearBuilt</th>\n",
       "      <th>CouncilArea</th>\n",
       "      <th>Lattitude</th>\n",
       "      <th>Longtitude</th>\n",
       "      <th>Regionname</th>\n",
       "      <th>Propertycount</th>\n",
       "    </tr>\n",
       "  </thead>\n",
       "  <tbody>\n",
       "    <tr>\n",
       "      <th>0</th>\n",
       "      <td>Abbotsford</td>\n",
       "      <td>85 Turner St</td>\n",
       "      <td>2</td>\n",
       "      <td>h</td>\n",
       "      <td>1480000.0</td>\n",
       "      <td>S</td>\n",
       "      <td>Biggin</td>\n",
       "      <td>3/12/2016</td>\n",
       "      <td>2.5</td>\n",
       "      <td>3067.0</td>\n",
       "      <td>...</td>\n",
       "      <td>1.0</td>\n",
       "      <td>1.0</td>\n",
       "      <td>202.0</td>\n",
       "      <td>NaN</td>\n",
       "      <td>NaN</td>\n",
       "      <td>Yarra</td>\n",
       "      <td>-37.7996</td>\n",
       "      <td>144.9984</td>\n",
       "      <td>Northern Metropolitan</td>\n",
       "      <td>4019.0</td>\n",
       "    </tr>\n",
       "    <tr>\n",
       "      <th>1</th>\n",
       "      <td>Abbotsford</td>\n",
       "      <td>25 Bloomburg St</td>\n",
       "      <td>2</td>\n",
       "      <td>h</td>\n",
       "      <td>1035000.0</td>\n",
       "      <td>S</td>\n",
       "      <td>Biggin</td>\n",
       "      <td>4/02/2016</td>\n",
       "      <td>2.5</td>\n",
       "      <td>3067.0</td>\n",
       "      <td>...</td>\n",
       "      <td>1.0</td>\n",
       "      <td>0.0</td>\n",
       "      <td>156.0</td>\n",
       "      <td>79.0</td>\n",
       "      <td>1900.0</td>\n",
       "      <td>Yarra</td>\n",
       "      <td>-37.8079</td>\n",
       "      <td>144.9934</td>\n",
       "      <td>Northern Metropolitan</td>\n",
       "      <td>4019.0</td>\n",
       "    </tr>\n",
       "    <tr>\n",
       "      <th>2</th>\n",
       "      <td>Abbotsford</td>\n",
       "      <td>5 Charles St</td>\n",
       "      <td>3</td>\n",
       "      <td>h</td>\n",
       "      <td>1465000.0</td>\n",
       "      <td>SP</td>\n",
       "      <td>Biggin</td>\n",
       "      <td>4/03/2017</td>\n",
       "      <td>2.5</td>\n",
       "      <td>3067.0</td>\n",
       "      <td>...</td>\n",
       "      <td>2.0</td>\n",
       "      <td>0.0</td>\n",
       "      <td>134.0</td>\n",
       "      <td>150.0</td>\n",
       "      <td>1900.0</td>\n",
       "      <td>Yarra</td>\n",
       "      <td>-37.8093</td>\n",
       "      <td>144.9944</td>\n",
       "      <td>Northern Metropolitan</td>\n",
       "      <td>4019.0</td>\n",
       "    </tr>\n",
       "    <tr>\n",
       "      <th>3</th>\n",
       "      <td>Abbotsford</td>\n",
       "      <td>40 Federation La</td>\n",
       "      <td>3</td>\n",
       "      <td>h</td>\n",
       "      <td>850000.0</td>\n",
       "      <td>PI</td>\n",
       "      <td>Biggin</td>\n",
       "      <td>4/03/2017</td>\n",
       "      <td>2.5</td>\n",
       "      <td>3067.0</td>\n",
       "      <td>...</td>\n",
       "      <td>2.0</td>\n",
       "      <td>1.0</td>\n",
       "      <td>94.0</td>\n",
       "      <td>NaN</td>\n",
       "      <td>NaN</td>\n",
       "      <td>Yarra</td>\n",
       "      <td>-37.7969</td>\n",
       "      <td>144.9969</td>\n",
       "      <td>Northern Metropolitan</td>\n",
       "      <td>4019.0</td>\n",
       "    </tr>\n",
       "    <tr>\n",
       "      <th>4</th>\n",
       "      <td>Abbotsford</td>\n",
       "      <td>55a Park St</td>\n",
       "      <td>4</td>\n",
       "      <td>h</td>\n",
       "      <td>1600000.0</td>\n",
       "      <td>VB</td>\n",
       "      <td>Nelson</td>\n",
       "      <td>4/06/2016</td>\n",
       "      <td>2.5</td>\n",
       "      <td>3067.0</td>\n",
       "      <td>...</td>\n",
       "      <td>1.0</td>\n",
       "      <td>2.0</td>\n",
       "      <td>120.0</td>\n",
       "      <td>142.0</td>\n",
       "      <td>2014.0</td>\n",
       "      <td>Yarra</td>\n",
       "      <td>-37.8072</td>\n",
       "      <td>144.9941</td>\n",
       "      <td>Northern Metropolitan</td>\n",
       "      <td>4019.0</td>\n",
       "    </tr>\n",
       "  </tbody>\n",
       "</table>\n",
       "<p>5 rows × 21 columns</p>\n",
       "</div>"
      ],
      "text/plain": [
       "       Suburb           Address  Rooms Type      Price Method SellerG  \\\n",
       "0  Abbotsford      85 Turner St      2    h  1480000.0      S  Biggin   \n",
       "1  Abbotsford   25 Bloomburg St      2    h  1035000.0      S  Biggin   \n",
       "2  Abbotsford      5 Charles St      3    h  1465000.0     SP  Biggin   \n",
       "3  Abbotsford  40 Federation La      3    h   850000.0     PI  Biggin   \n",
       "4  Abbotsford       55a Park St      4    h  1600000.0     VB  Nelson   \n",
       "\n",
       "        Date  Distance  Postcode  ...  Bathroom  Car  Landsize  BuildingArea  \\\n",
       "0  3/12/2016       2.5    3067.0  ...       1.0  1.0     202.0           NaN   \n",
       "1  4/02/2016       2.5    3067.0  ...       1.0  0.0     156.0          79.0   \n",
       "2  4/03/2017       2.5    3067.0  ...       2.0  0.0     134.0         150.0   \n",
       "3  4/03/2017       2.5    3067.0  ...       2.0  1.0      94.0           NaN   \n",
       "4  4/06/2016       2.5    3067.0  ...       1.0  2.0     120.0         142.0   \n",
       "\n",
       "   YearBuilt  CouncilArea Lattitude  Longtitude             Regionname  \\\n",
       "0        NaN        Yarra  -37.7996    144.9984  Northern Metropolitan   \n",
       "1     1900.0        Yarra  -37.8079    144.9934  Northern Metropolitan   \n",
       "2     1900.0        Yarra  -37.8093    144.9944  Northern Metropolitan   \n",
       "3        NaN        Yarra  -37.7969    144.9969  Northern Metropolitan   \n",
       "4     2014.0        Yarra  -37.8072    144.9941  Northern Metropolitan   \n",
       "\n",
       "  Propertycount  \n",
       "0        4019.0  \n",
       "1        4019.0  \n",
       "2        4019.0  \n",
       "3        4019.0  \n",
       "4        4019.0  \n",
       "\n",
       "[5 rows x 21 columns]"
      ]
     },
     "execution_count": 10,
     "metadata": {},
     "output_type": "execute_result"
    }
   ],
   "source": [
    "df = pd.read_csv(\"housing.csv\")\n",
    "df.head()\n"
   ]
  },
  {
   "cell_type": "code",
   "execution_count": 11,
   "id": "0653b7f8",
   "metadata": {},
   "outputs": [
    {
     "data": {
      "text/plain": [
       "0    2\n",
       "1    2\n",
       "2    3\n",
       "3    3\n",
       "4    4\n",
       "Name: Rooms, dtype: int64"
      ]
     },
     "execution_count": 11,
     "metadata": {},
     "output_type": "execute_result"
    }
   ],
   "source": [
    "series = df['Rooms']\n",
    "series.head()"
   ]
  },
  {
   "cell_type": "code",
   "execution_count": 12,
   "id": "c429db6c",
   "metadata": {},
   "outputs": [
    {
     "data": {
      "text/plain": [
       "0    2\n",
       "1    2\n",
       "2    3\n",
       "3    3\n",
       "4    4\n",
       "Name: Rooms, dtype: int64"
      ]
     },
     "execution_count": 12,
     "metadata": {},
     "output_type": "execute_result"
    }
   ],
   "source": [
    "series = df.iloc[:, 2]\n",
    "series.head()"
   ]
  },
  {
   "cell_type": "code",
   "execution_count": 13,
   "id": "950b1bba",
   "metadata": {},
   "outputs": [],
   "source": [
    "#############Custom Index############"
   ]
  },
  {
   "cell_type": "code",
   "execution_count": 14,
   "id": "1e0dcb4d",
   "metadata": {},
   "outputs": [
    {
     "data": {
      "text/plain": [
       "A    10\n",
       "B    20\n",
       "C    30\n",
       "D    40\n",
       "dtype: int64"
      ]
     },
     "execution_count": 14,
     "metadata": {},
     "output_type": "execute_result"
    }
   ],
   "source": [
    "data = [10, 20, 30, 40]\n",
    "index = ['A', 'B', 'C', 'D']\n",
    "\n",
    "series = pd.Series(data, index=index)\n",
    "series"
   ]
  },
  {
   "cell_type": "code",
   "execution_count": 15,
   "id": "4064b646",
   "metadata": {},
   "outputs": [
    {
     "name": "stdout",
     "output_type": "stream",
     "text": [
      "10\n",
      "30\n"
     ]
    }
   ],
   "source": [
    "print(series['A']) \n",
    "print(series['C'])  "
   ]
  },
  {
   "cell_type": "code",
   "execution_count": 16,
   "id": "449947e8",
   "metadata": {},
   "outputs": [
    {
     "name": "stdout",
     "output_type": "stream",
     "text": [
      "Series with default numerical indices:\n",
      "0    85\n",
      "1    92\n",
      "2    78\n",
      "3    90\n",
      "4    88\n",
      "dtype: int64\n",
      "\n",
      "Series with custom index labels:\n",
      "Math       85\n",
      "English    92\n",
      "Science    78\n",
      "History    90\n",
      "Art        88\n",
      "dtype: int64\n"
     ]
    }
   ],
   "source": [
    "# Create a Series with default numerical indices\n",
    "series_default = pd.Series([85, 92, 78, 90, 88])\n",
    "\n",
    "# Create a Series with custom index labels\n",
    "series_custom = pd.Series([85, 92, 78, 90, 88], index=['Math', 'English', 'Science', 'History', 'Art'])\n",
    "\n",
    "print(\"Series with default numerical indices:\")\n",
    "print(series_default)\n",
    "print(\"\\nSeries with custom index labels:\")\n",
    "print(series_custom)"
   ]
  },
  {
   "cell_type": "code",
   "execution_count": 17,
   "id": "1f5c5164",
   "metadata": {},
   "outputs": [
    {
     "name": "stdout",
     "output_type": "stream",
     "text": [
      "Stock prices with contextual information:\n",
      "2023-06-20    100.50\n",
      "2023-06-21    102.20\n",
      "2023-06-22     98.75\n",
      "2023-06-23    101.80\n",
      "2023-06-24     99.45\n",
      "dtype: float64\n"
     ]
    }
   ],
   "source": [
    "# Define stock prices\n",
    "prices = [100.50, 102.20, 98.75, 101.80, 99.45]\n",
    "\n",
    "# Define custom index labels as dates\n",
    "dates = ['2023-06-20', '2023-06-21', '2023-06-22', '2023-06-23', '2023-06-24']\n",
    "\n",
    "# Create a Series with custom index labels representing stock prices\n",
    "stocks = pd.Series(prices, index=pd.to_datetime(dates))\n",
    "\n",
    "print(\"Stock prices with contextual information:\")\n",
    "print(stocks)"
   ]
  },
  {
   "cell_type": "code",
   "execution_count": 18,
   "id": "62f830bd",
   "metadata": {},
   "outputs": [
    {
     "name": "stdout",
     "output_type": "stream",
     "text": [
      "102.2\n"
     ]
    }
   ],
   "source": [
    "print(stocks['2023-06-21'])"
   ]
  },
  {
   "cell_type": "code",
   "execution_count": 19,
   "id": "99726266",
   "metadata": {},
   "outputs": [
    {
     "name": "stdout",
     "output_type": "stream",
     "text": [
      "Series with default numerical indices:\n",
      "0    10\n",
      "1    20\n",
      "2    30\n",
      "3    40\n",
      "dtype: int64\n",
      "\n",
      "Series with custom index labels:\n",
      "A    10\n",
      "B    20\n",
      "C    30\n",
      "D    40\n",
      "dtype: int64\n"
     ]
    }
   ],
   "source": [
    "# Create a Series with default numerical indices\n",
    "series_default = pd.Series([10, 20, 30, 40])\n",
    "\n",
    "# Create a Series with custom index labels\n",
    "series_custom = pd.Series([10, 20, 30, 40], index=['A', 'B', 'C', 'D'])\n",
    "\n",
    "print(\"Series with default numerical indices:\")\n",
    "print(series_default)\n",
    "print(\"\\nSeries with custom index labels:\")\n",
    "print(series_custom)"
   ]
  },
  {
   "cell_type": "code",
   "execution_count": 20,
   "id": "003bd69f",
   "metadata": {},
   "outputs": [
    {
     "name": "stdout",
     "output_type": "stream",
     "text": [
      "20\n"
     ]
    }
   ],
   "source": [
    "print(series_custom['B'])  "
   ]
  },
  {
   "cell_type": "code",
   "execution_count": 21,
   "id": "e8498820",
   "metadata": {},
   "outputs": [
    {
     "name": "stdout",
     "output_type": "stream",
     "text": [
      "20\n"
     ]
    }
   ],
   "source": [
    "print(series_default[1]) "
   ]
  },
  {
   "cell_type": "code",
   "execution_count": 22,
   "id": "c3758735",
   "metadata": {},
   "outputs": [],
   "source": [
    "#############Assigning Name################"
   ]
  },
  {
   "cell_type": "code",
   "execution_count": 23,
   "id": "196fa651",
   "metadata": {},
   "outputs": [],
   "source": [
    "series = pd.Series([10, 20, 30, 40], name='MySeries')"
   ]
  },
  {
   "cell_type": "code",
   "execution_count": 24,
   "id": "4343ecfa",
   "metadata": {},
   "outputs": [],
   "source": [
    "df = pd.DataFrame({'A': [10, 20, 30, 40]})\n",
    "series = df['A']\n",
    "series.name = 'MySeries'"
   ]
  },
  {
   "cell_type": "code",
   "execution_count": 25,
   "id": "0f0ef419",
   "metadata": {},
   "outputs": [],
   "source": [
    "###########Analyzing Size, Shape, Uniqueness, and Value Counts in a Pandas Series#############33"
   ]
  },
  {
   "cell_type": "code",
   "execution_count": 26,
   "id": "d766c3ad",
   "metadata": {},
   "outputs": [
    {
     "name": "stdout",
     "output_type": "stream",
     "text": [
      "Size of the Series: 5\n"
     ]
    }
   ],
   "source": [
    "series = pd.Series([10, 20, 30, 40, 50])\n",
    "size = len(series)\n",
    "print(\"Size of the Series:\", size)"
   ]
  },
  {
   "cell_type": "code",
   "execution_count": 27,
   "id": "9cfa27dc",
   "metadata": {},
   "outputs": [
    {
     "name": "stdout",
     "output_type": "stream",
     "text": [
      "Shape of the Series: (5,)\n"
     ]
    }
   ],
   "source": [
    "series = pd.Series([10, 20, 30, 40, 50])\n",
    "\n",
    "# Obtaining the shape of the Series\n",
    "shape = series.shape\n",
    "\n",
    "print(\"Shape of the Series:\", shape)"
   ]
  },
  {
   "cell_type": "code",
   "execution_count": 28,
   "id": "d60f9ef1",
   "metadata": {},
   "outputs": [
    {
     "name": "stdout",
     "output_type": "stream",
     "text": [
      "Unique values in the Series: [10 20 30 40 50]\n"
     ]
    }
   ],
   "source": [
    "series = pd.Series([10, 20, 30, 40, 50, 10, 20])\n",
    "\n",
    "# Obtaining the unique values in the Series\n",
    "unique_values = series.unique()\n",
    "\n",
    "print(\"Unique values in the Series:\", unique_values)"
   ]
  },
  {
   "cell_type": "code",
   "execution_count": 29,
   "id": "aed1af16",
   "metadata": {},
   "outputs": [
    {
     "name": "stdout",
     "output_type": "stream",
     "text": [
      "Value counts in the Series:\n",
      " 20    3\n",
      "10    2\n",
      "30    2\n",
      "40    1\n",
      "50    1\n",
      "dtype: int64\n"
     ]
    }
   ],
   "source": [
    "series = pd.Series([10, 20, 30, 40, 50, 10, 20, 30, 20])\n",
    "\n",
    "# Obtaining the value counts in the Series\n",
    "value_counts = series.value_counts()\n",
    "\n",
    "print(\"Value counts in the Series:\\n\", value_counts)"
   ]
  },
  {
   "cell_type": "code",
   "execution_count": 30,
   "id": "a310c247",
   "metadata": {},
   "outputs": [],
   "source": [
    "######################Analyzing Data with head, tail, and Sample###############################"
   ]
  },
  {
   "cell_type": "code",
   "execution_count": 31,
   "id": "a28fa5da",
   "metadata": {},
   "outputs": [
    {
     "name": "stdout",
     "output_type": "stream",
     "text": [
      "Default head:\n",
      " 0    10\n",
      "1    20\n",
      "2    30\n",
      "3    40\n",
      "4    50\n",
      "dtype: int64\n"
     ]
    }
   ],
   "source": [
    "# Create a Series\n",
    "series = pd.Series([10, 20, 30, 40, 50, 60, 70, 80, 90, 100])\n",
    "\n",
    "# Display the default head (first 5 rows)\n",
    "default_head = series.head()\n",
    "print(\"Default head:\\n\", default_head)"
   ]
  },
  {
   "cell_type": "code",
   "execution_count": 32,
   "id": "e63d81d1",
   "metadata": {},
   "outputs": [
    {
     "name": "stdout",
     "output_type": "stream",
     "text": [
      "Custom head:\n",
      " 0    10\n",
      "1    20\n",
      "2    30\n",
      "dtype: int64\n"
     ]
    }
   ],
   "source": [
    "custom_head = series.head(3)\n",
    "print(\"Custom head:\\n\", custom_head)"
   ]
  },
  {
   "cell_type": "code",
   "execution_count": 33,
   "id": "1ac6e8bc",
   "metadata": {},
   "outputs": [
    {
     "name": "stdout",
     "output_type": "stream",
     "text": [
      "Default tail:\n",
      " 5     60\n",
      "6     70\n",
      "7     80\n",
      "8     90\n",
      "9    100\n",
      "dtype: int64\n"
     ]
    }
   ],
   "source": [
    "# Display the default tail (last 5 rows)\n",
    "default_tail = series.tail()\n",
    "print(\"Default tail:\\n\", default_tail)"
   ]
  },
  {
   "cell_type": "code",
   "execution_count": 34,
   "id": "7ce131df",
   "metadata": {},
   "outputs": [
    {
     "name": "stdout",
     "output_type": "stream",
     "text": [
      "Custom tail:\n",
      " 7     80\n",
      "8     90\n",
      "9    100\n",
      "dtype: int64\n"
     ]
    }
   ],
   "source": [
    "custom_tail = series.tail(3)\n",
    "print(\"Custom tail:\\n\", custom_tail)"
   ]
  },
  {
   "cell_type": "code",
   "execution_count": 35,
   "id": "1176b981",
   "metadata": {},
   "outputs": [
    {
     "name": "stdout",
     "output_type": "stream",
     "text": [
      "Random sample from the Series:\n",
      " 6    70\n",
      "3    40\n",
      "4    50\n",
      "dtype: int64\n"
     ]
    }
   ],
   "source": [
    "# Obtain a random sample of 3 elements\n",
    "sample_data = series.sample(3)\n",
    "print(\"Random sample from the Series:\\n\", sample_data)"
   ]
  },
  {
   "cell_type": "code",
   "execution_count": null,
   "id": "6c2b71a2",
   "metadata": {},
   "outputs": [],
   "source": []
  },
  {
   "cell_type": "code",
   "execution_count": null,
   "id": "c15560bf",
   "metadata": {},
   "outputs": [],
   "source": []
  },
  {
   "cell_type": "code",
   "execution_count": 36,
   "id": "85354199",
   "metadata": {},
   "outputs": [
    {
     "name": "stdout",
     "output_type": "stream",
     "text": [
      "single element by label 2\n",
      " \n",
      "multiple elements by labels\n",
      " A    1\n",
      "C    3\n",
      "E    5\n",
      "dtype: int64\n"
     ]
    }
   ],
   "source": [
    "s = pd.Series([1, 2, 3, 4, 5], index=['A', 'B', 'C', 'D', 'E'])\n",
    "\n",
    "# Accessing a single element by label\n",
    "element = s['B']\n",
    "\n",
    "print('single element by label',element)  \n",
    "print(' ')\n",
    "# Accessing multiple elements by labels\n",
    "subset = s[['A', 'C', 'E']]\n",
    "print('multiple elements by labels\\n', subset)"
   ]
  },
  {
   "cell_type": "code",
   "execution_count": 37,
   "id": "c39951eb",
   "metadata": {},
   "outputs": [
    {
     "name": "stdout",
     "output_type": "stream",
     "text": [
      "single element by position 3\n",
      " \n",
      "multiple elements by positions\n",
      " A    1\n",
      "C    3\n",
      "E    5\n",
      "dtype: int64\n"
     ]
    }
   ],
   "source": [
    "# Accessing a single element by position\n",
    "element = s[2]\n",
    "print('single element by position', element)  \n",
    "print(' ')\n",
    "# Accessing multiple elements by positions\n",
    "subset = s[[0, 2, 4]]\n",
    "print('multiple elements by positions\\n', subset)"
   ]
  },
  {
   "cell_type": "code",
   "execution_count": 38,
   "id": "015b124f",
   "metadata": {},
   "outputs": [
    {
     "name": "stdout",
     "output_type": "stream",
     "text": [
      "single element by label 2\n",
      " \n",
      "multiple elements by labels\n",
      " A    1\n",
      "C    3\n",
      "E    5\n",
      "dtype: int64\n"
     ]
    }
   ],
   "source": [
    "s = pd.Series([1, 2, 3, 4, 5], index=['A', 'B', 'C', 'D', 'E'])\n",
    "\n",
    "# Accessing a single element by label\n",
    "element = s.loc['B']\n",
    "print('single element by label', element)  \n",
    "print(' ')\n",
    "# Accessing multiple elements by labels\n",
    "subset = s.loc[['A', 'C', 'E']]\n",
    "print('multiple elements by labels\\n',subset)"
   ]
  },
  {
   "cell_type": "code",
   "execution_count": 39,
   "id": "81e12862",
   "metadata": {},
   "outputs": [
    {
     "name": "stdout",
     "output_type": "stream",
     "text": [
      "single element by position 3\n",
      " \n",
      "multiple elements by positions/n A    1\n",
      "C    3\n",
      "E    5\n",
      "dtype: int64\n"
     ]
    }
   ],
   "source": [
    "\n",
    "# Accessing a single element by position\n",
    "element = s.iloc[2]\n",
    "print('single element by position',element)  # Output: 3\n",
    "print(' ')\n",
    "# Accessing multiple elements by positions\n",
    "subset = s.iloc[[0, 2, 4]]\n",
    "print('multiple elements by positions/n',subset)"
   ]
  },
  {
   "cell_type": "code",
   "execution_count": null,
   "id": "9f3c9825",
   "metadata": {},
   "outputs": [],
   "source": []
  },
  {
   "cell_type": "code",
   "execution_count": 40,
   "id": "ed7ee684",
   "metadata": {},
   "outputs": [],
   "source": [
    "##############################Arithmetic Operations in Series##################\n"
   ]
  },
  {
   "cell_type": "code",
   "execution_count": 41,
   "id": "94a9ffcd",
   "metadata": {},
   "outputs": [
    {
     "name": "stdout",
     "output_type": "stream",
     "text": [
      "0     3\n",
      "1     7\n",
      "2    11\n",
      "3    15\n",
      "4    19\n",
      "dtype: int64\n"
     ]
    }
   ],
   "source": [
    "# Create two pandas Series\n",
    "s1 = pd.Series([2, 4, 6, 8, 10])\n",
    "s2 = pd.Series([1, 3, 5, 7, 9])\n",
    "\n",
    "# Perform addition operation\n",
    "s3 = s1 + s2\n",
    "\n",
    "# Print the result\n",
    "print(s3)"
   ]
  },
  {
   "cell_type": "code",
   "execution_count": 42,
   "id": "0a9bc41f",
   "metadata": {},
   "outputs": [
    {
     "name": "stdout",
     "output_type": "stream",
     "text": [
      "0    1\n",
      "1    1\n",
      "2    1\n",
      "3    1\n",
      "4    1\n",
      "dtype: int64\n"
     ]
    }
   ],
   "source": [
    "# Create two pandas Series\n",
    "s1 = pd.Series([2, 4, 6, 8, 10])\n",
    "s2 = pd.Series([1, 3, 5, 7, 9])\n",
    "\n",
    "# Perform subtraction operation\n",
    "s3 = s1 - s2\n",
    "\n",
    "# Print the result\n",
    "print(s3)"
   ]
  },
  {
   "cell_type": "code",
   "execution_count": 43,
   "id": "3a42b370",
   "metadata": {},
   "outputs": [
    {
     "name": "stdout",
     "output_type": "stream",
     "text": [
      "0     2\n",
      "1    12\n",
      "2    30\n",
      "3    56\n",
      "4    90\n",
      "dtype: int64\n"
     ]
    }
   ],
   "source": [
    "s1 = pd.Series([2, 4, 6, 8, 10])\n",
    "s2 = pd.Series([1, 3, 5, 7, 9])\n",
    "\n",
    "# Perform multiplication operation\n",
    "s3 = s1 * s2\n",
    "\n",
    "# Print the result\n",
    "print(s3)"
   ]
  },
  {
   "cell_type": "code",
   "execution_count": 44,
   "id": "41303062",
   "metadata": {},
   "outputs": [
    {
     "name": "stdout",
     "output_type": "stream",
     "text": [
      "0    2.0\n",
      "1    2.0\n",
      "2    2.0\n",
      "3    2.0\n",
      "4    2.0\n",
      "dtype: float64\n"
     ]
    }
   ],
   "source": [
    "s1 = pd.Series([2, 4, 6, 8, 10])\n",
    "s2 = pd.Series([1, 2, 3, 4, 5])\n",
    "\n",
    "# Perform division operation\n",
    "s3 = s1 / s2\n",
    "\n",
    "# Print the result\n",
    "print(s3)"
   ]
  },
  {
   "cell_type": "code",
   "execution_count": 45,
   "id": "ca26f075",
   "metadata": {},
   "outputs": [
    {
     "name": "stdout",
     "output_type": "stream",
     "text": [
      "0    0\n",
      "1    0\n",
      "2    0\n",
      "3    1\n",
      "4    0\n",
      "dtype: int64\n"
     ]
    }
   ],
   "source": [
    "s1 = pd.Series([10, 9, 8, 7, 6])\n",
    "s2 = pd.Series([2, 3, 2, 3, 2])\n",
    "\n",
    "# Perform modulo operation\n",
    "s3 = s1 % s2\n",
    "\n",
    "# Print the result\n",
    "print(s3)"
   ]
  },
  {
   "cell_type": "code",
   "execution_count": 46,
   "id": "72320039",
   "metadata": {},
   "outputs": [
    {
     "name": "stdout",
     "output_type": "stream",
     "text": [
      "0     3.0\n",
      "1     7.0\n",
      "2    11.0\n",
      "3     NaN\n",
      "4     NaN\n",
      "dtype: float64\n"
     ]
    }
   ],
   "source": [
    "s1 = pd.Series([2, 4, 6, 8, 10])\n",
    "s2 = pd.Series([1, 3, 5])\n",
    "s3 = s1 + s2\n",
    "print(s3)"
   ]
  },
  {
   "cell_type": "code",
   "execution_count": 47,
   "id": "00035e3f",
   "metadata": {},
   "outputs": [
    {
     "name": "stdout",
     "output_type": "stream",
     "text": [
      "0    ad\n",
      "1    be\n",
      "2    cf\n",
      "dtype: object\n"
     ]
    }
   ],
   "source": [
    "s1 = pd.Series(['a', 'b', 'c'])\n",
    "s2 = pd.Series(['d', 'e', 'f'])\n",
    "s3 = s1 + s2\n",
    "print(s3)"
   ]
  },
  {
   "cell_type": "code",
   "execution_count": 48,
   "id": "c5d6de00",
   "metadata": {},
   "outputs": [
    {
     "name": "stdout",
     "output_type": "stream",
     "text": [
      "a    NaN\n",
      "b    5.0\n",
      "c    9.0\n",
      "d    NaN\n",
      "dtype: float64\n"
     ]
    }
   ],
   "source": [
    "s1 = pd.Series([2, 4, 6], index=['a', 'b', 'c'])\n",
    "s2 = pd.Series([1, 3, 5], index=['b', 'c', 'd'])\n",
    "s3 = s1 + s2\n",
    "print(s3)"
   ]
  },
  {
   "cell_type": "code",
   "execution_count": 49,
   "id": "833164bb",
   "metadata": {},
   "outputs": [
    {
     "name": "stdout",
     "output_type": "stream",
     "text": [
      "0    3.0\n",
      "1    6.0\n",
      "2    9.0\n",
      "dtype: float64\n"
     ]
    }
   ],
   "source": [
    "s1 = pd.Series([2, 4, 6])\n",
    "s2 = pd.Series([1.0, 2.0, 3.0])\n",
    "s3 = s1 + s2\n",
    "print(s3)"
   ]
  },
  {
   "cell_type": "code",
   "execution_count": 50,
   "id": "8fbe5d71",
   "metadata": {},
   "outputs": [
    {
     "name": "stdout",
     "output_type": "stream",
     "text": [
      "0    inf\n",
      "1    inf\n",
      "2    inf\n",
      "dtype: float64\n"
     ]
    }
   ],
   "source": [
    "s1 = pd.Series([2.0, 4.0, 6.0])\n",
    "s2 = pd.Series([0, 0, 0])\n",
    "s3 = s1 / s2\n",
    "print(s3)"
   ]
  },
  {
   "cell_type": "code",
   "execution_count": 51,
   "id": "38da8499",
   "metadata": {},
   "outputs": [],
   "source": [
    "###Broadcasting ##########"
   ]
  },
  {
   "cell_type": "code",
   "execution_count": 52,
   "id": "964dbf21",
   "metadata": {},
   "outputs": [
    {
     "name": "stdout",
     "output_type": "stream",
     "text": [
      "[2 4 6]\n"
     ]
    }
   ],
   "source": [
    "\n",
    "import numpy as np\n",
    "\n",
    "a = np.array([1, 2, 3])\n",
    "b = 2\n",
    "c = a * b\n",
    "print(c) "
   ]
  },
  {
   "cell_type": "code",
   "execution_count": 53,
   "id": "f4e6fcb5",
   "metadata": {},
   "outputs": [
    {
     "name": "stdout",
     "output_type": "stream",
     "text": [
      "0    2\n",
      "1    3\n",
      "2    4\n",
      "3    5\n",
      "4    6\n",
      "dtype: int64\n"
     ]
    }
   ],
   "source": [
    "s = pd.Series([1, 2, 3, 4, 5])\n",
    "\n",
    "# Broadcasting addition\n",
    "result = s + 1\n",
    "print(result)"
   ]
  },
  {
   "cell_type": "code",
   "execution_count": 54,
   "id": "b4d86b91",
   "metadata": {},
   "outputs": [],
   "source": [
    "###############filtering###############"
   ]
  },
  {
   "cell_type": "code",
   "execution_count": 55,
   "id": "32a003e5",
   "metadata": {},
   "outputs": [
    {
     "name": "stdout",
     "output_type": "stream",
     "text": [
      "1    5\n",
      "2    3\n",
      "4    4\n",
      "dtype: int64\n"
     ]
    }
   ],
   "source": [
    "s = pd.Series([1, 5, 3, 9, 4])\n",
    "\n",
    "# Filtering values greater than 2 and less than 7\n",
    "filtered_data = s[(s > 2) & (s < 7)]\n",
    "print(filtered_data)"
   ]
  },
  {
   "cell_type": "code",
   "execution_count": 56,
   "id": "3a7e62e3",
   "metadata": {},
   "outputs": [
    {
     "name": "stdout",
     "output_type": "stream",
     "text": [
      "0     apple\n",
      "1    banana\n",
      "dtype: object\n"
     ]
    }
   ],
   "source": [
    "s = pd.Series(['apple', 'banana', 'cherry', 'kiwi', 'orange'])\n",
    "\n",
    "# Filtering elements equal to \"apple\" or \"banana\"\n",
    "filtered_data = s[(s == 'apple') | (s == 'banana')]\n",
    "print(filtered_data)"
   ]
  },
  {
   "cell_type": "code",
   "execution_count": 57,
   "id": "15b66f1f",
   "metadata": {},
   "outputs": [
    {
     "name": "stdout",
     "output_type": "stream",
     "text": [
      "0    apple\n",
      "3     kiwi\n",
      "dtype: object\n"
     ]
    }
   ],
   "source": [
    "s = pd.Series(['apple', 'banana', 'cherry', 'kiwi', 'orange'])\n",
    "\n",
    "# Filtering elements in ['apple', 'kiwi', 'grape']\n",
    "filtered_data = s[s.isin(['apple', 'kiwi', 'grape'])]\n",
    "print(filtered_data)"
   ]
  },
  {
   "cell_type": "code",
   "execution_count": 58,
   "id": "3a43de6e",
   "metadata": {},
   "outputs": [
    {
     "name": "stdout",
     "output_type": "stream",
     "text": [
      "1    3\n",
      "2    5\n",
      "3    7\n",
      "dtype: int64\n"
     ]
    }
   ],
   "source": [
    "s = pd.Series([1, 3, 5, 7, 9])\n",
    "\n",
    "# Filtering values between 3 and 7\n",
    "filtered_data = s[s.between(3, 7)]\n",
    "print(filtered_data)"
   ]
  },
  {
   "cell_type": "code",
   "execution_count": 59,
   "id": "193a01d6",
   "metadata": {},
   "outputs": [],
   "source": [
    "########### NAN ####################"
   ]
  },
  {
   "cell_type": "code",
   "execution_count": 60,
   "id": "1b5d6e65",
   "metadata": {},
   "outputs": [
    {
     "name": "stdout",
     "output_type": "stream",
     "text": [
      "[ 3.  4. nan  6.  7.]\n"
     ]
    }
   ],
   "source": [
    "\n",
    "\n",
    "arr = np.array([1, 2, np.nan, 4, 5])\n",
    "\n",
    "# Addition\n",
    "result_add = arr + 2\n",
    "print(result_add) "
   ]
  },
  {
   "cell_type": "code",
   "execution_count": 61,
   "id": "3ca36824",
   "metadata": {},
   "outputs": [
    {
     "name": "stdout",
     "output_type": "stream",
     "text": [
      "[ 2.  4. nan  8. 10.]\n"
     ]
    }
   ],
   "source": [
    "# Multiplication\n",
    "result_mul = arr * 2\n",
    "print(result_mul) "
   ]
  },
  {
   "cell_type": "code",
   "execution_count": 62,
   "id": "0017b0bf",
   "metadata": {},
   "outputs": [
    {
     "name": "stdout",
     "output_type": "stream",
     "text": [
      "0    3.0\n",
      "1    4.0\n",
      "2    NaN\n",
      "3    6.0\n",
      "4    7.0\n",
      "dtype: float64\n"
     ]
    }
   ],
   "source": [
    "s = pd.Series([1, 2, np.nan, 4, 5])\n",
    "\n",
    "# Addition\n",
    "result_add = s + 2\n",
    "print(result_add)"
   ]
  },
  {
   "cell_type": "code",
   "execution_count": 63,
   "id": "2deb24e3",
   "metadata": {},
   "outputs": [
    {
     "name": "stdout",
     "output_type": "stream",
     "text": [
      "0     2.0\n",
      "1     4.0\n",
      "2     NaN\n",
      "3     8.0\n",
      "4    10.0\n",
      "dtype: float64\n"
     ]
    }
   ],
   "source": [
    "# Multiplication\n",
    "result_mul = s * 2\n",
    "print(result_mul)"
   ]
  },
  {
   "cell_type": "code",
   "execution_count": 64,
   "id": "18f9b4b0",
   "metadata": {},
   "outputs": [
    {
     "name": "stdout",
     "output_type": "stream",
     "text": [
      "nan\n"
     ]
    }
   ],
   "source": [
    "\n",
    "arr = np.array([1, 2, np.nan, 4, 5])\n",
    "\n",
    "# Mean calculation using np.mean() in NumPy\n",
    "mean_np = np.mean(arr)\n",
    "print(mean_np)  "
   ]
  },
  {
   "cell_type": "code",
   "execution_count": 65,
   "id": "8c1cd5e0",
   "metadata": {},
   "outputs": [
    {
     "name": "stdout",
     "output_type": "stream",
     "text": [
      "nan\n"
     ]
    }
   ],
   "source": [
    "# Median calculation using np.median() in NumPy\n",
    "median_np = np.median(arr)\n",
    "print(median_np)  "
   ]
  },
  {
   "cell_type": "code",
   "execution_count": 66,
   "id": "752a3714",
   "metadata": {},
   "outputs": [
    {
     "name": "stdout",
     "output_type": "stream",
     "text": [
      "3.0\n"
     ]
    }
   ],
   "source": [
    "s = pd.Series([1, 2, np.nan, 4, 5])\n",
    "\n",
    "# Mean calculation using mean() in Pandas Series\n",
    "mean_pd = s.mean()\n",
    "print(mean_pd)  "
   ]
  },
  {
   "cell_type": "code",
   "execution_count": 67,
   "id": "32da85f9",
   "metadata": {},
   "outputs": [
    {
     "name": "stdout",
     "output_type": "stream",
     "text": [
      "3.0\n"
     ]
    }
   ],
   "source": [
    "# Median calculation using median() in Pandas Series\n",
    "median_pd = s.median()\n",
    "print(median_pd) "
   ]
  }
 ],
 "metadata": {
  "kernelspec": {
   "display_name": "Python 3 (ipykernel)",
   "language": "python",
   "name": "python3"
  },
  "language_info": {
   "codemirror_mode": {
    "name": "ipython",
    "version": 3
   },
   "file_extension": ".py",
   "mimetype": "text/x-python",
   "name": "python",
   "nbconvert_exporter": "python",
   "pygments_lexer": "ipython3",
   "version": "3.9.7"
  }
 },
 "nbformat": 4,
 "nbformat_minor": 5
}
