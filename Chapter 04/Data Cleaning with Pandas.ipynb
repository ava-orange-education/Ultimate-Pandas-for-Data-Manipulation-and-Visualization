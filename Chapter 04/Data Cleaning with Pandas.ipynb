{
 "cells": [
  {
   "cell_type": "code",
   "execution_count": 1,
   "id": "46b147bb",
   "metadata": {},
   "outputs": [
    {
     "data": {
      "text/html": [
       "<div>\n",
       "<style scoped>\n",
       "    .dataframe tbody tr th:only-of-type {\n",
       "        vertical-align: middle;\n",
       "    }\n",
       "\n",
       "    .dataframe tbody tr th {\n",
       "        vertical-align: top;\n",
       "    }\n",
       "\n",
       "    .dataframe thead th {\n",
       "        text-align: right;\n",
       "    }\n",
       "</style>\n",
       "<table border=\"1\" class=\"dataframe\">\n",
       "  <thead>\n",
       "    <tr style=\"text-align: right;\">\n",
       "      <th></th>\n",
       "      <th>A</th>\n",
       "      <th>B</th>\n",
       "      <th>C</th>\n",
       "    </tr>\n",
       "  </thead>\n",
       "  <tbody>\n",
       "    <tr>\n",
       "      <th>0</th>\n",
       "      <td>1.0</td>\n",
       "      <td>NaN</td>\n",
       "      <td>10</td>\n",
       "    </tr>\n",
       "    <tr>\n",
       "      <th>1</th>\n",
       "      <td>2.0</td>\n",
       "      <td>6.0</td>\n",
       "      <td>20</td>\n",
       "    </tr>\n",
       "    <tr>\n",
       "      <th>2</th>\n",
       "      <td>NaN</td>\n",
       "      <td>7.0</td>\n",
       "      <td>30</td>\n",
       "    </tr>\n",
       "    <tr>\n",
       "      <th>3</th>\n",
       "      <td>4.0</td>\n",
       "      <td>8.0</td>\n",
       "      <td>40</td>\n",
       "    </tr>\n",
       "    <tr>\n",
       "      <th>4</th>\n",
       "      <td>NaN</td>\n",
       "      <td>NaN</td>\n",
       "      <td>50</td>\n",
       "    </tr>\n",
       "  </tbody>\n",
       "</table>\n",
       "</div>"
      ],
      "text/plain": [
       "     A    B   C\n",
       "0  1.0  NaN  10\n",
       "1  2.0  6.0  20\n",
       "2  NaN  7.0  30\n",
       "3  4.0  8.0  40\n",
       "4  NaN  NaN  50"
      ]
     },
     "execution_count": 1,
     "metadata": {},
     "output_type": "execute_result"
    }
   ],
   "source": [
    "import pandas as pd\n",
    "import numpy as np\n",
    "\n",
    "\n",
    "# Create a DataFrame with missing values\n",
    "data = {\n",
    "    'A': [1, 2, np.nan, 4, None],\n",
    "    'B': [None, 6, 7, 8, np.nan],\n",
    "    'C': [10, 20, 30, 40, 50]\n",
    "}\n",
    "\n",
    "df = pd.DataFrame(data)\n",
    "\n",
    "df"
   ]
  },
  {
   "cell_type": "code",
   "execution_count": 2,
   "id": "f21fa4d4",
   "metadata": {},
   "outputs": [
    {
     "data": {
      "text/html": [
       "<div>\n",
       "<style scoped>\n",
       "    .dataframe tbody tr th:only-of-type {\n",
       "        vertical-align: middle;\n",
       "    }\n",
       "\n",
       "    .dataframe tbody tr th {\n",
       "        vertical-align: top;\n",
       "    }\n",
       "\n",
       "    .dataframe thead th {\n",
       "        text-align: right;\n",
       "    }\n",
       "</style>\n",
       "<table border=\"1\" class=\"dataframe\">\n",
       "  <thead>\n",
       "    <tr style=\"text-align: right;\">\n",
       "      <th></th>\n",
       "      <th>A</th>\n",
       "      <th>B</th>\n",
       "      <th>C</th>\n",
       "    </tr>\n",
       "  </thead>\n",
       "  <tbody>\n",
       "    <tr>\n",
       "      <th>0</th>\n",
       "      <td>False</td>\n",
       "      <td>True</td>\n",
       "      <td>False</td>\n",
       "    </tr>\n",
       "    <tr>\n",
       "      <th>1</th>\n",
       "      <td>False</td>\n",
       "      <td>False</td>\n",
       "      <td>False</td>\n",
       "    </tr>\n",
       "    <tr>\n",
       "      <th>2</th>\n",
       "      <td>True</td>\n",
       "      <td>False</td>\n",
       "      <td>False</td>\n",
       "    </tr>\n",
       "    <tr>\n",
       "      <th>3</th>\n",
       "      <td>False</td>\n",
       "      <td>False</td>\n",
       "      <td>False</td>\n",
       "    </tr>\n",
       "    <tr>\n",
       "      <th>4</th>\n",
       "      <td>True</td>\n",
       "      <td>True</td>\n",
       "      <td>False</td>\n",
       "    </tr>\n",
       "  </tbody>\n",
       "</table>\n",
       "</div>"
      ],
      "text/plain": [
       "       A      B      C\n",
       "0  False   True  False\n",
       "1  False  False  False\n",
       "2   True  False  False\n",
       "3  False  False  False\n",
       "4   True   True  False"
      ]
     },
     "execution_count": 2,
     "metadata": {},
     "output_type": "execute_result"
    }
   ],
   "source": [
    "# Use isna() to detect missing values in the DataFrame\n",
    "missing_data = df.isna()\n",
    "    \n",
    "missing_data"
   ]
  },
  {
   "cell_type": "code",
   "execution_count": 3,
   "id": "8e714cbe",
   "metadata": {},
   "outputs": [
    {
     "data": {
      "text/html": [
       "<div>\n",
       "<style scoped>\n",
       "    .dataframe tbody tr th:only-of-type {\n",
       "        vertical-align: middle;\n",
       "    }\n",
       "\n",
       "    .dataframe tbody tr th {\n",
       "        vertical-align: top;\n",
       "    }\n",
       "\n",
       "    .dataframe thead th {\n",
       "        text-align: right;\n",
       "    }\n",
       "</style>\n",
       "<table border=\"1\" class=\"dataframe\">\n",
       "  <thead>\n",
       "    <tr style=\"text-align: right;\">\n",
       "      <th></th>\n",
       "      <th>A</th>\n",
       "      <th>B</th>\n",
       "      <th>C</th>\n",
       "    </tr>\n",
       "  </thead>\n",
       "  <tbody>\n",
       "    <tr>\n",
       "      <th>0</th>\n",
       "      <td>False</td>\n",
       "      <td>True</td>\n",
       "      <td>False</td>\n",
       "    </tr>\n",
       "    <tr>\n",
       "      <th>1</th>\n",
       "      <td>False</td>\n",
       "      <td>False</td>\n",
       "      <td>False</td>\n",
       "    </tr>\n",
       "    <tr>\n",
       "      <th>2</th>\n",
       "      <td>True</td>\n",
       "      <td>False</td>\n",
       "      <td>False</td>\n",
       "    </tr>\n",
       "    <tr>\n",
       "      <th>3</th>\n",
       "      <td>False</td>\n",
       "      <td>False</td>\n",
       "      <td>False</td>\n",
       "    </tr>\n",
       "    <tr>\n",
       "      <th>4</th>\n",
       "      <td>True</td>\n",
       "      <td>True</td>\n",
       "      <td>False</td>\n",
       "    </tr>\n",
       "  </tbody>\n",
       "</table>\n",
       "</div>"
      ],
      "text/plain": [
       "       A      B      C\n",
       "0  False   True  False\n",
       "1  False  False  False\n",
       "2   True  False  False\n",
       "3  False  False  False\n",
       "4   True   True  False"
      ]
     },
     "execution_count": 3,
     "metadata": {},
     "output_type": "execute_result"
    }
   ],
   "source": [
    "# Use isnull() to detect missing values in the DataFrame\n",
    "missing_data = df.isnull()\n",
    "\n",
    "missing_data"
   ]
  },
  {
   "cell_type": "code",
   "execution_count": 4,
   "id": "d05b1e75",
   "metadata": {},
   "outputs": [
    {
     "data": {
      "text/html": [
       "<div>\n",
       "<style scoped>\n",
       "    .dataframe tbody tr th:only-of-type {\n",
       "        vertical-align: middle;\n",
       "    }\n",
       "\n",
       "    .dataframe tbody tr th {\n",
       "        vertical-align: top;\n",
       "    }\n",
       "\n",
       "    .dataframe thead th {\n",
       "        text-align: right;\n",
       "    }\n",
       "</style>\n",
       "<table border=\"1\" class=\"dataframe\">\n",
       "  <thead>\n",
       "    <tr style=\"text-align: right;\">\n",
       "      <th></th>\n",
       "      <th>A</th>\n",
       "      <th>B</th>\n",
       "      <th>C</th>\n",
       "    </tr>\n",
       "  </thead>\n",
       "  <tbody>\n",
       "    <tr>\n",
       "      <th>0</th>\n",
       "      <td>True</td>\n",
       "      <td>False</td>\n",
       "      <td>True</td>\n",
       "    </tr>\n",
       "    <tr>\n",
       "      <th>1</th>\n",
       "      <td>True</td>\n",
       "      <td>True</td>\n",
       "      <td>True</td>\n",
       "    </tr>\n",
       "    <tr>\n",
       "      <th>2</th>\n",
       "      <td>False</td>\n",
       "      <td>True</td>\n",
       "      <td>True</td>\n",
       "    </tr>\n",
       "    <tr>\n",
       "      <th>3</th>\n",
       "      <td>True</td>\n",
       "      <td>True</td>\n",
       "      <td>True</td>\n",
       "    </tr>\n",
       "    <tr>\n",
       "      <th>4</th>\n",
       "      <td>False</td>\n",
       "      <td>False</td>\n",
       "      <td>True</td>\n",
       "    </tr>\n",
       "  </tbody>\n",
       "</table>\n",
       "</div>"
      ],
      "text/plain": [
       "       A      B     C\n",
       "0   True  False  True\n",
       "1   True   True  True\n",
       "2  False   True  True\n",
       "3   True   True  True\n",
       "4  False  False  True"
      ]
     },
     "execution_count": 4,
     "metadata": {},
     "output_type": "execute_result"
    }
   ],
   "source": [
    "# Use notnull() to detect non-missing values in the DataFrame\n",
    "not_missing_data = df.notnull()\n",
    "not_missing_data"
   ]
  },
  {
   "cell_type": "code",
   "execution_count": 5,
   "id": "19461e15",
   "metadata": {},
   "outputs": [
    {
     "name": "stdout",
     "output_type": "stream",
     "text": [
      "Original DataFrame:\n",
      "     A    B   C\n",
      "0  1.0  NaN  10\n",
      "1  2.0  6.0  20\n",
      "2  NaN  7.0  30\n",
      "3  4.0  8.0  40\n",
      "4  NaN  NaN  50\n"
     ]
    }
   ],
   "source": [
    "# Create a DataFrame with missing values\n",
    "data = {\n",
    "    'A': [1, 2, np.nan, 4, None],\n",
    "    'B': [None, 6, 7, 8, np.nan],\n",
    "    'C': [10, 20, 30, 40, 50]\n",
    "}\n",
    "\n",
    "df = pd.DataFrame(data)\n",
    "\n",
    "\n",
    "\n",
    "print(\"Original DataFrame:\")\n",
    "print(df)\n"
   ]
  },
  {
   "cell_type": "code",
   "execution_count": 6,
   "id": "3fe7b1cf",
   "metadata": {},
   "outputs": [
    {
     "name": "stdout",
     "output_type": "stream",
     "text": [
      "\n",
      "DataFrame after dropping rows with missing values:\n",
      "     A    B   C\n",
      "1  2.0  6.0  20\n",
      "3  4.0  8.0  40\n"
     ]
    }
   ],
   "source": [
    "# Using dropna() to remove rows with missing values\n",
    "df_dropped = df.dropna()\n",
    "print(\"\\nDataFrame after dropping rows with missing values:\")\n",
    "print(df_dropped)"
   ]
  },
  {
   "cell_type": "code",
   "execution_count": 7,
   "id": "40c96ded",
   "metadata": {},
   "outputs": [
    {
     "name": "stdout",
     "output_type": "stream",
     "text": [
      "Original DataFrame:\n",
      "     A    B   C\n",
      "0  1.0  NaN  10\n",
      "1  2.0  6.0  20\n",
      "2  NaN  7.0  30\n",
      "3  4.0  8.0  40\n",
      "4  NaN  NaN  50\n"
     ]
    }
   ],
   "source": [
    "# Create a DataFrame with missing values\n",
    "data = {\n",
    "    'A': [1, 2, np.nan, 4, None],\n",
    "    'B': [None, 6, 7, 8, np.nan],\n",
    "    'C': [10, 20, 30, 40, 50]\n",
    "}\n",
    "\n",
    "df = pd.DataFrame(data)\n",
    "\n",
    "\n",
    "print(\"Original DataFrame:\")\n",
    "print(df)"
   ]
  },
  {
   "cell_type": "code",
   "execution_count": 8,
   "id": "c791527b",
   "metadata": {},
   "outputs": [
    {
     "name": "stdout",
     "output_type": "stream",
     "text": [
      "\n",
      "DataFrame after dropping rows with missing values in column 'A' and 'B':\n",
      "     A    B   C\n",
      "1  2.0  6.0  20\n",
      "3  4.0  8.0  40\n"
     ]
    }
   ],
   "source": [
    "    # Using dropna() to remove rows with missing values in column 'A' and 'B'\n",
    "    df_dropped_subset = df.dropna(subset=['A', 'B'])\n",
    "\n",
    "\n",
    "    print(\"\\nDataFrame after dropping rows with missing values in column 'A' and 'B':\")\n",
    "    print(df_dropped_subset)"
   ]
  },
  {
   "cell_type": "code",
   "execution_count": 9,
   "id": "e497c8f6",
   "metadata": {},
   "outputs": [
    {
     "name": "stdout",
     "output_type": "stream",
     "text": [
      "Original DataFrame:\n",
      "     A     B\n",
      "0  1.0   NaN\n",
      "1  2.0  10.0\n",
      "2  NaN  20.0\n",
      "3  4.0   NaN\n",
      "4  5.0  50.0\n"
     ]
    }
   ],
   "source": [
    "# Sample data with missing values\n",
    "data = {'A': [1, 2, None, 4, 5],\n",
    "        'B': [None, 10, 20, None, 50]}\n",
    "df = pd.DataFrame(data)\n",
    "\n",
    "print(\"Original DataFrame:\")\n",
    "print(df)"
   ]
  },
  {
   "cell_type": "code",
   "execution_count": 10,
   "id": "88daaba5",
   "metadata": {},
   "outputs": [
    {
     "name": "stdout",
     "output_type": "stream",
     "text": [
      "\n",
      "DataFrame with Missing Values Filled by Constant (0):\n",
      "     A     B\n",
      "0  1.0   0.0\n",
      "1  2.0  10.0\n",
      "2  0.0  20.0\n",
      "3  4.0   0.0\n",
      "4  5.0  50.0\n"
     ]
    }
   ],
   "source": [
    "# Fill missing values in the DataFrame with a constant value, e.g., 0\n",
    "constant_filled_df = df.fillna(0)\n",
    "\n",
    "print(\"\\nDataFrame with Missing Values Filled by Constant (0):\")\n",
    "print(constant_filled_df)"
   ]
  },
  {
   "cell_type": "code",
   "execution_count": 11,
   "id": "33410e7e",
   "metadata": {},
   "outputs": [
    {
     "name": "stdout",
     "output_type": "stream",
     "text": [
      "Original DataFrame:\n",
      "     A     B\n",
      "0  1.0   NaN\n",
      "1  2.0  10.0\n",
      "2  NaN  20.0\n",
      "3  4.0   NaN\n",
      "4  5.0  50.0\n"
     ]
    }
   ],
   "source": [
    "# Sample data with missing values\n",
    "data = {'A': [1, 2, None, 4, 5],\n",
    "        'B': [None, 10, 20, None, 50]}\n",
    "df = pd.DataFrame(data)\n",
    "\n",
    "\n",
    "print(\"Original DataFrame:\")\n",
    "print(df)\n",
    "\n"
   ]
  },
  {
   "cell_type": "code",
   "execution_count": 12,
   "id": "74262967",
   "metadata": {},
   "outputs": [],
   "source": [
    "# Fill missing values in column 'A' with the mean of non-missing values in column 'A'\n",
    "mean_filled_df_A = df.copy()\n",
    "mean_filled_df_A['A'] = df['A'].fillna(df['A'].mean())\n"
   ]
  },
  {
   "cell_type": "code",
   "execution_count": 13,
   "id": "104aa35c",
   "metadata": {},
   "outputs": [],
   "source": [
    "# Fill missing values in column 'B' with the median of non-missing values in column 'B'\n",
    "median_filled_df_B = df.copy()\n",
    "median_filled_df_B['B'] = df['B'].fillna(df['B'].median())\n"
   ]
  },
  {
   "cell_type": "code",
   "execution_count": 14,
   "id": "2e142c59",
   "metadata": {},
   "outputs": [
    {
     "name": "stdout",
     "output_type": "stream",
     "text": [
      "\n",
      "DataFrame with Missing Values Filled by Mean:\n",
      "     A     B\n",
      "0  1.0   NaN\n",
      "1  2.0  10.0\n",
      "2  3.0  20.0\n",
      "3  4.0   NaN\n",
      "4  5.0  50.0\n"
     ]
    }
   ],
   "source": [
    "print(\"\\nDataFrame with Missing Values Filled by Mean:\")\n",
    "print(mean_filled_df_A)\n"
   ]
  },
  {
   "cell_type": "code",
   "execution_count": 15,
   "id": "07379ebb",
   "metadata": {},
   "outputs": [
    {
     "name": "stdout",
     "output_type": "stream",
     "text": [
      "\n",
      "DataFrame with Missing Values Filled by Median:\n",
      "     A     B\n",
      "0  1.0  20.0\n",
      "1  2.0  10.0\n",
      "2  NaN  20.0\n",
      "3  4.0  20.0\n",
      "4  5.0  50.0\n"
     ]
    }
   ],
   "source": [
    "\n",
    "print(\"\\nDataFrame with Missing Values Filled by Median:\")\n",
    "print(median_filled_df_B)"
   ]
  },
  {
   "cell_type": "code",
   "execution_count": 16,
   "id": "df20d369",
   "metadata": {},
   "outputs": [
    {
     "name": "stdout",
     "output_type": "stream",
     "text": [
      "Original DataFrame:\n",
      "   Country\n",
      "0      USA\n",
      "1   Canada\n",
      "2     None\n",
      "3  Germany\n",
      "4     None\n",
      "5    India\n"
     ]
    }
   ],
   "source": [
    "# Sample data with missing country name\n",
    "data = {'Country': ['USA', 'Canada', None, 'Germany', None, 'India']}\n",
    "df = pd.DataFrame(data)\n",
    "\n",
    "print(\"Original DataFrame:\")\n",
    "print(df)\n",
    "\n"
   ]
  },
  {
   "cell_type": "code",
   "execution_count": 17,
   "id": "7cb9fe53",
   "metadata": {},
   "outputs": [
    {
     "name": "stdout",
     "output_type": "stream",
     "text": [
      "\n",
      "DataFrame with Missing Country Names Filled by 'Unknown':\n",
      "0        USA\n",
      "1     Canada\n",
      "2    Unknown\n",
      "3    Germany\n",
      "4    Unknown\n",
      "5      India\n",
      "Name: Country, dtype: object\n"
     ]
    }
   ],
   "source": [
    "# Fill missing country names with a specific category 'Unknown'\n",
    "specific_filled_df = df['Country'].fillna('Unknown')\n",
    "\n",
    "print(\"\\nDataFrame with Missing Country Names Filled by 'Unknown':\")\n",
    "print(specific_filled_df)"
   ]
  },
  {
   "cell_type": "code",
   "execution_count": 18,
   "id": "31fd3b22",
   "metadata": {},
   "outputs": [
    {
     "name": "stdout",
     "output_type": "stream",
     "text": [
      "\n",
      "Mode of 'Country' column: Canada\n"
     ]
    }
   ],
   "source": [
    "# Calculate the mode of the 'Country' column\n",
    "mode_country = df['Country'].mode()[0]\n",
    "\n",
    "print(\"\\nMode of 'Country' column:\", mode_country)\n",
    "\n"
   ]
  },
  {
   "cell_type": "code",
   "execution_count": 19,
   "id": "b3754df7",
   "metadata": {},
   "outputs": [
    {
     "name": "stdout",
     "output_type": "stream",
     "text": [
      "\n",
      "DataFrame with Missing Country Names Filled by Mode:\n",
      "0        USA\n",
      "1     Canada\n",
      "2     Canada\n",
      "3    Germany\n",
      "4     Canada\n",
      "5      India\n",
      "Name: Country, dtype: object\n"
     ]
    }
   ],
   "source": [
    "# Fill missing country names with the mode\n",
    "mode_filled_df = df['Country'].fillna(mode_country)\n",
    "\n",
    "print(\"\\nDataFrame with Missing Country Names Filled by Mode:\")\n",
    "print(mode_filled_df)"
   ]
  },
  {
   "cell_type": "code",
   "execution_count": 20,
   "id": "c1bb34e4",
   "metadata": {},
   "outputs": [
    {
     "name": "stdout",
     "output_type": "stream",
     "text": [
      "Original DataFrame:\n",
      "     A     B\n",
      "0  1.0   3.0\n",
      "1  2.0   NaN\n",
      "2  NaN   7.0\n",
      "3  4.0   NaN\n",
      "4  NaN  11.0\n",
      "5  6.0  13.0\n"
     ]
    }
   ],
   "source": [
    "data = {\n",
    "    'A': [1, 2, None, 4, None, 6],\n",
    "    'B': [3, None, 7, None, 11, 13]\n",
    "}\n",
    "\n",
    "df = pd.DataFrame(data)\n",
    "print(\"Original DataFrame:\")\n",
    "print(df)"
   ]
  },
  {
   "cell_type": "code",
   "execution_count": 21,
   "id": "c9b9bfaf",
   "metadata": {},
   "outputs": [
    {
     "name": "stdout",
     "output_type": "stream",
     "text": [
      "\n",
      "DataFrame with Missing Values Filled by Forward Fill (Ffill):\n",
      "     A     B\n",
      "0  1.0   3.0\n",
      "1  2.0   3.0\n",
      "2  2.0   7.0\n",
      "3  4.0   7.0\n",
      "4  4.0  11.0\n",
      "5  6.0  13.0\n"
     ]
    }
   ],
   "source": [
    "# Fill missing values using forward fill (ffill)\n",
    "forward_filled_df = df.ffill()\n",
    "print(\"\\nDataFrame with Missing Values Filled by Forward Fill (Ffill):\")\n",
    "print(forward_filled_df)"
   ]
  },
  {
   "cell_type": "code",
   "execution_count": 22,
   "id": "cb605846",
   "metadata": {},
   "outputs": [
    {
     "name": "stdout",
     "output_type": "stream",
     "text": [
      "Original DataFrame:\n",
      "     A     B\n",
      "0  1.0   3.0\n",
      "1  2.0   NaN\n",
      "2  NaN   7.0\n",
      "3  4.0   NaN\n",
      "4  NaN  11.0\n",
      "5  6.0  13.0\n",
      "\n",
      "DataFrame with Missing Values Filled by Backward Fill (Bfill):\n",
      "     A     B\n",
      "0  1.0   3.0\n",
      "1  2.0   7.0\n",
      "2  4.0   7.0\n",
      "3  4.0  11.0\n",
      "4  6.0  11.0\n",
      "5  6.0  13.0\n"
     ]
    }
   ],
   "source": [
    "# Fill missing values using backward fill (bfill)\n",
    "backward_filled_df = df.bfill()\n",
    "\n",
    "print(\"Original DataFrame:\")\n",
    "print(df)\n",
    "\n",
    "print(\"\\nDataFrame with Missing Values Filled by Backward Fill (Bfill):\")\n",
    "print(backward_filled_df)"
   ]
  },
  {
   "cell_type": "code",
   "execution_count": 23,
   "id": "304eb7ad",
   "metadata": {},
   "outputs": [
    {
     "data": {
      "text/html": [
       "<div>\n",
       "<style scoped>\n",
       "    .dataframe tbody tr th:only-of-type {\n",
       "        vertical-align: middle;\n",
       "    }\n",
       "\n",
       "    .dataframe tbody tr th {\n",
       "        vertical-align: top;\n",
       "    }\n",
       "\n",
       "    .dataframe thead th {\n",
       "        text-align: right;\n",
       "    }\n",
       "</style>\n",
       "<table border=\"1\" class=\"dataframe\">\n",
       "  <thead>\n",
       "    <tr style=\"text-align: right;\">\n",
       "      <th></th>\n",
       "      <th>A</th>\n",
       "      <th>B</th>\n",
       "    </tr>\n",
       "  </thead>\n",
       "  <tbody>\n",
       "    <tr>\n",
       "      <th>0</th>\n",
       "      <td>1.0</td>\n",
       "      <td>5.0</td>\n",
       "    </tr>\n",
       "    <tr>\n",
       "      <th>1</th>\n",
       "      <td>2.0</td>\n",
       "      <td>NaN</td>\n",
       "    </tr>\n",
       "    <tr>\n",
       "      <th>2</th>\n",
       "      <td>NaN</td>\n",
       "      <td>7.0</td>\n",
       "    </tr>\n",
       "    <tr>\n",
       "      <th>3</th>\n",
       "      <td>4.0</td>\n",
       "      <td>8.0</td>\n",
       "    </tr>\n",
       "    <tr>\n",
       "      <th>4</th>\n",
       "      <td>NaN</td>\n",
       "      <td>9.0</td>\n",
       "    </tr>\n",
       "  </tbody>\n",
       "</table>\n",
       "</div>"
      ],
      "text/plain": [
       "     A    B\n",
       "0  1.0  5.0\n",
       "1  2.0  NaN\n",
       "2  NaN  7.0\n",
       "3  4.0  8.0\n",
       "4  NaN  9.0"
      ]
     },
     "execution_count": 23,
     "metadata": {},
     "output_type": "execute_result"
    }
   ],
   "source": [
    "# Sample data with missing values\n",
    "data = pd.DataFrame({'A': [1, 2, np.nan, 4, np.nan], 'B': [5, np.nan, 7, 8, 9]})\n",
    "data"
   ]
  },
  {
   "cell_type": "code",
   "execution_count": 24,
   "id": "4ed774a1",
   "metadata": {},
   "outputs": [
    {
     "name": "stdout",
     "output_type": "stream",
     "text": [
      "Linear Interpolation:\n",
      "     A    B\n",
      "0  1.0  5.0\n",
      "1  2.0  6.0\n",
      "2  3.0  7.0\n",
      "3  4.0  8.0\n",
      "4  4.0  9.0\n"
     ]
    }
   ],
   "source": [
    "# Linear interpolation\n",
    "data_linear_interpolated = data.interpolate(method='linear')\n",
    "\n",
    "print(\"Linear Interpolation:\")\n",
    "print(data_linear_interpolated)"
   ]
  },
  {
   "cell_type": "code",
   "execution_count": 25,
   "id": "51f81b83",
   "metadata": {},
   "outputs": [
    {
     "name": "stdout",
     "output_type": "stream",
     "text": [
      "Time-Series Data with Missing Values:\n",
      "2023-01-01    10.0\n",
      "2023-01-02     NaN\n",
      "2023-01-03    30.0\n",
      "2023-01-04     NaN\n",
      "2023-01-05    50.0\n",
      "Freq: D, dtype: float64\n"
     ]
    }
   ],
   "source": [
    "# Sample time-series data with missing values\n",
    "time_index = pd.date_range(start='2023-01-01', periods=5, freq='D')\n",
    "time_series_data = pd.Series([10, np.nan, 30, np.nan, 50], index=time_index)\n",
    "\n",
    "print(\"Time-Series Data with Missing Values:\")\n",
    "print(time_series_data)"
   ]
  },
  {
   "cell_type": "code",
   "execution_count": null,
   "id": "f926b416",
   "metadata": {},
   "outputs": [],
   "source": []
  },
  {
   "cell_type": "code",
   "execution_count": 26,
   "id": "f73293eb",
   "metadata": {},
   "outputs": [
    {
     "data": {
      "text/html": [
       "<div>\n",
       "<style scoped>\n",
       "    .dataframe tbody tr th:only-of-type {\n",
       "        vertical-align: middle;\n",
       "    }\n",
       "\n",
       "    .dataframe tbody tr th {\n",
       "        vertical-align: top;\n",
       "    }\n",
       "\n",
       "    .dataframe thead th {\n",
       "        text-align: right;\n",
       "    }\n",
       "</style>\n",
       "<table border=\"1\" class=\"dataframe\">\n",
       "  <thead>\n",
       "    <tr style=\"text-align: right;\">\n",
       "      <th></th>\n",
       "      <th>ID</th>\n",
       "      <th>Name</th>\n",
       "      <th>Age</th>\n",
       "    </tr>\n",
       "  </thead>\n",
       "  <tbody>\n",
       "    <tr>\n",
       "      <th>0</th>\n",
       "      <td>1</td>\n",
       "      <td>Alice</td>\n",
       "      <td>25</td>\n",
       "    </tr>\n",
       "    <tr>\n",
       "      <th>1</th>\n",
       "      <td>2</td>\n",
       "      <td>Bob</td>\n",
       "      <td>30</td>\n",
       "    </tr>\n",
       "    <tr>\n",
       "      <th>2</th>\n",
       "      <td>3</td>\n",
       "      <td>Charlie</td>\n",
       "      <td>22</td>\n",
       "    </tr>\n",
       "    <tr>\n",
       "      <th>3</th>\n",
       "      <td>4</td>\n",
       "      <td>David</td>\n",
       "      <td>28</td>\n",
       "    </tr>\n",
       "    <tr>\n",
       "      <th>4</th>\n",
       "      <td>1</td>\n",
       "      <td>Alice</td>\n",
       "      <td>25</td>\n",
       "    </tr>\n",
       "    <tr>\n",
       "      <th>5</th>\n",
       "      <td>5</td>\n",
       "      <td>Eve</td>\n",
       "      <td>29</td>\n",
       "    </tr>\n",
       "    <tr>\n",
       "      <th>6</th>\n",
       "      <td>2</td>\n",
       "      <td>Bob</td>\n",
       "      <td>30</td>\n",
       "    </tr>\n",
       "  </tbody>\n",
       "</table>\n",
       "</div>"
      ],
      "text/plain": [
       "   ID     Name  Age\n",
       "0   1    Alice   25\n",
       "1   2      Bob   30\n",
       "2   3  Charlie   22\n",
       "3   4    David   28\n",
       "4   1    Alice   25\n",
       "5   5      Eve   29\n",
       "6   2      Bob   30"
      ]
     },
     "execution_count": 26,
     "metadata": {},
     "output_type": "execute_result"
    }
   ],
   "source": [
    "# Sample data with duplicates\n",
    "data = {\n",
    "    'ID': [1, 2, 3, 4, 1, 5, 2],\n",
    "    'Name': ['Alice', 'Bob', 'Charlie', 'David', 'Alice', 'Eve', 'Bob'],\n",
    "    'Age': [25, 30, 22, 28, 25, 29, 30]\n",
    "}\n",
    "\n",
    "df = pd.DataFrame(data)\n",
    "\n",
    "df"
   ]
  },
  {
   "cell_type": "code",
   "execution_count": 27,
   "id": "29be10b5",
   "metadata": {},
   "outputs": [
    {
     "name": "stdout",
     "output_type": "stream",
     "text": [
      "0    False\n",
      "1    False\n",
      "2    False\n",
      "3    False\n",
      "4     True\n",
      "5    False\n",
      "6     True\n",
      "dtype: bool\n"
     ]
    }
   ],
   "source": [
    "# Using duplicated() to detect duplicate rows\n",
    "duplicates = df.duplicated()\n",
    "\n",
    "print(duplicates)"
   ]
  },
  {
   "cell_type": "code",
   "execution_count": 28,
   "id": "9f9c46d6",
   "metadata": {},
   "outputs": [
    {
     "name": "stdout",
     "output_type": "stream",
     "text": [
      "0    False\n",
      "1    False\n",
      "2    False\n",
      "3    False\n",
      "4     True\n",
      "5    False\n",
      "6     True\n",
      "dtype: bool\n"
     ]
    }
   ],
   "source": [
    "duplicates_subset = df.duplicated(subset=['ID', 'Name'])\n",
    "\n",
    "print(duplicates_subset)"
   ]
  },
  {
   "cell_type": "code",
   "execution_count": 29,
   "id": "bb259f85",
   "metadata": {},
   "outputs": [
    {
     "name": "stdout",
     "output_type": "stream",
     "text": [
      "   ID     Name  Age\n",
      "0   1    Alice   25\n",
      "1   2      Bob   30\n",
      "2   3  Charlie   22\n",
      "3   4    David   28\n",
      "5   5      Eve   29\n"
     ]
    }
   ],
   "source": [
    "\n",
    "# Using drop_duplicates() to remove duplicate rows\n",
    "df_no_duplicates = df.drop_duplicates()\n",
    "\n",
    "print(df_no_duplicates)"
   ]
  },
  {
   "cell_type": "code",
   "execution_count": null,
   "id": "0e37562f",
   "metadata": {},
   "outputs": [],
   "source": []
  }
 ],
 "metadata": {
  "kernelspec": {
   "display_name": "Python 3 (ipykernel)",
   "language": "python",
   "name": "python3"
  },
  "language_info": {
   "codemirror_mode": {
    "name": "ipython",
    "version": 3
   },
   "file_extension": ".py",
   "mimetype": "text/x-python",
   "name": "python",
   "nbconvert_exporter": "python",
   "pygments_lexer": "ipython3",
   "version": "3.9.7"
  }
 },
 "nbformat": 4,
 "nbformat_minor": 5
}
