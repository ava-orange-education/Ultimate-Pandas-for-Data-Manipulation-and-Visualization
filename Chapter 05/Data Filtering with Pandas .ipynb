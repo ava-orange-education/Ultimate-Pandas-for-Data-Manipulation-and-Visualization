{
 "cells": [
  {
   "cell_type": "code",
   "execution_count": 1,
   "id": "0236df90",
   "metadata": {},
   "outputs": [],
   "source": [
    "import pandas as pd\n",
    "from sklearn.datasets import load_boston\n"
   ]
  },
  {
   "cell_type": "code",
   "execution_count": 2,
   "id": "a160d4cf",
   "metadata": {},
   "outputs": [
    {
     "name": "stdout",
     "output_type": "stream",
     "text": [
      "      CRIM    ZN  INDUS  CHAS    NOX     RM   AGE     DIS  RAD    TAX  \\\n",
      "0  0.00632  18.0   2.31   0.0  0.538  6.575  65.2  4.0900  1.0  296.0   \n",
      "1  0.02731   0.0   7.07   0.0  0.469  6.421  78.9  4.9671  2.0  242.0   \n",
      "2  0.02729   0.0   7.07   0.0  0.469  7.185  61.1  4.9671  2.0  242.0   \n",
      "3  0.03237   0.0   2.18   0.0  0.458  6.998  45.8  6.0622  3.0  222.0   \n",
      "4  0.06905   0.0   2.18   0.0  0.458  7.147  54.2  6.0622  3.0  222.0   \n",
      "\n",
      "   PTRATIO       B  LSTAT  MEDV  \n",
      "0     15.3  396.90   4.98  24.0  \n",
      "1     17.8  396.90   9.14  21.6  \n",
      "2     17.8  392.83   4.03  34.7  \n",
      "3     18.7  394.63   2.94  33.4  \n",
      "4     18.7  396.90   5.33  36.2  \n"
     ]
    }
   ],
   "source": [
    "\n",
    "# Load the Boston Housing Dataset\n",
    "boston = load_boston()\n",
    "\n",
    "# Create a DataFrame from the dataset\n",
    "df = pd.DataFrame(boston.data, columns=boston.feature_names)\n",
    "# Add the target column (median house prices) to the DataFrame\n",
    "df['MEDV'] = boston.target\n",
    "\n",
    "# Display the first few rows of the DataFrame\n",
    "print(df.head())"
   ]
  },
  {
   "cell_type": "code",
   "execution_count": 3,
   "id": "defecfa2",
   "metadata": {},
   "outputs": [
    {
     "name": "stdout",
     "output_type": "stream",
     "text": [
      "0    0.00632\n",
      "1    0.02731\n",
      "2    0.02729\n",
      "3    0.03237\n",
      "4    0.06905\n",
      "Name: CRIM, dtype: float64\n"
     ]
    }
   ],
   "source": [
    "# Filtering the 'CRIM' column\n",
    "filtered_single_column = df['CRIM']\n",
    "\n",
    "# Display the filtered_single_column\n",
    "print(filtered_single_column.head())"
   ]
  },
  {
   "cell_type": "code",
   "execution_count": 4,
   "id": "aa5dd417",
   "metadata": {},
   "outputs": [
    {
     "name": "stdout",
     "output_type": "stream",
     "text": [
      "      CRIM    ZN\n",
      "0  0.00632  18.0\n",
      "1  0.02731   0.0\n",
      "2  0.02729   0.0\n",
      "3  0.03237   0.0\n",
      "4  0.06905   0.0\n"
     ]
    }
   ],
   "source": [
    "# Filtering using multiple columns 'CRIM' and 'ZN'\n",
    "filtered_columns = df[['CRIM', 'ZN']]\n",
    "\n",
    "print(filtered_columns.head())"
   ]
  },
  {
   "cell_type": "code",
   "execution_count": 5,
   "id": "84c30e96",
   "metadata": {},
   "outputs": [
    {
     "name": "stdout",
     "output_type": "stream",
     "text": [
      "        CRIM   ZN  INDUS  CHAS    NOX     RM    AGE     DIS  RAD    TAX  \\\n",
      "142  3.32105  0.0  19.58   1.0  0.871  5.403  100.0  1.3216  5.0  403.0   \n",
      "152  1.12658  0.0  19.58   1.0  0.871  5.012   88.0  1.6102  5.0  403.0   \n",
      "154  1.41385  0.0  19.58   1.0  0.871  6.129   96.0  1.7494  5.0  403.0   \n",
      "155  3.53501  0.0  19.58   1.0  0.871  6.152   82.6  1.7455  5.0  403.0   \n",
      "160  1.27346  0.0  19.58   1.0  0.605  6.250   92.6  1.7984  5.0  403.0   \n",
      "\n",
      "     PTRATIO       B  LSTAT  MEDV  \n",
      "142     14.7  396.90  26.82  13.4  \n",
      "152     14.7  343.28  12.12  15.3  \n",
      "154     14.7  321.02  15.12  17.0  \n",
      "155     14.7   88.01  15.02  15.6  \n",
      "160     14.7  338.92   5.50  27.0  \n"
     ]
    }
   ],
   "source": [
    "# Filtering rows where 'CHAS' is equal to 1\n",
    "filtered_by_chas = df[df['CHAS'] == 1]\n",
    "\n",
    "print(filtered_by_chas.head())"
   ]
  },
  {
   "cell_type": "code",
   "execution_count": 6,
   "id": "5c73d479",
   "metadata": {},
   "outputs": [
    {
     "name": "stdout",
     "output_type": "stream",
     "text": [
      "      CRIM    ZN  INDUS  CHAS    NOX     RM   AGE     DIS  RAD    TAX  \\\n",
      "0  0.00632  18.0   2.31   0.0  0.538  6.575  65.2  4.0900  1.0  296.0   \n",
      "1  0.02731   0.0   7.07   0.0  0.469  6.421  78.9  4.9671  2.0  242.0   \n",
      "2  0.02729   0.0   7.07   0.0  0.469  7.185  61.1  4.9671  2.0  242.0   \n",
      "3  0.03237   0.0   2.18   0.0  0.458  6.998  45.8  6.0622  3.0  222.0   \n",
      "4  0.06905   0.0   2.18   0.0  0.458  7.147  54.2  6.0622  3.0  222.0   \n",
      "\n",
      "   PTRATIO       B  LSTAT  MEDV  \n",
      "0     15.3  396.90   4.98  24.0  \n",
      "1     17.8  396.90   9.14  21.6  \n",
      "2     17.8  392.83   4.03  34.7  \n",
      "3     18.7  394.63   2.94  33.4  \n",
      "4     18.7  396.90   5.33  36.2  \n"
     ]
    }
   ],
   "source": [
    "# Filter rows where 'RM' (average number of rooms per dwelling) is greater than 6\n",
    "filtered_greater_than = df[df['RM'] > 6]\n",
    "\n",
    "print(filtered_greater_than.head())"
   ]
  },
  {
   "cell_type": "code",
   "execution_count": 7,
   "id": "e6bfa939",
   "metadata": {},
   "outputs": [
    {
     "name": "stdout",
     "output_type": "stream",
     "text": [
      "      CRIM    ZN  INDUS  CHAS    NOX     RM   AGE     DIS  RAD    TAX  \\\n",
      "0  0.00632  18.0   2.31   0.0  0.538  6.575  65.2  4.0900  1.0  296.0   \n",
      "1  0.02731   0.0   7.07   0.0  0.469  6.421  78.9  4.9671  2.0  242.0   \n",
      "2  0.02729   0.0   7.07   0.0  0.469  7.185  61.1  4.9671  2.0  242.0   \n",
      "3  0.03237   0.0   2.18   0.0  0.458  6.998  45.8  6.0622  3.0  222.0   \n",
      "4  0.06905   0.0   2.18   0.0  0.458  7.147  54.2  6.0622  3.0  222.0   \n",
      "\n",
      "   PTRATIO       B  LSTAT  MEDV  \n",
      "0     15.3  396.90   4.98  24.0  \n",
      "1     17.8  396.90   9.14  21.6  \n",
      "2     17.8  392.83   4.03  34.7  \n",
      "3     18.7  394.63   2.94  33.4  \n",
      "4     18.7  396.90   5.33  36.2  \n"
     ]
    }
   ],
   "source": [
    "# Filter rows where 'TAX' (full-value property-tax rate per $10,000) is less than 300\n",
    "filtered_less_than = df[df['TAX'] < 300]\n",
    "\n",
    "print(filtered_less_than.head())"
   ]
  },
  {
   "cell_type": "code",
   "execution_count": 8,
   "id": "14322b32",
   "metadata": {},
   "outputs": [
    {
     "name": "stdout",
     "output_type": "stream",
     "text": [
      "      CRIM    ZN  INDUS  CHAS    NOX     RM    AGE     DIS  RAD    TAX  \\\n",
      "0  0.00632  18.0   2.31   0.0  0.538  6.575   65.2  4.0900  1.0  296.0   \n",
      "6  0.08829  12.5   7.87   0.0  0.524  6.012   66.6  5.5605  5.0  311.0   \n",
      "7  0.14455  12.5   7.87   0.0  0.524  6.172   96.1  5.9505  5.0  311.0   \n",
      "8  0.21124  12.5   7.87   0.0  0.524  5.631  100.0  6.0821  5.0  311.0   \n",
      "9  0.17004  12.5   7.87   0.0  0.524  6.004   85.9  6.5921  5.0  311.0   \n",
      "\n",
      "   PTRATIO       B  LSTAT  MEDV  \n",
      "0     15.3  396.90   4.98  24.0  \n",
      "6     15.2  395.60  12.43  22.9  \n",
      "7     15.2  396.90  19.15  27.1  \n",
      "8     15.2  386.63  29.93  16.5  \n",
      "9     15.2  386.71  17.10  18.9  \n"
     ]
    }
   ],
   "source": [
    "# Filter rows where 'NOX' (nitric oxides concentration) is greater than or equal to 0.5\n",
    "filtered_greater_equal = df[df['NOX'] >= 0.5]\n",
    "\n",
    "print(filtered_greater_equal.head())"
   ]
  },
  {
   "cell_type": "code",
   "execution_count": 9,
   "id": "61150b40",
   "metadata": {},
   "outputs": [
    {
     "name": "stdout",
     "output_type": "stream",
     "text": [
      "        CRIM   ZN  INDUS  CHAS    NOX     RM   AGE     DIS  RAD    TAX  \\\n",
      "123  0.15038  0.0  25.65   0.0  0.581  5.856  97.0  1.9444  2.0  188.0   \n",
      "125  0.16902  0.0  25.65   0.0  0.581  5.986  88.4  1.9929  2.0  188.0   \n",
      "126  0.38735  0.0  25.65   0.0  0.581  5.613  95.6  1.7572  2.0  188.0   \n",
      "127  0.25915  0.0  21.89   0.0  0.624  5.693  96.0  1.7883  4.0  437.0   \n",
      "128  0.32543  0.0  21.89   0.0  0.624  6.431  98.8  1.8125  4.0  437.0   \n",
      "\n",
      "     PTRATIO       B  LSTAT  MEDV  \n",
      "123     19.1  370.31  25.41  17.3  \n",
      "125     19.1  385.02  14.81  21.4  \n",
      "126     19.1  359.29  27.26  15.7  \n",
      "127     21.2  392.11  17.19  16.2  \n",
      "128     21.2  396.90  15.39  18.0  \n"
     ]
    }
   ],
   "source": [
    "# Filter rows where 'DIS' (weighted distances to five Boston employment centers) is less than or equal to 2.0\n",
    "filtered_less_equal = df[df['DIS'] <= 2.0]\n",
    "\n",
    "print(filtered_less_equal.head())"
   ]
  },
  {
   "cell_type": "code",
   "execution_count": 10,
   "id": "58776190",
   "metadata": {},
   "outputs": [
    {
     "name": "stdout",
     "output_type": "stream",
     "text": [
      "        CRIM   ZN  INDUS  CHAS    NOX     RM    AGE     DIS  RAD    TAX  \\\n",
      "128  0.32543  0.0  21.89   0.0  0.624  6.431   98.8  1.8125  4.0  437.0   \n",
      "137  0.35233  0.0  21.89   0.0  0.624  6.454   98.4  1.8498  4.0  437.0   \n",
      "139  0.54452  0.0  21.89   0.0  0.624  6.151   97.9  1.6687  4.0  437.0   \n",
      "140  0.29090  0.0  21.89   0.0  0.624  6.174   93.6  1.6119  4.0  437.0   \n",
      "145  2.37934  0.0  19.58   0.0  0.871  6.130  100.0  1.4191  5.0  403.0   \n",
      "\n",
      "     PTRATIO       B  LSTAT  MEDV  \n",
      "128     21.2  396.90  15.39  18.0  \n",
      "137     21.2  394.08  14.59  17.1  \n",
      "139     21.2  396.90  18.46  17.8  \n",
      "140     21.2  388.08  24.16  14.0  \n",
      "145     14.7  172.91  27.80  13.8  \n"
     ]
    }
   ],
   "source": [
    "# Filter houses with more than 6 rooms and located near an employment center\n",
    "filtered_and = df[(df['RM'] > 6) & (df['DIS'] <= 2.0)]\n",
    "\n",
    "print(filtered_and.head())"
   ]
  },
  {
   "cell_type": "code",
   "execution_count": 11,
   "id": "e459d201",
   "metadata": {},
   "outputs": [
    {
     "name": "stdout",
     "output_type": "stream",
     "text": [
      "      CRIM    ZN  INDUS  CHAS    NOX     RM   AGE     DIS  RAD    TAX  \\\n",
      "0  0.00632  18.0   2.31   0.0  0.538  6.575  65.2  4.0900  1.0  296.0   \n",
      "1  0.02731   0.0   7.07   0.0  0.469  6.421  78.9  4.9671  2.0  242.0   \n",
      "2  0.02729   0.0   7.07   0.0  0.469  7.185  61.1  4.9671  2.0  242.0   \n",
      "3  0.03237   0.0   2.18   0.0  0.458  6.998  45.8  6.0622  3.0  222.0   \n",
      "4  0.06905   0.0   2.18   0.0  0.458  7.147  54.2  6.0622  3.0  222.0   \n",
      "\n",
      "   PTRATIO       B  LSTAT  MEDV  \n",
      "0     15.3  396.90   4.98  24.0  \n",
      "1     17.8  396.90   9.14  21.6  \n",
      "2     17.8  392.83   4.03  34.7  \n",
      "3     18.7  394.63   2.94  33.4  \n",
      "4     18.7  396.90   5.33  36.2  \n"
     ]
    }
   ],
   "source": [
    "# Filter houses with more than 6 rooms or located near an employment center\n",
    "filtered_or = df[(df['RM'] > 6) | (df['DIS'] <= 2.0)]\n",
    "\n",
    "print(filtered_or.head())"
   ]
  },
  {
   "cell_type": "code",
   "execution_count": 12,
   "id": "5a61bb7f",
   "metadata": {},
   "outputs": [
    {
     "name": "stdout",
     "output_type": "stream",
     "text": [
      "       CRIM    ZN  INDUS  CHAS    NOX     RM    AGE     DIS  RAD    TAX  \\\n",
      "8   0.21124  12.5   7.87   0.0  0.524  5.631  100.0  6.0821  5.0  311.0   \n",
      "12  0.09378  12.5   7.87   0.0  0.524  5.889   39.0  5.4509  5.0  311.0   \n",
      "13  0.62976   0.0   8.14   0.0  0.538  5.949   61.8  4.7075  4.0  307.0   \n",
      "15  0.62739   0.0   8.14   0.0  0.538  5.834   56.5  4.4986  4.0  307.0   \n",
      "16  1.05393   0.0   8.14   0.0  0.538  5.935   29.3  4.4986  4.0  307.0   \n",
      "\n",
      "    PTRATIO       B  LSTAT  MEDV  \n",
      "8      15.2  386.63  29.93  16.5  \n",
      "12     15.2  390.50  15.71  21.7  \n",
      "13     21.0  396.90   8.26  20.4  \n",
      "15     21.0  395.62   8.47  19.9  \n",
      "16     21.0  386.85   6.58  23.1  \n"
     ]
    }
   ],
   "source": [
    "# Filter houses that do not have more than 6 rooms\n",
    "filtered_not = df[~(df['RM'] > 6)]\n",
    "\n",
    "print(filtered_not.head())"
   ]
  },
  {
   "cell_type": "code",
   "execution_count": 13,
   "id": "1a3a166f",
   "metadata": {},
   "outputs": [
    {
     "name": "stdout",
     "output_type": "stream",
     "text": [
      "      CRIM    ZN  INDUS  CHAS    NOX     RM   AGE     DIS  RAD    TAX  \\\n",
      "2  0.02729   0.0   7.07   0.0  0.469  7.185  61.1  4.9671  2.0  242.0   \n",
      "3  0.03237   0.0   2.18   0.0  0.458  6.998  45.8  6.0622  3.0  222.0   \n",
      "4  0.06905   0.0   2.18   0.0  0.458  7.147  54.2  6.0622  3.0  222.0   \n",
      "5  0.02985   0.0   2.18   0.0  0.458  6.430  58.7  6.0622  3.0  222.0   \n",
      "7  0.14455  12.5   7.87   0.0  0.524  6.172  96.1  5.9505  5.0  311.0   \n",
      "\n",
      "   PTRATIO       B  LSTAT  MEDV  \n",
      "2     17.8  392.83   4.03  34.7  \n",
      "3     18.7  394.63   2.94  33.4  \n",
      "4     18.7  396.90   5.33  36.2  \n",
      "5     18.7  394.12   5.21  28.7  \n",
      "7     15.2  396.90  19.15  27.1  \n"
     ]
    }
   ],
   "source": [
    "# Using .query() to filter data\n",
    "filtered_query = df.query('RM > 6 and MEDV > 25')\n",
    "\n",
    "print(filtered_query.head())"
   ]
  },
  {
   "cell_type": "code",
   "execution_count": 14,
   "id": "0f6be8ba",
   "metadata": {},
   "outputs": [
    {
     "name": "stdout",
     "output_type": "stream",
     "text": [
      "      CRIM    ZN  INDUS  CHAS    NOX     RM   AGE     DIS  RAD    TAX  \\\n",
      "0  0.00632  18.0   2.31   0.0  0.538  6.575  65.2  4.0900  1.0  296.0   \n",
      "1  0.02731   0.0   7.07   0.0  0.469  6.421  78.9  4.9671  2.0  242.0   \n",
      "2  0.02729   0.0   7.07   0.0  0.469  7.185  61.1  4.9671  2.0  242.0   \n",
      "3  0.03237   0.0   2.18   0.0  0.458  6.998  45.8  6.0622  3.0  222.0   \n",
      "4  0.06905   0.0   2.18   0.0  0.458  7.147  54.2  6.0622  3.0  222.0   \n",
      "\n",
      "   PTRATIO       B  LSTAT  MEDV  \n",
      "0     15.3  396.90   4.98  24.0  \n",
      "1     17.8  396.90   9.14  21.6  \n",
      "2     17.8  392.83   4.03  34.7  \n",
      "3     18.7  394.63   2.94  33.4  \n",
      "4     18.7  396.90   5.33  36.2  \n"
     ]
    }
   ],
   "source": [
    "# Using .between() to filter data\n",
    "filtered_between = df[df['TAX'].between(200, 400)]\n",
    "\n",
    "print(filtered_between.head())"
   ]
  },
  {
   "cell_type": "code",
   "execution_count": 15,
   "id": "cf380976",
   "metadata": {},
   "outputs": [
    {
     "name": "stdout",
     "output_type": "stream",
     "text": [
      "        CRIM    ZN  INDUS  CHAS    NOX     RM   AGE     DIS   RAD    TAX  \\\n",
      "0    0.00632  18.0   2.31   0.0  0.538  6.575  65.2  4.0900   1.0  296.0   \n",
      "104  0.13960   0.0   8.56   0.0  0.520  6.167  90.0  2.4210   5.0  384.0   \n",
      "119  0.14476   0.0  10.01   0.0  0.547  5.731  65.2  2.7592   6.0  432.0   \n",
      "460  4.81213   0.0  18.10   0.0  0.713  6.701  90.0  2.5975  24.0  666.0   \n",
      "\n",
      "     PTRATIO       B  LSTAT  MEDV  \n",
      "0       15.3  396.90   4.98  24.0  \n",
      "104     20.9  392.69  12.33  20.1  \n",
      "119     17.8  391.50  13.61  19.3  \n",
      "460     20.2  255.23  16.42  16.4  \n"
     ]
    }
   ],
   "source": [
    "# Using .isin() to filter data\n",
    "age_values = [65.2, 90.0]\n",
    "filtered_isin_age = df[df['AGE'].isin(age_values)]\n",
    "\n",
    "print(filtered_isin_age.head())"
   ]
  },
  {
   "cell_type": "code",
   "execution_count": 16,
   "id": "0b809c33",
   "metadata": {},
   "outputs": [
    {
     "name": "stdout",
     "output_type": "stream",
     "text": [
      "      CRIM   ZN  INDUS  CHAS    NOX     RM   AGE     DIS  RAD    TAX  PTRATIO  \\\n",
      "0      NaN  NaN    NaN   NaN    NaN    NaN   NaN     NaN  NaN    NaN      NaN   \n",
      "1      NaN  NaN    NaN   NaN    NaN    NaN   NaN     NaN  NaN    NaN      NaN   \n",
      "2  0.02729  0.0   7.07   0.0  0.469  7.185  61.1  4.9671  2.0  242.0     17.8   \n",
      "3      NaN  NaN    NaN   NaN    NaN    NaN   NaN     NaN  NaN    NaN      NaN   \n",
      "4  0.06905  0.0   2.18   0.0  0.458  7.147  54.2  6.0622  3.0  222.0     18.7   \n",
      "\n",
      "        B  LSTAT  MEDV  \n",
      "0     NaN    NaN   NaN  \n",
      "1     NaN    NaN   NaN  \n",
      "2  392.83   4.03  34.7  \n",
      "3     NaN    NaN   NaN  \n",
      "4  396.90   5.33  36.2  \n"
     ]
    }
   ],
   "source": [
    "# Apply .where() condition\n",
    "filtered_where = df.where(df['RM'] > 7)\n",
    "\n",
    "print(filtered_where.head())"
   ]
  },
  {
   "cell_type": "code",
   "execution_count": 17,
   "id": "4982cb93",
   "metadata": {},
   "outputs": [
    {
     "name": "stdout",
     "output_type": "stream",
     "text": [
      "Original DataFrame:\n",
      "            value\n",
      "2023-01-01      0\n",
      "2023-01-02      1\n",
      "2023-01-03      2\n",
      "2023-01-04      3\n",
      "2023-01-05      4\n",
      "2023-01-06      5\n",
      "2023-01-07      6\n",
      "2023-01-08      7\n",
      "2023-01-09      8\n",
      "2023-01-10      9\n"
     ]
    }
   ],
   "source": [
    "# Create a sample DataFrame with datetime index\n",
    "date_rng = pd.date_range(start='2023-01-01', end='2023-01-10', freq='D')\n",
    "values = range(len(date_rng))\n",
    "df = pd.DataFrame({'value': values}, index=date_rng)\n",
    "\n",
    "print(\"Original DataFrame:\")\n",
    "print(df)"
   ]
  },
  {
   "cell_type": "code",
   "execution_count": 18,
   "id": "031b016a",
   "metadata": {},
   "outputs": [
    {
     "name": "stdout",
     "output_type": "stream",
     "text": [
      "Filtered DataFrame using Date Indexing:\n",
      "            value\n",
      "2023-01-03      2\n",
      "2023-01-04      3\n",
      "2023-01-05      4\n",
      "2023-01-06      5\n",
      "2023-01-07      6\n"
     ]
    }
   ],
   "source": [
    "# Filtering by Date Indexing\n",
    "filtered_date_index = df['2023-01-03':'2023-01-07']\n",
    "print(\"Filtered DataFrame using Date Indexing:\")\n",
    "print(filtered_date_index)"
   ]
  },
  {
   "cell_type": "code",
   "execution_count": 19,
   "id": "894f8a2b",
   "metadata": {},
   "outputs": [
    {
     "name": "stdout",
     "output_type": "stream",
     "text": [
      "            value\n",
      "2023-01-05      4\n",
      "2023-01-06      5\n",
      "2023-01-07      6\n",
      "2023-01-08      7\n",
      "2023-01-09      8\n",
      "2023-01-10      9\n"
     ]
    }
   ],
   "source": [
    "# Filter data using .loc[] and a date condition\n",
    "filtered_loc = df.loc[df.index >= '2023-01-05']\n",
    "\n",
    "print(filtered_loc)"
   ]
  },
  {
   "cell_type": "code",
   "execution_count": 20,
   "id": "28371fed",
   "metadata": {},
   "outputs": [
    {
     "name": "stdout",
     "output_type": "stream",
     "text": [
      "            value\n",
      "2023-01-06      5\n",
      "2023-01-07      6\n",
      "2023-01-08      7\n",
      "2023-01-09      8\n",
      "2023-01-10      9\n"
     ]
    }
   ],
   "source": [
    "# Filter data using .query() and a date condition\n",
    "filtered_query = df.query('index >= \"2023-01-06\"')\n",
    "\n",
    "print(filtered_query)"
   ]
  },
  {
   "cell_type": "code",
   "execution_count": 21,
   "id": "9584083c",
   "metadata": {},
   "outputs": [
    {
     "data": {
      "text/html": [
       "<div>\n",
       "<style scoped>\n",
       "    .dataframe tbody tr th:only-of-type {\n",
       "        vertical-align: middle;\n",
       "    }\n",
       "\n",
       "    .dataframe tbody tr th {\n",
       "        vertical-align: top;\n",
       "    }\n",
       "\n",
       "    .dataframe thead th {\n",
       "        text-align: right;\n",
       "    }\n",
       "</style>\n",
       "<table border=\"1\" class=\"dataframe\">\n",
       "  <thead>\n",
       "    <tr style=\"text-align: right;\">\n",
       "      <th></th>\n",
       "      <th>value</th>\n",
       "    </tr>\n",
       "  </thead>\n",
       "  <tbody>\n",
       "    <tr>\n",
       "      <th>2023-01-01 08:00:00</th>\n",
       "      <td>0</td>\n",
       "    </tr>\n",
       "    <tr>\n",
       "      <th>2023-01-01 09:00:00</th>\n",
       "      <td>1</td>\n",
       "    </tr>\n",
       "    <tr>\n",
       "      <th>2023-01-01 10:00:00</th>\n",
       "      <td>2</td>\n",
       "    </tr>\n",
       "    <tr>\n",
       "      <th>2023-01-01 11:00:00</th>\n",
       "      <td>3</td>\n",
       "    </tr>\n",
       "    <tr>\n",
       "      <th>2023-01-01 12:00:00</th>\n",
       "      <td>4</td>\n",
       "    </tr>\n",
       "    <tr>\n",
       "      <th>2023-01-01 13:00:00</th>\n",
       "      <td>5</td>\n",
       "    </tr>\n",
       "    <tr>\n",
       "      <th>2023-01-01 14:00:00</th>\n",
       "      <td>6</td>\n",
       "    </tr>\n",
       "    <tr>\n",
       "      <th>2023-01-01 15:00:00</th>\n",
       "      <td>7</td>\n",
       "    </tr>\n",
       "    <tr>\n",
       "      <th>2023-01-01 16:00:00</th>\n",
       "      <td>8</td>\n",
       "    </tr>\n",
       "    <tr>\n",
       "      <th>2023-01-01 17:00:00</th>\n",
       "      <td>9</td>\n",
       "    </tr>\n",
       "  </tbody>\n",
       "</table>\n",
       "</div>"
      ],
      "text/plain": [
       "                     value\n",
       "2023-01-01 08:00:00      0\n",
       "2023-01-01 09:00:00      1\n",
       "2023-01-01 10:00:00      2\n",
       "2023-01-01 11:00:00      3\n",
       "2023-01-01 12:00:00      4\n",
       "2023-01-01 13:00:00      5\n",
       "2023-01-01 14:00:00      6\n",
       "2023-01-01 15:00:00      7\n",
       "2023-01-01 16:00:00      8\n",
       "2023-01-01 17:00:00      9"
      ]
     },
     "execution_count": 21,
     "metadata": {},
     "output_type": "execute_result"
    }
   ],
   "source": [
    "# Create a sample DataFrame with datetime index\n",
    "date_rng = pd.date_range(start='2023-01-01 08:00', periods=10, freq='H')\n",
    "values = range(len(date_rng))\n",
    "df = pd.DataFrame({'value': values}, index=date_rng)\n",
    "\n",
    "df"
   ]
  },
  {
   "cell_type": "code",
   "execution_count": 22,
   "id": "5656ba9a",
   "metadata": {},
   "outputs": [
    {
     "name": "stdout",
     "output_type": "stream",
     "text": [
      "                     value\n",
      "2023-01-01 10:00:00      2\n",
      "2023-01-01 11:00:00      3\n",
      "2023-01-01 12:00:00      4\n",
      "2023-01-01 13:00:00      5\n",
      "2023-01-01 14:00:00      6\n",
      "2023-01-01 15:00:00      7\n",
      "2023-01-01 16:00:00      8\n"
     ]
    }
   ],
   "source": [
    "# Filter data using .between_time() for a time interval\n",
    "filtered_between_time = df.between_time('10:00', '16:00')\n",
    "\n",
    "print(filtered_between_time)"
   ]
  },
  {
   "cell_type": "code",
   "execution_count": 23,
   "id": "4b7d4b18",
   "metadata": {},
   "outputs": [
    {
     "ename": "NameError",
     "evalue": "name 'np' is not defined",
     "output_type": "error",
     "traceback": [
      "\u001b[0;31m---------------------------------------------------------------------------\u001b[0m",
      "\u001b[0;31mNameError\u001b[0m                                 Traceback (most recent call last)",
      "\u001b[0;32m/var/folders/xh/yz6j577n6lg1j73_jl6__ymh0000gn/T/ipykernel_18293/3586666421.py\u001b[0m in \u001b[0;36m<module>\u001b[0;34m\u001b[0m\n\u001b[1;32m      1\u001b[0m \u001b[0;31m# Create a sample DataFrame with student exam scores\u001b[0m\u001b[0;34m\u001b[0m\u001b[0;34m\u001b[0m\u001b[0m\n\u001b[1;32m      2\u001b[0m data = {'Name': ['Alice', 'Bob', 'Charlie', 'David', 'Eve'],\n\u001b[0;32m----> 3\u001b[0;31m         \u001b[0;34m'Math'\u001b[0m\u001b[0;34m:\u001b[0m \u001b[0;34m[\u001b[0m\u001b[0;36m85\u001b[0m\u001b[0;34m,\u001b[0m \u001b[0mnp\u001b[0m\u001b[0;34m.\u001b[0m\u001b[0mnan\u001b[0m\u001b[0;34m,\u001b[0m \u001b[0;36m72\u001b[0m\u001b[0;34m,\u001b[0m \u001b[0;36m90\u001b[0m\u001b[0;34m,\u001b[0m \u001b[0;36m65\u001b[0m\u001b[0;34m]\u001b[0m\u001b[0;34m,\u001b[0m\u001b[0;34m\u001b[0m\u001b[0;34m\u001b[0m\u001b[0m\n\u001b[0m\u001b[1;32m      4\u001b[0m         'English': [90, 78, np.nan, 85, 92]}\n\u001b[1;32m      5\u001b[0m \u001b[0mdf\u001b[0m \u001b[0;34m=\u001b[0m \u001b[0mpd\u001b[0m\u001b[0;34m.\u001b[0m\u001b[0mDataFrame\u001b[0m\u001b[0;34m(\u001b[0m\u001b[0mdata\u001b[0m\u001b[0;34m)\u001b[0m\u001b[0;34m\u001b[0m\u001b[0;34m\u001b[0m\u001b[0m\n",
      "\u001b[0;31mNameError\u001b[0m: name 'np' is not defined"
     ]
    }
   ],
   "source": [
    "# Create a sample DataFrame with student exam scores\n",
    "data = {'Name': ['Alice', 'Bob', 'Charlie', 'David', 'Eve'],\n",
    "        'Math': [85, np.nan, 72, 90, 65],\n",
    "        'English': [90, 78, np.nan, 85, 92]}\n",
    "df = pd.DataFrame(data)\n",
    "df"
   ]
  },
  {
   "cell_type": "code",
   "execution_count": null,
   "id": "d89802b2",
   "metadata": {},
   "outputs": [],
   "source": [
    "# Using .isna() to filter rows with missing scores\n",
    "missing_scores_mask = df.isna()\n",
    "missing_scores_filtered = df[missing_scores_mask.any(axis=1)]\n",
    "\n",
    "print(\"Original DataFrame:\")\n",
    "print(df)\n",
    "print(\"\\nMask for Missing Scores:\")\n",
    "print(missing_scores_mask)\n",
    "print(\"\\nRows with Missing Scores:\")\n",
    "print(missing_scores_filtered)"
   ]
  },
  {
   "cell_type": "code",
   "execution_count": null,
   "id": "a9651583",
   "metadata": {},
   "outputs": [],
   "source": [
    "# Using .notna() to filter rows without missing scores\n",
    "non_missing_scores_mask = df.notna()\n",
    "non_missing_scores_filtered = df[non_missing_scores_mask.all(axis=1)]\n",
    "\n",
    "print(\"Original DataFrame:\")\n",
    "print(df)\n",
    "print(\"\\nMask for Non-Missing Scores:\")\n",
    "print(non_missing_scores_mask)\n",
    "print(\"\\nRows without Missing Scores:\")\n",
    "print(non_missing_scores_filtered)"
   ]
  },
  {
   "cell_type": "code",
   "execution_count": null,
   "id": "665cc963",
   "metadata": {},
   "outputs": [],
   "source": []
  },
  {
   "cell_type": "code",
   "execution_count": null,
   "id": "096310c5",
   "metadata": {},
   "outputs": [],
   "source": []
  }
 ],
 "metadata": {
  "kernelspec": {
   "display_name": "Python 3 (ipykernel)",
   "language": "python",
   "name": "python3"
  },
  "language_info": {
   "codemirror_mode": {
    "name": "ipython",
    "version": 3
   },
   "file_extension": ".py",
   "mimetype": "text/x-python",
   "name": "python",
   "nbconvert_exporter": "python",
   "pygments_lexer": "ipython3",
   "version": "3.9.7"
  }
 },
 "nbformat": 4,
 "nbformat_minor": 5
}
