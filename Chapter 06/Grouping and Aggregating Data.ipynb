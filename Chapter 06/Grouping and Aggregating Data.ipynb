{
 "cells": [
  {
   "cell_type": "code",
   "execution_count": 1,
   "id": "32f50ab6",
   "metadata": {},
   "outputs": [
    {
     "data": {
      "text/html": [
       "<div>\n",
       "<style scoped>\n",
       "    .dataframe tbody tr th:only-of-type {\n",
       "        vertical-align: middle;\n",
       "    }\n",
       "\n",
       "    .dataframe tbody tr th {\n",
       "        vertical-align: top;\n",
       "    }\n",
       "\n",
       "    .dataframe thead th {\n",
       "        text-align: right;\n",
       "    }\n",
       "</style>\n",
       "<table border=\"1\" class=\"dataframe\">\n",
       "  <thead>\n",
       "    <tr style=\"text-align: right;\">\n",
       "      <th></th>\n",
       "      <th>Series_Title</th>\n",
       "      <th>Released_Year</th>\n",
       "      <th>Runtime</th>\n",
       "      <th>Genre</th>\n",
       "      <th>IMDB_Rating</th>\n",
       "      <th>Director</th>\n",
       "      <th>Star1</th>\n",
       "      <th>No_of_Votes</th>\n",
       "      <th>Gross</th>\n",
       "      <th>Metascore</th>\n",
       "    </tr>\n",
       "  </thead>\n",
       "  <tbody>\n",
       "    <tr>\n",
       "      <th>0</th>\n",
       "      <td>The Shawshank Redemption</td>\n",
       "      <td>1994</td>\n",
       "      <td>142</td>\n",
       "      <td>Drama</td>\n",
       "      <td>9.3</td>\n",
       "      <td>Frank Darabont</td>\n",
       "      <td>Tim Robbins</td>\n",
       "      <td>2343110</td>\n",
       "      <td>28341469.0</td>\n",
       "      <td>80.0</td>\n",
       "    </tr>\n",
       "    <tr>\n",
       "      <th>1</th>\n",
       "      <td>The Godfather</td>\n",
       "      <td>1972</td>\n",
       "      <td>175</td>\n",
       "      <td>Crime</td>\n",
       "      <td>9.2</td>\n",
       "      <td>Francis Ford Coppola</td>\n",
       "      <td>Marlon Brando</td>\n",
       "      <td>1620367</td>\n",
       "      <td>134966411.0</td>\n",
       "      <td>100.0</td>\n",
       "    </tr>\n",
       "    <tr>\n",
       "      <th>2</th>\n",
       "      <td>The Dark Knight</td>\n",
       "      <td>2008</td>\n",
       "      <td>152</td>\n",
       "      <td>Action</td>\n",
       "      <td>9.0</td>\n",
       "      <td>Christopher Nolan</td>\n",
       "      <td>Christian Bale</td>\n",
       "      <td>2303232</td>\n",
       "      <td>534858444.0</td>\n",
       "      <td>84.0</td>\n",
       "    </tr>\n",
       "    <tr>\n",
       "      <th>3</th>\n",
       "      <td>The Godfather: Part II</td>\n",
       "      <td>1974</td>\n",
       "      <td>202</td>\n",
       "      <td>Crime</td>\n",
       "      <td>9.0</td>\n",
       "      <td>Francis Ford Coppola</td>\n",
       "      <td>Al Pacino</td>\n",
       "      <td>1129952</td>\n",
       "      <td>57300000.0</td>\n",
       "      <td>90.0</td>\n",
       "    </tr>\n",
       "    <tr>\n",
       "      <th>4</th>\n",
       "      <td>12 Angry Men</td>\n",
       "      <td>1957</td>\n",
       "      <td>96</td>\n",
       "      <td>Crime</td>\n",
       "      <td>9.0</td>\n",
       "      <td>Sidney Lumet</td>\n",
       "      <td>Henry Fonda</td>\n",
       "      <td>689845</td>\n",
       "      <td>4360000.0</td>\n",
       "      <td>96.0</td>\n",
       "    </tr>\n",
       "  </tbody>\n",
       "</table>\n",
       "</div>"
      ],
      "text/plain": [
       "               Series_Title Released_Year  Runtime   Genre  IMDB_Rating  \\\n",
       "0  The Shawshank Redemption          1994      142   Drama          9.3   \n",
       "1             The Godfather          1972      175   Crime          9.2   \n",
       "2           The Dark Knight          2008      152  Action          9.0   \n",
       "3    The Godfather: Part II          1974      202   Crime          9.0   \n",
       "4              12 Angry Men          1957       96   Crime          9.0   \n",
       "\n",
       "               Director           Star1  No_of_Votes        Gross  Metascore  \n",
       "0        Frank Darabont     Tim Robbins      2343110   28341469.0       80.0  \n",
       "1  Francis Ford Coppola   Marlon Brando      1620367  134966411.0      100.0  \n",
       "2     Christopher Nolan  Christian Bale      2303232  534858444.0       84.0  \n",
       "3  Francis Ford Coppola       Al Pacino      1129952   57300000.0       90.0  \n",
       "4          Sidney Lumet     Henry Fonda       689845    4360000.0       96.0  "
      ]
     },
     "execution_count": 1,
     "metadata": {},
     "output_type": "execute_result"
    }
   ],
   "source": [
    "import pandas as pd\n",
    "\n",
    "# Load the Black Friday sales dataset\n",
    "df = pd.read_csv('imdb.csv')\n",
    "\n",
    "# Display the first few rows of the dataset\n",
    "df.head()"
   ]
  },
  {
   "cell_type": "code",
   "execution_count": 2,
   "id": "57805fb5",
   "metadata": {},
   "outputs": [
    {
     "name": "stdout",
     "output_type": "stream",
     "text": [
      "Genre: Action\n",
      "['The Dark Knight', 'The Lord of the Rings: The Return of the King', 'Inception', 'The Lord of the Rings: The Fellowship of the Ring', 'The Lord of the Rings: The Two Towers', 'The Matrix', 'Star Wars: Episode V - The Empire Strikes Back', 'Star Wars', 'Seppuku', 'Shichinin no samurai', 'Gladiator', 'Léon', 'Terminator 2: Judgment Day', 'Vikram Vedha', 'Dangal', 'Avengers: Endgame', 'Avengers: Infinity War', 'The Dark Knight Rises', 'Oldeuboi', 'Raiders of the Lost Ark', 'Aliens', 'Star Wars: Episode VI - Return of the Jedi', 'Uri: The Surgical Strike', 'K.G.F: Chapter 1', 'Baahubali 2: The Conclusion', 'Gangs of Wasseypur', 'Paan Singh Tomar', 'Warrior', 'V for Vendetta', 'Batman Begins', 'Hera Pheri', 'Lock, Stock and Two Smoking Barrels', 'Andaz Apna Apna', 'Indiana Jones and the Last Crusade', 'Die Hard', 'Ran', 'Sholay', 'Yôjinbô', 'Sherlock Jr.', 'Haider', 'Logan', 'Rush', 'Ford v Ferrari', 'Mad Max: Fury Road', 'A Wednesday', 'Taegukgi hwinalrimyeo', 'Kill Bill: Vol. 1', 'Jurassic Park', 'Blade Runner', 'Sanjuro', 'White Heat', 'The General', 'Bajrangi Bhaijaan', 'Baby', 'Bãhubali: The Beginning', 'Serbuan maut 2: Berandal', 'Guardians of the Galaxy', 'Blade Runner 2049', 'The Revenant', 'Tropa de Elite 2: O Inimigo Agora é Outro', 'Deadpool', 'Yip Man', 'Nefes: Vatan Sagolsun', 'Tropa de Elite', 'The Avengers', 'The Bourne Ultimatum', 'Casino Royale', 'Kill Bill: Vol. 2', 'Mou gaan dou', 'Pirates of the Caribbean: The Curse of the Black Pearl', \"Knockin' on Heaven's Door\", 'The Terminator', 'Per un pugno di dollari', 'Rio Bravo', 'Thor: Ragnarok', 'Star Wars: Episode VII - The Force Awakens', 'X-Men: Days of Future Past', 'Edge of Tomorrow', 'District 9', 'Star Trek', 'Letters from Iwo Jima', 'Iron Man', 'Ying xiong', 'The Bourne Identity', 'The Blues Brothers', 'Dawn of the Dead', 'Aguirre, der Zorn Gottes', 'The Wild Bunch', 'The Adventures of Robin Hood', 'The Gentlemen', 'Raazi', 'Dunkirk', 'Udta Punjab', 'Rogue One', 'Captain America: Civil War', 'Ang-ma-reul bo-at-da', 'Ajeossi', 'Chugyeokja', 'Taken', 'Avatar', 'Apocalypto', 'Hot Fuzz', 'Serenity', 'Gongdong gyeongbi guyeok JSA', 'The Count of Monte Cristo', 'Wo hu cang long', 'The Boondock Saints', 'The Game', 'Tombstone', 'The Fugitive', 'Lat sau san taam', 'Dip huet seung hung', 'Predator', 'Evil Dead II', 'Ghostbusters', 'Badlands', 'Bonnie and Clyde', 'The Longest Day', 'Red River', 'Key Largo', 'Scarface: The Shame of the Nation', 'Deadpool 2', 'Mission: Impossible - Fallout', 'Kingsman: The Secret Service', 'Captain America: The Winter Soldier', 'Star Trek Into Darkness', 'X: First Class', 'Skyfall', 'Lucky Number Slevin', '3:10 to Yuma', 'Kung fu', 'The Bourne Supremacy', 'Man on Fire', 'The Last Samurai', 'The Fifth Element', 'The Last of the Mohicans', 'Empire of the Sun', 'Star Trek II: The Wrath of Khan', 'First Blood', 'The Taking of Pelham One Two Three', 'Enter the Dragon', 'The French Connection', 'Dirty Harry', 'Where Eagles Dare', 'The Dirty Dozen', 'Goldfinger', 'The Magnificent Seven', 'Guardians of the Galaxy Vol. 2', 'Baby Driver', 'Only the Brave', 'Sicario', 'Hell or High Water', 'Dawn of the Planet of the Apes', 'Serbuan maut', 'End of Watch', 'Kick-Ass', 'Celda 211', 'Sherlock Holmes', 'Eastern Promises', 'Huo Yuan Jia', 'Harry Potter and the Half-Blood Prince', '300', 'Watchmen', 'Lord of War', 'Batoru rowaiaru', 'Minority Report', 'Die Hard: With a Vengeance', 'Falling Down', 'Lethal Weapon', 'Mad Max 2', 'The Warriors', 'Escape from Alcatraz']\n",
      "\n",
      "Genre: Adventure\n",
      "['Interstellar', 'Back to the Future', 'Inglourious Basterds', 'Das Boot', '2001: A Space Odyssey', 'Lawrence of Arabia', 'North by Northwest', 'Queen', 'Monty Python and the Holy Grail', 'The Great Escape', 'The Treasure of the Sierra Madre', 'The Gold Rush', 'The Grand Budapest Hotel', 'Harry Potter and the Deathly Hallows: Part 2', 'Into the Wild', 'Lagaan: Once Upon a Time in India', 'Stand by Me', 'Fitzcarraldo', 'Barry Lyndon', 'Ben-Hur', 'Kakushi-toride no san-akunin', 'The Bridge on the River Kwai', 'Le salaire de la peur', 'Togo', 'The Martian', 'Blood Diamond', 'G.O.R.A.', 'Big Fish', 'Dances with Wolves', 'The Princess Bride', 'Jaws', 'Planet of the Apes', 'The Wizard of Oz', 'Hunt for the Wilderpeople', 'The Fall', 'Life of Pi', 'Harry Potter and the Prisoner of Azkaban', 'Children of Men', 'Almost Famous', 'La montaña sagrada', 'Spartacus', 'The Ten Commandments', 'The Searchers', 'King Kong', 'Paddington 2', 'Captain Phillips', 'The Hobbit: The Desolation of Smaug', 'The Hobbit: An Unexpected Journey', 'Diarios de motocicleta', 'Cast Away', 'Back to the Future Part II', 'The Goonies', 'The Right Stuff', 'The Man Who Would Be King', 'To Have and Have Not', 'Stagecoach', 'Nebraska', 'Harry Potter and the Deathly Hallows: Part 1', 'Harry Potter and the Goblet of Fire', 'O Brother, Where Art Thou?', 'Interstate 60: Episodes of the Road', 'Deliverance', 'The African Queen', 'The Peanut Butter Falcon', 'Zombieland', 'Stardust', \"Harry Potter and the Sorcerer's Stone\", 'Fear and Loathing in Las Vegas', 'Dead Man', 'Apollo 13', 'The Muppet Movie', \"Kelly's Heroes\"]\n",
      "\n",
      "Genre: Animation\n",
      "['Sen to Chihiro no kamikakushi', 'The Lion King', 'Hotaru no haka', 'Kimi no na wa.', 'Spider-Man: Into the Spider-Verse', 'Coco', 'WALL·E', 'Mononoke-hime', 'Toy Story', 'Klaus', 'Up', 'Toy Story 3', 'Hauru no ugoku shiro', 'Tonari no Totoro', 'Koe no katachi', 'Soul', 'Ôkami kodomo no Ame to Yuki', 'Inside Out', 'Song of the Sea', 'Mary and Max', 'How to Train Your Dragon', 'Finding Nemo', 'Monsters, Inc.', 'Shin seiki Evangelion Gekijô-ban: Air/Magokoro wo, kimi ni', 'Kaze no tani no Naushika', 'Zootopia', 'Kaguyahime no monogatari', 'Persepolis', 'Ratatouille', 'The Incredibles', 'Pâfekuto burû', 'The Iron Giant', 'Kôkaku Kidôtai', 'The Nightmare Before Christmas', 'Aladdin', 'Beauty and the Beast', 'Akira', 'Tenkû no shiro Rapyuta', 'Isle of Dogs', 'Fantastic Mr. Fox', 'Cowboy Bebop: Tengoku no tobira', 'Toy Story 2', 'Mimi wo sumaseba', 'Jûbê ninpûchô', 'Kubo and the Two Strings', 'Loving Vincent', 'Big Hero 6', 'Kaze tachinu', 'Toy Story 4', 'How to Train Your Dragon 2', 'Tôkyô goddofâzâzu', 'Les triplettes de Belleville', 'Waking Life', 'Shrek', 'Batman: Mask of the Phantasm', 'Majo no takkyûbin', 'La planète sauvage', 'Omoide no Mânî', 'Wreck-It Ralph', 'Le Petit Prince', 'The Lego Movie', 'Gake no ue no Ponyo', 'Papurika', 'Toki o kakeru shôjo', 'Tangled', 'Coraline', 'Vampire Hunter D: Bloodlust', 'South Park: Bigger, Longer & Uncut', 'Kurenai no buta', 'Who Framed Roger Rabbit', 'Rupan sansei: Kariosutoro no shiro', 'Fantasia', 'Incredibles 2', 'Moana', 'Kari-gurashi no Arietti', 'Despicable Me', 'The Secret of Kells', 'Mulan', 'Omohide poro poro', 'The Little Mermaid', 'Watership Down', 'The Jungle Book']\n",
      "\n",
      "Genre: Biography\n",
      "[\"Schindler's List\", 'Goodfellas', 'Hamilton', 'The Intouchables', 'The Pianist', 'Ayla: The Daughter of War', 'Braveheart', 'Amadeus', 'Green Book', 'Bhaag Milkha Bhaag', 'The Wolf of Wall Street', 'Der Untergang', 'A Beautiful Mind', 'Raging Bull', 'The Message', 'Hacksaw Ridge', '12 Years a Slave', 'Spotlight', \"Hachi: A Dog's Tale\", 'Hotel Rwanda', 'Catch Me If You Can', 'In the Name of the Father', 'The Elephant Man', 'Zerkalo', 'Andrei Rublev', 'Inherit the Wind', \"La passion de Jeanne d'Arc\", 'Lion', 'The Imitation Game', 'Bohemian Rhapsody', \"The King's Speech\", 'Dallas Buyers Club', 'The Pursuit of Happyness', 'Le scaphandre et le papillon', 'Mar adentro', 'Cinderella Man', 'The Straight Story', 'Gandhi', 'Dog Day Afternoon', 'Papillon', 'Butch Cassidy and the Sundance Kid', 'The Sound of Music', 'The Irishman', 'My Left Foot: The Story of Christy Brown', \"All the President's Men\", 'Patton', 'The Lion in Winter', 'Hidden Figures', 'M.S. Dhoni: The Untold Story', 'Pride', 'The Big Short', 'Straight Outta Compton', 'The Fighter', 'American Gangster', \"The World's Fastest Indian\", 'Walk the Line', 'Remember the Titans', 'The Insider', 'October Sky', 'Ed Wood', 'Awakenings', 'Glory', 'The Killing Fields', 'The Theory of Everything', 'The Social Network', 'Argo', 'Frost/Nixon', 'Changeling', 'The Last King of Scotland', 'Control', 'Ray', 'Donnie Brasco', 'Shine', 'Il postino', 'Malcolm X', 'The Last Emperor', 'Serpico', 'A Man for All Seasons', 'Dark Waters', 'Just Mercy', 'Philomena', 'Moneyball', 'The Blind Side', 'La Vie En Rose', 'Finding Neverland', 'Blow', 'The Hurricane', 'Midnight Express']\n",
      "\n",
      "Genre: Comedy\n",
      "['Gisaengchung', 'La vita è bella', 'Modern Times', 'City Lights', '3 Idiots', 'Dr. Strangelove or: How I Learned to Stop Worrying and Love the Bomb', 'The Great Dictator', 'Amélie', 'Snatch', 'The Sting', 'The Apartment', \"Singin' in the Rain\", 'The Kid', 'Chhichhore', 'Three Billboards Outside Ebbing, Missouri', 'Rang De Basanti', 'Dom za vesanje', 'Some Like It Hot', 'To Be or Not to Be', 'Relatos salvajes', 'PK', 'OMG: Oh My God!', 'Barfi!', 'Zindagi Na Milegi Dobara', 'Lage Raho Munna Bhai', 'Munna Bhai M.B.B.S.', 'Dil Chahta Hai', 'The Truman Show', 'Crna macka, beli macor', 'The Big Lebowski', 'Underground', 'Chung Hing sam lam', 'Dead Poets Society', 'Life of Brian', 'Paper Moon', 'The Shop Around the Corner', 'Mr. Smith Goes to Washington', 'It Happened One Night', 'The Circus', 'Badhaai ho', 'La La Land', 'Kal Ho Naa Ho', 'Yeopgijeogin geunyeo', 'Vizontele', 'Secrets & Lies', 'Groundhog Day', 'Do the Right Thing', 'Being There', 'Annie Hall', 'Young Frankenstein', 'The Graduate', 'La dolce vita', 'Stalag 17', 'Roman Holiday', 'Kind Hearts and Coronets', 'Arsenic and Old Lace', 'La règle du jeu', 'The Thin Man', 'Knives Out', 'Dil Bechara', 'Marriage Story', 'Captain Fantastic', 'Sing Street', 'Jojo Rabbit', 'The Artist', 'Jab We Met', 'In Bruges', 'C.R.A.Z.Y.', 'Shaun of the Dead', \"No Man's Land\", 'Crimes and Misdemeanors', 'Hannah and Her Sisters', 'This Is Spinal Tap', 'A Christmas Story', 'Manhattan', 'Amarcord', 'Le charme discret de la bourgeoisie', 'Harold and Maude', 'Charade', 'Harvey', 'Miracle on 34th Street', 'The Philadelphia Story', 'His Girl Friday', 'A Night at the Opera', 'Perfetti sconosciuti', 'Vicky Donor', 'About Time', 'English Vinglish', 'Moonrise Kingdom', 'Druk', 'Little Miss Sunshine', 'Adams æbler', 'The Sandlot', 'Naked', 'Night on Earth', \"Ferris Bueller's Day Off\", 'Down by Law', 'The Breakfast Club', 'The King of Comedy', \"Guess Who's Coming to Dinner\", 'Mary Poppins', 'Bringing Up Baby', 'Duck Soup', 'En man som heter Ove', 'What We Do in the Shadows', 'Me and Earl and the Dying Girl', 'Birdman or (The Unexpected Virtue of Ignorance)', 'Midnight in Paris', 'The Hangover', 'Silver Linings Playbook', '(500) Days of Summer', 'Flipped', 'Lost in Translation', 'Good Bye Lenin!', 'Adaptation.', 'Hedwig and the Angry Inch', 'Office Space', 'Happiness', 'Rushmore', 'Being John Malkovich', 'As Good as It Gets', 'Le dîner de cons', 'Do lok tin si', 'Clerks', 'Short Cuts', 'The Muppet Christmas Carol', 'Barton Fink', 'Withnail & I', 'The Purple Rose of Cairo', 'After Hours', 'Zelig', 'Airplane!', 'Love and Death', 'Blazing Saddles', 'The Odd Couple', 'The Ladykillers', 'Sabrina', 'The Quiet Man', 'Once Upon a Time... in Hollywood', '50/50', \"Jeux d'enfants\", 'The Station Agent', 'The Royal Tenenbaums', 'American Psycho', 'Trois couleurs: Blanc', 'Dazed and Confused', 'My Cousin Vinny', 'Delicatessen', 'Home Alone', 'When Harry Met Sally...', 'The Naked Gun: From the Files of Police Squad!', 'Planes, Trains & Automobiles', 'The Long Goodbye', \"A Hard Day's Night\", \"Breakfast at Tiffany's\"]\n",
      "\n",
      "Genre: Crime\n",
      "['The Godfather', 'The Godfather: Part II', '12 Angry Men', 'Pulp Fiction', 'Cidade de Deus', 'The Green Mile', 'Se7en', 'The Silence of the Lambs', 'Joker', 'The Departed', 'The Usual Suspects', 'Once Upon a Time in America', 'Tengoku to jigoku', 'Witness for the Prosecution', 'Andhadhun', 'Drishyam', 'Reservoir Dogs', 'Scarface', 'Taxi Driver', 'A Clockwork Orange', 'Double Indemnity', 'M - Eine Stadt sucht einen Mörder', 'Talvar', 'Drishyam', 'L.A. Confidential', 'Eskiya', 'Heat', 'Casino', 'To Kill a Mockingbird', 'Du rififi chez les hommes', 'Dial M for Murder', 'Rashômon', 'Contratiempo', 'Prisoners', 'No Country for Old Men', 'Salinui chueok', 'Fargo', 'La haine', 'Le samouraï', 'Cool Hand Luke', 'Les quatre cents coups', 'On the Waterfront', 'Special Chabbis', 'Bin-jip', 'Sin City', 'Dogville', 'Dancer in the Dark', 'Bound by Honor', 'Anatomy of a Murder', 'Touch of Evil', 'The Killing', 'The Night of the Hunter', 'Les diaboliques', 'Rope', 'Out of the Past', 'Manbiki kazoku', 'Nightcrawler', \"Bir Zamanlar Anadolu'da\", 'Un prophète', 'Låt den rätte komma in', 'Mystic River', 'Nueve reinas', 'Once Were Warriors', 'True Romance', \"Carlito's Way\", 'The Untouchables', 'In the Heat of the Night', 'Strangers on a Train', 'The Big Sleep', 'The Hateful Eight', 'La migliore offerta', 'The Girl with the Dragon Tattoo', 'Madeo', 'Män som hatar kvinnor', 'Drive', 'Lilja 4-ever', 'Hana-bi', 'A Bronx Tale', 'Boyz n the Hood', 'Mississippi Burning', 'The Day of the Jackal', 'À bout de souffle', 'Wind River', 'Death Note: Desu nôto', 'This Is England', 'Zodiac', 'Crash', 'Road to Perdition', \"Ocean's Eleven\", 'Training Day', 'Primal Fear', 'Glengarry Glen Ross', \"Miller's Crossing\", 'Der Name der Rose', 'Victoria', 'Leviafan', 'Inside Man', 'Gone Baby Gone', \"Dead Man's Shoes\", '21 Grams', 'Boksuneun naui geot', 'Lola rennt', 'Funny Games', 'Sleepers', 'The Godfather: Part III', 'Blood Simple', 'The 39 Steps']\n",
      "\n",
      "Genre: Drama\n",
      "['The Shawshank Redemption', 'Fight Club', 'Forrest Gump', \"One Flew Over the Cuckoo's Nest\", 'Soorarai Pottru', 'Saving Private Ryan', \"It's a Wonderful Life\", 'Whiplash', 'The Prestige', 'American History X', 'Nuovo Cinema Paradiso', 'Casablanca', 'Capharnaüm', 'Django Unchained', 'Taare Zameen Par', 'The Lives of Others', 'The Shining', 'Apocalypse Now', 'Anand', 'Paths of Glory', 'Sunset Blvd.', '1917', 'Tumbbad', 'Jagten', 'Jodaeiye Nader az Simin', 'Incendies', 'Miracle in cell NO.7', 'Babam ve Oglum', 'Eternal Sunshine of the Spotless Mind', 'Requiem for a Dream', 'American Beauty', 'Good Will Hunting', 'Bacheha-Ye aseman', 'Full Metal Jacket', 'Idi i smotri', 'Ikiru', 'Ladri di biciclette', 'Citizen Kane', 'Metropolis', 'Mandariinid', 'Udaan', 'El secreto de sus ojos', 'Chak De! India', 'There Will Be Blood', \"Pan's Labyrinth\", 'Black', 'Swades: We, the People', 'Unforgiven', 'Stalker', 'Höstsonaten', 'Judgment at Nuremberg', 'Smultronstället', 'Det sjunde inseglet', 'Tôkyô monogatari', 'All About Eve', 'Portrait de la jeune fille en feu', 'Pink', 'Ah-ga-ssi', 'Mommy', 'Room', 'Kis Uykusu', 'Gone Girl', 'Gran Torino', 'Okuribito', 'Million Dollar Baby', 'Before Sunset', 'Amores perros', 'The Sixth Sense', \"La leggenda del pianista sull'oceano\", 'Fa yeung nin wah', 'Trainspotting', 'Dilwale Dulhania Le Jayenge', 'Before Sunrise', 'Trois couleurs: Rouge', 'Ba wang bie ji', 'Dà hóng denglong gaogao guà', 'Platoon', 'Paris, Texas', 'Pink Floyd: The Wall', 'Fanny och Alexander', 'The Deer Hunter', 'Rocky', 'Network', 'Chinatown', 'Viskningar och rop', 'Solaris', 'Persona', 'La battaglia di Algeri', 'El ángel exterminador', 'What Ever Happened to Baby Jane?', 'The Man Who Shot Liberty Valance', 'Ivanovo detstvo', 'Jungfrukällan', 'Le notti di Cabiria', 'Kumonosu-jô', 'Ace in the Hole', 'The Red Shoes', 'Rebecca', 'Gone with the Wind', 'La Grande Illusion', 'Sunrise: A Song of Two Humans', 'Airlift', 'Wonder', 'Gully Boy', 'Short Term 12', 'Her', 'The Perks of Being a Wallflower', 'The Help', 'Darbareye Elly', 'Dev.D', 'My Name Is Khan', 'Slumdog Millionaire', 'Black Swan', 'Vozvrashchenie', 'Bom Yeoareum Gaeul Gyeoul Geurigo Bom', 'Donnie Darko', 'Magnolia', 'Festen', 'Central do Brasil', 'Sling Blade', 'Scent of a Woman', 'JFK', 'Rain Man', 'Der Himmel über Berlin', 'Au revoir les enfants', 'Kagemusha', 'The Last Picture Show', 'Fiddler on the Roof', 'Il conformista', \"Rosemary's Baby\", \"Who's Afraid of Virginia Woolf?\", 'Doctor Zhivago', '8½', 'Vivre sa vie: Film en douze tableaux', 'The Hustler', 'Cat on a Hot Tin Roof', 'Sweet Smell of Success', 'La Strada', 'A Streetcar Named Desire', 'In a Lonely Place', 'Brief Encounter', 'Laura', 'The Best Years of Our Lives', 'The Grapes of Wrath', 'All Quiet on the Western Front', 'Bronenosets Potemkin', 'Call Me by Your Name', 'I, Daniel Blake', 'Arrival', 'Before Midnight', 'Amour', 'Moon', 'The Wrestler', 'Boyhood', '4 luni, 3 saptamâni si 2 zile', 'The Man from Earth', 'Les choristes', 'Gegen die Wand', 'Hable con ella', 'Mulholland Dr.', 'Boogie Nights', 'Trois couleurs: Bleu', 'Edward Scissorhands', 'Brazil', 'All That Jazz', 'The Manchurian Candidate', \"L'avventura\", 'Hiroshima mon amour', 'East of Eden', 'High Noon', 'Notorious', 'The Lost Weekend', 'Freaks', 'Sound of Metal', 'Forushande', 'Manchester by the Sea', 'Under sandet', 'Little Women', 'Le passé', 'La grande bellezza', 'The Lunchbox', 'Kokuhaku', 'Das weiße Band - Eine deutsche Kindergeschichte', 'The Trial of the Chicago 7', 'The Boy in the Striped Pyjamas', 'Once', 'Auf der anderen Seite', 'Atonement', 'Mr. Nobody', 'The Curious Case of Benjamin Button', 'Veer-Zaara', 'Pride & Prejudice', 'Ondskan', 'The Notebook', 'Todo sobre mi madre', 'Titanic', 'Gattaca', 'Breaking the Waves', \"What's Eating Gilbert Grape\", 'The Remains of the Day', 'La double vie de Véronique', 'Misery', 'The Color Purple', 'Kramer vs. Kramer', 'Days of Heaven', 'The Conversation', 'Cabaret', 'Midnight Cowboy', 'My Fair Lady', 'Jules et Jim', 'Bride of Frankenstein', 'Frankenstein', 'Roma', \"God's Own Country\", 'The Fault in Our Stars', \"La vie d'Adèle\", 'Kai po che!', 'The Broken Circle Breakdown', 'Rockstar', 'Detachment', 'Gravity', 'Beasts of No Nation', 'Ex Machina', 'Efter brylluppet', 'Joyeux Noël', 'Zwartboek', 'Brokeback Mountain', 'The Machinist', 'The Magdalene Sisters', 'In America', 'I Am Sam', 'Black Hawk Down', 'Das Experiment', 'Billy Elliot', 'Abre los ojos', 'Hamlet', 'A Little Princess', 'Philadelphia', 'A Few Good Men', 'Fried Green Tomatoes', 'Blue Velvet', 'The Verdict', 'Ordinary People', 'Le locataire', 'Belle de jour', 'Repulsion', 'Zulu', 'The Birds', 'Cape Fear', 'Peeping Tom', 'Les yeux sans visage', 'Invasion of the Body Snatchers', 'Rebel Without a Cause', 'The Day the Earth Stood Still', 'Gilda', 'Searching', 'Nelyubov', 'The Florida Project', 'Gifted', 'Mustang', 'Bridge of Spies', 'Creed', 'A Star Is Born', 'True Grit', 'Hævnen', 'La piel que habito', 'Die Welle', 'The Visitor', 'Seven Pounds', 'The Illusionist', 'Match Point', 'Synecdoche, New York', 'Mysterious Skin', 'Un long dimanche de fiançailles', '25th Hour', 'The Butterfly Effect', '28 Days Later...', 'Y tu mamá también', 'Enemy at the Gates', 'The Thin Red Line', 'Sense and Sensibility', 'The Bridges of Madison County', 'On Golden Pond', 'Close Encounters of the Third Kind', 'Giù la testa', 'Blowup', 'Giant', 'From Here to Eternity', 'Lifeboat']\n",
      "\n",
      "Genre: Family\n",
      "['E.T. the Extra-Terrestrial', 'Willy Wonka & the Chocolate Factory']\n",
      "\n",
      "Genre: Fantasy\n",
      "['Das Cabinet des Dr. Caligari', 'Nosferatu']\n",
      "\n",
      "Genre: Film-Noir\n",
      "['The Third Man', 'The Maltese Falcon', 'Shadow of a Doubt']\n",
      "\n",
      "Genre: Horror\n",
      "['Psycho', 'Alien', 'The Thing', 'The Exorcist', 'Night of the Living Dead', 'The Innocents', 'Get Out', 'Halloween', 'The Invisible Man', 'Saw', 'The Others']\n",
      "\n",
      "Genre: Mystery\n",
      "['Memento', 'Rear Window', 'Vertigo', 'Shutter Island', 'Kahaani', 'Twelve Monkeys', 'Sleuth', 'The Lady Vanishes', 'Spoorloos', 'El cuerpo', 'Dark City', 'Lost Highway']\n",
      "\n",
      "Genre: Thriller\n",
      "['Wait Until Dark']\n",
      "\n",
      "Genre: Western\n",
      "['Il buono, il brutto, il cattivo', 'Once Upon a Time in the West', 'Per qualche dollaro in più', 'The Outlaw Josey Wales']\n",
      "\n"
     ]
    }
   ],
   "source": [
    "# Grouping data by Genre\n",
    "grouped_by_genre = df.groupby('Genre')\n",
    "\n",
    "grouped_by_genre\n",
    "\n",
    "# Displaying the movie lists for each genre\n",
    "for genre, group in grouped_by_genre:\n",
    "    print(f\"Genre: {genre}\")\n",
    "    print(group['Series_Title'].tolist())\n",
    "    print()"
   ]
  },
  {
   "cell_type": "code",
   "execution_count": 3,
   "id": "e4234731",
   "metadata": {},
   "outputs": [
    {
     "name": "stdout",
     "output_type": "stream",
     "text": [
      "Genre: Action\n",
      "                                         Series_Title  IMDB_Rating\n",
      "2                                     The Dark Knight          9.0\n",
      "5       The Lord of the Rings: The Return of the King          8.9\n",
      "8                                           Inception          8.8\n",
      "10  The Lord of the Rings: The Fellowship of the Ring          8.8\n",
      "13              The Lord of the Rings: The Two Towers          8.7\n",
      "\n",
      "Genre: Adventure\n",
      "              Series_Title  IMDB_Rating\n",
      "21            Interstellar          8.6\n",
      "47      Back to the Future          8.5\n",
      "93    Inglourious Basterds          8.3\n",
      "110               Das Boot          8.3\n",
      "114  2001: A Space Odyssey          8.3\n",
      "\n",
      "Genre: Animation\n",
      "                         Series_Title  IMDB_Rating\n",
      "23      Sen to Chihiro no kamikakushi          8.6\n",
      "43                      The Lion King          8.5\n",
      "46                     Hotaru no haka          8.5\n",
      "56                     Kimi no na wa.          8.4\n",
      "58  Spider-Man: Into the Spider-Verse          8.4\n",
      "\n",
      "Genre: Biography\n",
      "        Series_Title  IMDB_Rating\n",
      "7   Schindler's List          8.9\n",
      "15        Goodfellas          8.7\n",
      "18          Hamilton          8.6\n",
      "35  The Intouchables          8.5\n",
      "38       The Pianist          8.5\n",
      "\n",
      "Genre: Comedy\n",
      "       Series_Title  IMDB_Rating\n",
      "19     Gisaengchung          8.6\n",
      "26  La vita è bella          8.6\n",
      "51     Modern Times          8.5\n",
      "52      City Lights          8.5\n",
      "64         3 Idiots          8.4\n",
      "\n",
      "Genre: Crime\n",
      "              Series_Title  IMDB_Rating\n",
      "1            The Godfather          9.2\n",
      "3   The Godfather: Part II          9.0\n",
      "4             12 Angry Men          9.0\n",
      "6             Pulp Fiction          8.9\n",
      "22          Cidade de Deus          8.6\n",
      "\n",
      "Genre: Drama\n",
      "                       Series_Title  IMDB_Rating\n",
      "0          The Shawshank Redemption          9.3\n",
      "9                        Fight Club          8.8\n",
      "11                     Forrest Gump          8.8\n",
      "17  One Flew Over the Cuckoo's Nest          8.7\n",
      "20                  Soorarai Pottru          8.6\n",
      "\n",
      "Genre: Family\n",
      "                            Series_Title  IMDB_Rating\n",
      "688           E.T. the Extra-Terrestrial          7.8\n",
      "698  Willy Wonka & the Chocolate Factory          7.8\n",
      "\n",
      "Genre: Fantasy\n",
      "                     Series_Title  IMDB_Rating\n",
      "321  Das Cabinet des Dr. Caligari          8.1\n",
      "568                     Nosferatu          7.9\n",
      "\n",
      "Genre: Film-Noir\n",
      "           Series_Title  IMDB_Rating\n",
      "309       The Third Man          8.1\n",
      "456  The Maltese Falcon          8.0\n",
      "712   Shadow of a Doubt          7.8\n",
      "\n",
      "Genre: Horror\n",
      "                 Series_Title  IMDB_Rating\n",
      "49                     Psycho          8.5\n",
      "75                      Alien          8.4\n",
      "271                 The Thing          8.1\n",
      "419              The Exorcist          8.0\n",
      "544  Night of the Living Dead          7.9\n",
      "\n",
      "Genre: Mystery\n",
      "       Series_Title  IMDB_Rating\n",
      "69          Memento          8.4\n",
      "81      Rear Window          8.4\n",
      "119         Vertigo          8.3\n",
      "145  Shutter Island          8.2\n",
      "220         Kahaani          8.1\n",
      "\n",
      "Genre: Thriller\n",
      "        Series_Title  IMDB_Rating\n",
      "700  Wait Until Dark          7.8\n",
      "\n",
      "Genre: Western\n",
      "                        Series_Title  IMDB_Rating\n",
      "12   Il buono, il brutto, il cattivo          8.8\n",
      "48      Once Upon a Time in the West          8.5\n",
      "115       Per qualche dollaro in più          8.3\n",
      "691           The Outlaw Josey Wales          7.8\n",
      "\n"
     ]
    }
   ],
   "source": [
    "# Displaying the first few rows of each group\n",
    "for genre, group in grouped_by_genre:\n",
    "    print(f\"Genre: {genre}\")\n",
    "    print(group[['Series_Title', 'IMDB_Rating']].head())\n",
    "    print()"
   ]
  },
  {
   "cell_type": "code",
   "execution_count": 4,
   "id": "542a2fe5",
   "metadata": {},
   "outputs": [
    {
     "name": "stdout",
     "output_type": "stream",
     "text": [
      "Director\n",
      "Aamir Khan             1\n",
      "Aaron Sorkin           1\n",
      "Abdellatif Kechiche    1\n",
      "Abhishek Chaubey       1\n",
      "Abhishek Kapoor        1\n",
      "                      ..\n",
      "Zack Snyder            2\n",
      "Zaza Urushadze         1\n",
      "Zoya Akhtar            2\n",
      "Çagan Irmak            1\n",
      "Ömer Faruk Sorak       1\n",
      "Length: 548, dtype: int64\n"
     ]
    }
   ],
   "source": [
    "# Grouping movies by director\n",
    "grouped_by_director = df.groupby('Director')\n",
    "\n",
    "# Counting the number of movies per director\n",
    "movie_count_by_director = grouped_by_director.size()\n",
    "\n",
    "# Displaying the movie counts for each director\n",
    "print(movie_count_by_director)"
   ]
  },
  {
   "cell_type": "code",
   "execution_count": 5,
   "id": "60cac7ff",
   "metadata": {},
   "outputs": [
    {
     "name": "stdout",
     "output_type": "stream",
     "text": [
      "Genre\n",
      "Action       7.949419\n",
      "Adventure    7.937500\n",
      "Animation    7.930488\n",
      "Biography    7.938636\n",
      "Comedy       7.901290\n",
      "Crime        8.016822\n",
      "Drama        7.957439\n",
      "Family       7.800000\n",
      "Fantasy      8.000000\n",
      "Film-Noir    7.966667\n",
      "Horror       7.909091\n",
      "Mystery      7.975000\n",
      "Thriller     7.800000\n",
      "Western      8.350000\n",
      "Name: IMDB_Rating, dtype: float64\n"
     ]
    }
   ],
   "source": [
    "# Grouping data by Genre\n",
    "grouped_data = df.groupby('Genre')\n",
    "\n",
    "# Calculating average IMDb rating for each genre using mean()\n",
    "average_rating_by_genre = grouped_data['IMDB_Rating'].mean()\n",
    "\n",
    "# Display the result\n",
    "print(average_rating_by_genre)"
   ]
  },
  {
   "cell_type": "code",
   "execution_count": 6,
   "id": "936e4e4e",
   "metadata": {},
   "outputs": [
    {
     "name": "stdout",
     "output_type": "stream",
     "text": [
      "Genre\n",
      "Action       3.263226e+10\n",
      "Adventure    9.496922e+09\n",
      "Animation    1.463147e+10\n",
      "Biography    8.276358e+09\n",
      "Comedy       1.566387e+10\n",
      "Crime        8.452632e+09\n",
      "Drama        3.540997e+10\n",
      "Family       4.391106e+08\n",
      "Fantasy      7.827267e+08\n",
      "Film-Noir    1.259105e+08\n",
      "Horror       1.034649e+09\n",
      "Mystery      1.256417e+09\n",
      "Thriller     1.755074e+07\n",
      "Western      5.822151e+07\n",
      "Name: Gross, dtype: float64\n"
     ]
    }
   ],
   "source": [
    "# Grouping data by Genre\n",
    "grouped_data = df.groupby('Genre')\n",
    "\n",
    "# Calculating total gross earnings for each genre using sum()\n",
    "total_gross_by_genre = grouped_data['Gross'].sum()\n",
    "\n",
    "# Display the result\n",
    "print(total_gross_by_genre)"
   ]
  },
  {
   "cell_type": "code",
   "execution_count": 7,
   "id": "e814c94a",
   "metadata": {},
   "outputs": [
    {
     "name": "stdout",
     "output_type": "stream",
     "text": [
      "Genre\n",
      "Action       7.6\n",
      "Adventure    7.6\n",
      "Animation    7.6\n",
      "Biography    7.6\n",
      "Comedy       7.6\n",
      "Crime        7.6\n",
      "Drama        7.6\n",
      "Family       7.8\n",
      "Fantasy      7.9\n",
      "Film-Noir    7.8\n",
      "Horror       7.6\n",
      "Mystery      7.6\n",
      "Thriller     7.8\n",
      "Western      7.8\n",
      "Name: IMDB_Rating, dtype: float64\n"
     ]
    }
   ],
   "source": [
    "# Grouping data by Genre\n",
    "grouped_data = df.groupby('Genre')\n",
    "\n",
    "# Finding lowest IMDb rating for each genre using min()\n",
    "lowest_rating_by_genre = grouped_data['IMDB_Rating'].min()\n",
    "\n",
    "# Display the result\n",
    "print(lowest_rating_by_genre)"
   ]
  },
  {
   "cell_type": "code",
   "execution_count": 8,
   "id": "64b443cf",
   "metadata": {},
   "outputs": [
    {
     "name": "stdout",
     "output_type": "stream",
     "text": [
      "Genre\n",
      "Action       2303232\n",
      "Adventure    1512360\n",
      "Animation     999790\n",
      "Biography    1213505\n",
      "Comedy        939631\n",
      "Crime        1826188\n",
      "Drama        2343110\n",
      "Family        372490\n",
      "Fantasy        88794\n",
      "Film-Noir     158731\n",
      "Horror        787806\n",
      "Mystery      1129894\n",
      "Thriller       27733\n",
      "Western       688390\n",
      "Name: No_of_Votes, dtype: int64\n"
     ]
    }
   ],
   "source": [
    "# Grouping data by Genre\n",
    "grouped_data = df.groupby('Genre')\n",
    "\n",
    "# Finding highest number of votes for each genre using max()\n",
    "highest_votes_by_genre = grouped_data['No_of_Votes'].max()\n",
    "\n",
    "# Display the result\n",
    "print(highest_votes_by_genre)"
   ]
  },
  {
   "cell_type": "code",
   "execution_count": 9,
   "id": "897a4dba",
   "metadata": {},
   "outputs": [
    {
     "name": "stdout",
     "output_type": "stream",
     "text": [
      "Genre\n",
      "Action       172\n",
      "Adventure     72\n",
      "Animation     82\n",
      "Biography     88\n",
      "Comedy       155\n",
      "Crime        107\n",
      "Drama        289\n",
      "Family         2\n",
      "Fantasy        2\n",
      "Film-Noir      3\n",
      "Horror        11\n",
      "Mystery       12\n",
      "Thriller       1\n",
      "Western        4\n",
      "Name: IMDB_Rating, dtype: int64\n"
     ]
    }
   ],
   "source": [
    "# Grouping data by Genre\n",
    "grouped_data = df.groupby('Genre')\n",
    "\n",
    "# Counting valid IMDb ratings for each genre using count()\n",
    "valid_ratings_count_by_genre = grouped_data['IMDB_Rating'].count()\n",
    "\n",
    "# Display the result\n",
    "print(valid_ratings_count_by_genre)"
   ]
  },
  {
   "cell_type": "code",
   "execution_count": 10,
   "id": "a18faefb",
   "metadata": {},
   "outputs": [
    {
     "name": "stdout",
     "output_type": "stream",
     "text": [
      "Released_Year\n",
      "1920    8.1\n",
      "1921    8.3\n",
      "1922    7.9\n",
      "1924    8.2\n",
      "1925    8.1\n",
      "       ... \n",
      "2017    7.8\n",
      "2018    8.0\n",
      "2019    7.9\n",
      "2020    8.0\n",
      "PG      7.6\n",
      "Name: IMDB_Rating, Length: 100, dtype: float64\n"
     ]
    }
   ],
   "source": [
    "# Grouping data by Released_Year\n",
    "grouped_data = df.groupby('Released_Year')\n",
    "\n",
    "# Computing median IMDb rating for movies released in each year using median()\n",
    "median_rating_by_year = grouped_data['IMDB_Rating'].median()\n",
    "\n",
    "# Display the result\n",
    "print(median_rating_by_year)"
   ]
  },
  {
   "cell_type": "code",
   "execution_count": 11,
   "id": "5c7d930f",
   "metadata": {},
   "outputs": [
    {
     "name": "stdout",
     "output_type": "stream",
     "text": [
      "Genre\n",
      "Action       0.304258\n",
      "Adventure    0.229781\n",
      "Animation    0.253221\n",
      "Biography    0.267140\n",
      "Comedy       0.228771\n",
      "Crime        0.335477\n",
      "Drama        0.267229\n",
      "Family       0.000000\n",
      "Fantasy      0.141421\n",
      "Film-Noir    0.152753\n",
      "Horror       0.311302\n",
      "Mystery      0.310791\n",
      "Thriller          NaN\n",
      "Western      0.420317\n",
      "Name: IMDB_Rating, dtype: float64\n"
     ]
    }
   ],
   "source": [
    "# Grouping data by Genre\n",
    "grouped_data = df.groupby('Genre')\n",
    "\n",
    "# Computing standard deviation of IMDb ratings for movies within each genre using std()\n",
    "std_deviation_by_genre = grouped_data['IMDB_Rating'].std()\n",
    "\n",
    "# Display the result\n",
    "print(std_deviation_by_genre)"
   ]
  },
  {
   "cell_type": "code",
   "execution_count": 12,
   "id": "2d5d5545",
   "metadata": {},
   "outputs": [
    {
     "data": {
      "text/plain": [
       "Genre\n",
       "Action       0.092573\n",
       "Adventure    0.052799\n",
       "Animation    0.064121\n",
       "Biography    0.071364\n",
       "Comedy       0.052336\n",
       "Crime        0.112545\n",
       "Drama        0.071411\n",
       "Family       0.000000\n",
       "Fantasy      0.020000\n",
       "Film-Noir    0.023333\n",
       "Horror       0.096909\n",
       "Mystery      0.096591\n",
       "Thriller          NaN\n",
       "Western      0.176667\n",
       "Name: IMDB_Rating, dtype: float64"
      ]
     },
     "execution_count": 12,
     "metadata": {},
     "output_type": "execute_result"
    }
   ],
   "source": [
    "# Grouping data by Genre\n",
    "grouped_data = df.groupby('Genre')\n",
    "\n",
    "# Computing variance of IMDb ratings for movies within each genre using var()\n",
    "variance_by_genre = grouped_data['IMDB_Rating'].var()\n",
    "\n",
    "# Display the result\n",
    "variance_by_genre"
   ]
  },
  {
   "cell_type": "code",
   "execution_count": 13,
   "id": "591c805a",
   "metadata": {},
   "outputs": [
    {
     "data": {
      "text/plain": [
       "IMDB_Rating    7.949300e+00\n",
       "No_of_Votes    2.736929e+08\n",
       "dtype: float64"
      ]
     },
     "execution_count": 13,
     "metadata": {},
     "output_type": "execute_result"
    }
   ],
   "source": [
    "# Applying different aggregation functions to IMDb ratings and No. of Votes\n",
    "result = df.agg({'IMDB_Rating': 'mean', 'No_of_Votes': 'sum'})\n",
    "result"
   ]
  },
  {
   "cell_type": "code",
   "execution_count": 14,
   "id": "c13c0fbb",
   "metadata": {},
   "outputs": [
    {
     "data": {
      "text/plain": [
       "Gross        936662225.0\n",
       "Metascore           28.0\n",
       "dtype: float64"
      ]
     },
     "execution_count": 14,
     "metadata": {},
     "output_type": "execute_result"
    }
   ],
   "source": [
    "result = df.agg({'Gross': 'max', 'Metascore': 'min'})\n",
    "result"
   ]
  },
  {
   "cell_type": "code",
   "execution_count": 15,
   "id": "17b4fa62",
   "metadata": {},
   "outputs": [
    {
     "data": {
      "text/html": [
       "<div>\n",
       "<style scoped>\n",
       "    .dataframe tbody tr th:only-of-type {\n",
       "        vertical-align: middle;\n",
       "    }\n",
       "\n",
       "    .dataframe tbody tr th {\n",
       "        vertical-align: top;\n",
       "    }\n",
       "\n",
       "    .dataframe thead th {\n",
       "        text-align: right;\n",
       "    }\n",
       "</style>\n",
       "<table border=\"1\" class=\"dataframe\">\n",
       "  <thead>\n",
       "    <tr style=\"text-align: right;\">\n",
       "      <th></th>\n",
       "      <th></th>\n",
       "      <th>IMDB_Rating</th>\n",
       "      <th>No_of_Votes</th>\n",
       "    </tr>\n",
       "    <tr>\n",
       "      <th>Genre</th>\n",
       "      <th>Released_Year</th>\n",
       "      <th></th>\n",
       "      <th></th>\n",
       "    </tr>\n",
       "  </thead>\n",
       "  <tbody>\n",
       "    <tr>\n",
       "      <th rowspan=\"5\" valign=\"top\">Action</th>\n",
       "      <th>1924</th>\n",
       "      <td>8.2</td>\n",
       "      <td>41985</td>\n",
       "    </tr>\n",
       "    <tr>\n",
       "      <th>1926</th>\n",
       "      <td>8.1</td>\n",
       "      <td>81156</td>\n",
       "    </tr>\n",
       "    <tr>\n",
       "      <th>1932</th>\n",
       "      <td>7.8</td>\n",
       "      <td>25312</td>\n",
       "    </tr>\n",
       "    <tr>\n",
       "      <th>1938</th>\n",
       "      <td>7.9</td>\n",
       "      <td>47175</td>\n",
       "    </tr>\n",
       "    <tr>\n",
       "      <th>1948</th>\n",
       "      <td>7.8</td>\n",
       "      <td>65162</td>\n",
       "    </tr>\n",
       "    <tr>\n",
       "      <th>...</th>\n",
       "      <th>...</th>\n",
       "      <td>...</td>\n",
       "      <td>...</td>\n",
       "    </tr>\n",
       "    <tr>\n",
       "      <th>Thriller</th>\n",
       "      <th>1967</th>\n",
       "      <td>7.8</td>\n",
       "      <td>27733</td>\n",
       "    </tr>\n",
       "    <tr>\n",
       "      <th rowspan=\"4\" valign=\"top\">Western</th>\n",
       "      <th>1965</th>\n",
       "      <td>8.3</td>\n",
       "      <td>232772</td>\n",
       "    </tr>\n",
       "    <tr>\n",
       "      <th>1966</th>\n",
       "      <td>8.8</td>\n",
       "      <td>688390</td>\n",
       "    </tr>\n",
       "    <tr>\n",
       "      <th>1968</th>\n",
       "      <td>8.5</td>\n",
       "      <td>302844</td>\n",
       "    </tr>\n",
       "    <tr>\n",
       "      <th>1976</th>\n",
       "      <td>7.8</td>\n",
       "      <td>65659</td>\n",
       "    </tr>\n",
       "  </tbody>\n",
       "</table>\n",
       "<p>434 rows × 2 columns</p>\n",
       "</div>"
      ],
      "text/plain": [
       "                        IMDB_Rating  No_of_Votes\n",
       "Genre    Released_Year                          \n",
       "Action   1924                   8.2        41985\n",
       "         1926                   8.1        81156\n",
       "         1932                   7.8        25312\n",
       "         1938                   7.9        47175\n",
       "         1948                   7.8        65162\n",
       "...                             ...          ...\n",
       "Thriller 1967                   7.8        27733\n",
       "Western  1965                   8.3       232772\n",
       "         1966                   8.8       688390\n",
       "         1968                   8.5       302844\n",
       "         1976                   7.8        65659\n",
       "\n",
       "[434 rows x 2 columns]"
      ]
     },
     "execution_count": 15,
     "metadata": {},
     "output_type": "execute_result"
    }
   ],
   "source": [
    "\n",
    "# Grouping by 'Genre' and 'Released_Year', and calculating average rating and total votes\n",
    "grouped = df.groupby(['Genre', 'Released_Year']).agg({'IMDB_Rating': 'mean', 'No_of_Votes': 'sum'})\n",
    "\n",
    "# Display the result\n",
    "grouped"
   ]
  },
  {
   "cell_type": "code",
   "execution_count": 16,
   "id": "73b493f5",
   "metadata": {},
   "outputs": [
    {
     "name": "stdout",
     "output_type": "stream",
     "text": [
      "           High_Rated  Low_Rated\n",
      "Genre                           \n",
      "Action             52        120\n",
      "Adventure          23         49\n",
      "Animation          25         57\n",
      "Biography          27         61\n",
      "Comedy             39        116\n",
      "Crime              42         65\n",
      "Drama             101        188\n",
      "Family              0          2\n",
      "Fantasy             1          1\n",
      "Film-Noir           1          2\n",
      "Horror              3          8\n",
      "Mystery             5          7\n",
      "Thriller            0          1\n",
      "Western             3          1\n"
     ]
    }
   ],
   "source": [
    "# Define a custom aggregation function\n",
    "def custom_aggregation(group):\n",
    "    high_rated = sum(group['IMDB_Rating'] > 8.0)\n",
    "    low_rated = sum(group['IMDB_Rating'] <= 8.0)\n",
    "    return pd.Series({'High_Rated': high_rated, 'Low_Rated': low_rated})\n",
    "\n",
    "# Grouping data by Genre and applying the custom aggregation function\n",
    "grouped_data = df.groupby('Genre').apply(custom_aggregation)\n",
    "\n",
    "# Display the result\n",
    "print(grouped_data)"
   ]
  },
  {
   "cell_type": "code",
   "execution_count": 17,
   "id": "8fc721f2",
   "metadata": {},
   "outputs": [
    {
     "name": "stdout",
     "output_type": "stream",
     "text": [
      "The most prolific director is 'Alfred Hitchcock' with 14 movies.\n"
     ]
    }
   ],
   "source": [
    "# Define a custom aggregation function to find most prolific director\n",
    "def most_prolific_director(group):\n",
    "    director_count = group.shape[0]  # Count of movies directed by the director\n",
    "    return pd.Series({'Total_Movies': director_count})\n",
    "\n",
    "# Grouping data by Director and applying the UDF\n",
    "grouped_by_director = df.groupby('Director')\n",
    "prolific_director_stats = grouped_by_director.apply(most_prolific_director)\n",
    "\n",
    "# Find the director with the most movies\n",
    "most_prolific = prolific_director_stats['Total_Movies'].idxmax()\n",
    "print(f\"The most prolific director is '{most_prolific}' with {prolific_director_stats['Total_Movies'].max()} movies.\")"
   ]
  },
  {
   "cell_type": "code",
   "execution_count": 18,
   "id": "26f420fc",
   "metadata": {},
   "outputs": [
    {
     "ename": "ValueError",
     "evalue": "invalid literal for int() with base 10: 'PG'",
     "output_type": "error",
     "traceback": [
      "\u001b[0;31m---------------------------------------------------------------------------\u001b[0m",
      "\u001b[0;31mValueError\u001b[0m                                Traceback (most recent call last)",
      "\u001b[0;32m/var/folders/xh/yz6j577n6lg1j73_jl6__ymh0000gn/T/ipykernel_19068/2255289104.py\u001b[0m in \u001b[0;36m<module>\u001b[0;34m\u001b[0m\n\u001b[1;32m      3\u001b[0m     \u001b[0;32mreturn\u001b[0m \u001b[0;34mf\"{(int(year) // 10) * 10}s\"\u001b[0m\u001b[0;34m\u001b[0m\u001b[0;34m\u001b[0m\u001b[0m\n\u001b[1;32m      4\u001b[0m \u001b[0;34m\u001b[0m\u001b[0m\n\u001b[0;32m----> 5\u001b[0;31m \u001b[0mgrouped_by_decade\u001b[0m \u001b[0;34m=\u001b[0m \u001b[0mdf\u001b[0m\u001b[0;34m.\u001b[0m\u001b[0mgroupby\u001b[0m\u001b[0;34m(\u001b[0m\u001b[0mdf\u001b[0m\u001b[0;34m[\u001b[0m\u001b[0;34m'Released_Year'\u001b[0m\u001b[0;34m]\u001b[0m\u001b[0;34m.\u001b[0m\u001b[0mapply\u001b[0m\u001b[0;34m(\u001b[0m\u001b[0mgroup_by_decade\u001b[0m\u001b[0;34m)\u001b[0m\u001b[0;34m)\u001b[0m\u001b[0;34m\u001b[0m\u001b[0;34m\u001b[0m\u001b[0m\n\u001b[0m\u001b[1;32m      6\u001b[0m \u001b[0;34m\u001b[0m\u001b[0m\n\u001b[1;32m      7\u001b[0m \u001b[0;31m# Calculate average rating for each decade\u001b[0m\u001b[0;34m\u001b[0m\u001b[0;34m\u001b[0m\u001b[0m\n",
      "\u001b[0;32m~/opt/anaconda3/lib/python3.9/site-packages/pandas/core/series.py\u001b[0m in \u001b[0;36mapply\u001b[0;34m(self, func, convert_dtype, args, **kwargs)\u001b[0m\n\u001b[1;32m   4355\u001b[0m         \u001b[0mdtype\u001b[0m\u001b[0;34m:\u001b[0m \u001b[0mfloat64\u001b[0m\u001b[0;34m\u001b[0m\u001b[0;34m\u001b[0m\u001b[0m\n\u001b[1;32m   4356\u001b[0m         \"\"\"\n\u001b[0;32m-> 4357\u001b[0;31m         \u001b[0;32mreturn\u001b[0m \u001b[0mSeriesApply\u001b[0m\u001b[0;34m(\u001b[0m\u001b[0mself\u001b[0m\u001b[0;34m,\u001b[0m \u001b[0mfunc\u001b[0m\u001b[0;34m,\u001b[0m \u001b[0mconvert_dtype\u001b[0m\u001b[0;34m,\u001b[0m \u001b[0margs\u001b[0m\u001b[0;34m,\u001b[0m \u001b[0mkwargs\u001b[0m\u001b[0;34m)\u001b[0m\u001b[0;34m.\u001b[0m\u001b[0mapply\u001b[0m\u001b[0;34m(\u001b[0m\u001b[0;34m)\u001b[0m\u001b[0;34m\u001b[0m\u001b[0;34m\u001b[0m\u001b[0m\n\u001b[0m\u001b[1;32m   4358\u001b[0m \u001b[0;34m\u001b[0m\u001b[0m\n\u001b[1;32m   4359\u001b[0m     def _reduce(\n",
      "\u001b[0;32m~/opt/anaconda3/lib/python3.9/site-packages/pandas/core/apply.py\u001b[0m in \u001b[0;36mapply\u001b[0;34m(self)\u001b[0m\n\u001b[1;32m   1041\u001b[0m             \u001b[0;32mreturn\u001b[0m \u001b[0mself\u001b[0m\u001b[0;34m.\u001b[0m\u001b[0mapply_str\u001b[0m\u001b[0;34m(\u001b[0m\u001b[0;34m)\u001b[0m\u001b[0;34m\u001b[0m\u001b[0;34m\u001b[0m\u001b[0m\n\u001b[1;32m   1042\u001b[0m \u001b[0;34m\u001b[0m\u001b[0m\n\u001b[0;32m-> 1043\u001b[0;31m         \u001b[0;32mreturn\u001b[0m \u001b[0mself\u001b[0m\u001b[0;34m.\u001b[0m\u001b[0mapply_standard\u001b[0m\u001b[0;34m(\u001b[0m\u001b[0;34m)\u001b[0m\u001b[0;34m\u001b[0m\u001b[0;34m\u001b[0m\u001b[0m\n\u001b[0m\u001b[1;32m   1044\u001b[0m \u001b[0;34m\u001b[0m\u001b[0m\n\u001b[1;32m   1045\u001b[0m     \u001b[0;32mdef\u001b[0m \u001b[0magg\u001b[0m\u001b[0;34m(\u001b[0m\u001b[0mself\u001b[0m\u001b[0;34m)\u001b[0m\u001b[0;34m:\u001b[0m\u001b[0;34m\u001b[0m\u001b[0;34m\u001b[0m\u001b[0m\n",
      "\u001b[0;32m~/opt/anaconda3/lib/python3.9/site-packages/pandas/core/apply.py\u001b[0m in \u001b[0;36mapply_standard\u001b[0;34m(self)\u001b[0m\n\u001b[1;32m   1096\u001b[0m                 \u001b[0;31m# List[Union[Callable[..., Any], str]]]]]\"; expected\u001b[0m\u001b[0;34m\u001b[0m\u001b[0;34m\u001b[0m\u001b[0m\n\u001b[1;32m   1097\u001b[0m                 \u001b[0;31m# \"Callable[[Any], Any]\"\u001b[0m\u001b[0;34m\u001b[0m\u001b[0;34m\u001b[0m\u001b[0m\n\u001b[0;32m-> 1098\u001b[0;31m                 mapped = lib.map_infer(\n\u001b[0m\u001b[1;32m   1099\u001b[0m                     \u001b[0mvalues\u001b[0m\u001b[0;34m,\u001b[0m\u001b[0;34m\u001b[0m\u001b[0;34m\u001b[0m\u001b[0m\n\u001b[1;32m   1100\u001b[0m                     \u001b[0mf\u001b[0m\u001b[0;34m,\u001b[0m  \u001b[0;31m# type: ignore[arg-type]\u001b[0m\u001b[0;34m\u001b[0m\u001b[0;34m\u001b[0m\u001b[0m\n",
      "\u001b[0;32m~/opt/anaconda3/lib/python3.9/site-packages/pandas/_libs/lib.pyx\u001b[0m in \u001b[0;36mpandas._libs.lib.map_infer\u001b[0;34m()\u001b[0m\n",
      "\u001b[0;32m/var/folders/xh/yz6j577n6lg1j73_jl6__ymh0000gn/T/ipykernel_19068/2255289104.py\u001b[0m in \u001b[0;36mgroup_by_decade\u001b[0;34m(year)\u001b[0m\n\u001b[1;32m      1\u001b[0m \u001b[0;31m# Grouping data by release decade\u001b[0m\u001b[0;34m\u001b[0m\u001b[0;34m\u001b[0m\u001b[0m\n\u001b[1;32m      2\u001b[0m \u001b[0;32mdef\u001b[0m \u001b[0mgroup_by_decade\u001b[0m\u001b[0;34m(\u001b[0m\u001b[0myear\u001b[0m\u001b[0;34m)\u001b[0m\u001b[0;34m:\u001b[0m\u001b[0;34m\u001b[0m\u001b[0;34m\u001b[0m\u001b[0m\n\u001b[0;32m----> 3\u001b[0;31m     \u001b[0;32mreturn\u001b[0m \u001b[0;34mf\"{(int(year) // 10) * 10}s\"\u001b[0m\u001b[0;34m\u001b[0m\u001b[0;34m\u001b[0m\u001b[0m\n\u001b[0m\u001b[1;32m      4\u001b[0m \u001b[0;34m\u001b[0m\u001b[0m\n\u001b[1;32m      5\u001b[0m \u001b[0mgrouped_by_decade\u001b[0m \u001b[0;34m=\u001b[0m \u001b[0mdf\u001b[0m\u001b[0;34m.\u001b[0m\u001b[0mgroupby\u001b[0m\u001b[0;34m(\u001b[0m\u001b[0mdf\u001b[0m\u001b[0;34m[\u001b[0m\u001b[0;34m'Released_Year'\u001b[0m\u001b[0;34m]\u001b[0m\u001b[0;34m.\u001b[0m\u001b[0mapply\u001b[0m\u001b[0;34m(\u001b[0m\u001b[0mgroup_by_decade\u001b[0m\u001b[0;34m)\u001b[0m\u001b[0;34m)\u001b[0m\u001b[0;34m\u001b[0m\u001b[0;34m\u001b[0m\u001b[0m\n",
      "\u001b[0;31mValueError\u001b[0m: invalid literal for int() with base 10: 'PG'"
     ]
    }
   ],
   "source": [
    "# Grouping data by release decade\n",
    "def group_by_decade(year):\n",
    "    return f\"{(int(year) // 10) * 10}s\"\n",
    "\n",
    "grouped_by_decade = df.groupby(df['Released_Year'].apply(group_by_decade))\n",
    "\n",
    "# Calculate average rating for each decade\n",
    "average_rating_by_decade = {}\n",
    "for decade, group in grouped_by_decade:\n",
    "    average_rating = group['IMDB_Rating'].mean()\n",
    "    average_rating_by_decade[decade] = average_rating\n",
    "\n",
    "# Print the average ratings by decade\n",
    "for decade, avg_rating in average_rating_by_decade.items():\n",
    "    print(f\"Decade: {decade}, Average Rating: {avg_rating:.2f}\")"
   ]
  },
  {
   "cell_type": "code",
   "execution_count": 19,
   "id": "c27bae2d",
   "metadata": {},
   "outputs": [
    {
     "name": "stdout",
     "output_type": "stream",
     "text": [
      "Genre: Action, Total Votes: 72282412\n",
      "Genre: Adventure, Total Votes: 22576163\n",
      "Genre: Animation, Total Votes: 21978630\n",
      "Genre: Biography, Total Votes: 24006844\n",
      "Genre: Comedy, Total Votes: 27620327\n",
      "Genre: Crime, Total Votes: 33533615\n",
      "Genre: Drama, Total Votes: 61367304\n",
      "Genre: Family, Total Votes: 551221\n",
      "Genre: Fantasy, Total Votes: 146222\n",
      "Genre: Film-Noir, Total Votes: 367215\n",
      "Genre: Horror, Total Votes: 3742556\n",
      "Genre: Mystery, Total Votes: 4203004\n",
      "Genre: Thriller, Total Votes: 27733\n",
      "Genre: Western, Total Votes: 1289665\n"
     ]
    }
   ],
   "source": [
    "# Grouping data by movie genres\n",
    "grouped_by_genre = df.groupby('Genre')\n",
    "\n",
    "# Calculating the total number of votes for each genre\n",
    "total_votes_by_genre = {}\n",
    "for genre, group in grouped_by_genre:\n",
    "    total_votes = group['No_of_Votes'].sum()\n",
    "    total_votes_by_genre[genre] = total_votes\n",
    "\n",
    "# Print the total votes for each genre\n",
    "for genre, total_votes in total_votes_by_genre.items():\n",
    "    print(f\"Genre: {genre}, Total Votes: {total_votes}\")"
   ]
  },
  {
   "cell_type": "code",
   "execution_count": 20,
   "id": "e4fc5893",
   "metadata": {},
   "outputs": [
    {
     "name": "stdout",
     "output_type": "stream",
     "text": [
      "                 Series_Title  IMDB_Rating Rating_Category\n",
      "0    The Shawshank Redemption          9.3       Excellent\n",
      "1               The Godfather          9.2       Excellent\n",
      "2             The Dark Knight          9.0       Excellent\n",
      "3      The Godfather: Part II          9.0       Excellent\n",
      "4                12 Angry Men          9.0       Excellent\n",
      "..                        ...          ...             ...\n",
      "995    Breakfast at Tiffany's          7.6            Good\n",
      "996                     Giant          7.6            Good\n",
      "997     From Here to Eternity          7.6            Good\n",
      "998                  Lifeboat          7.6            Good\n",
      "999              The 39 Steps          7.6            Good\n",
      "\n",
      "[1000 rows x 3 columns]\n"
     ]
    }
   ],
   "source": [
    "# Define bins and labels for IMDB ratings\n",
    "rating_bins = [0, 6.5, 7.5, 8.5, 10]\n",
    "rating_labels = ['Low', 'Average', 'Good', 'Excellent']\n",
    "\n",
    "# Discretize IMDB ratings\n",
    "df['Rating_Category'] = pd.cut(df['IMDB_Rating'], bins=rating_bins, labels=rating_labels, right=False)\n",
    "\n",
    "# Display the result\n",
    "print(df[['Series_Title', 'IMDB_Rating', 'Rating_Category']])"
   ]
  }
 ],
 "metadata": {
  "kernelspec": {
   "display_name": "Python 3 (ipykernel)",
   "language": "python",
   "name": "python3"
  },
  "language_info": {
   "codemirror_mode": {
    "name": "ipython",
    "version": 3
   },
   "file_extension": ".py",
   "mimetype": "text/x-python",
   "name": "python",
   "nbconvert_exporter": "python",
   "pygments_lexer": "ipython3",
   "version": "3.9.7"
  }
 },
 "nbformat": 4,
 "nbformat_minor": 5
}
