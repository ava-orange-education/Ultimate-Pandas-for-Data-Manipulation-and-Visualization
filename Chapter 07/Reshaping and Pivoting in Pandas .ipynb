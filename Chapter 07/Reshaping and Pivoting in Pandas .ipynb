{
 "cells": [
  {
   "cell_type": "code",
   "execution_count": 2,
   "id": "166d4d7f",
   "metadata": {},
   "outputs": [],
   "source": [
    "import pandas as pd\n"
   ]
  },
  {
   "cell_type": "code",
   "execution_count": 15,
   "id": "cdecc045",
   "metadata": {},
   "outputs": [],
   "source": [
    "# Sample data\n",
    "sales_data = [100, 90, 105, 115, 85, 88, 95, 80, 110, 120, 100, 105]\n",
    "\n",
    "# Indices as tuples\n",
    "index_tuples = [\n",
    "    ('Laptops', 2020, 'USD'),\n",
    "    ('Smartphones', 2020, 'EUR'),\n",
    "    ('Headphones', 2020, 'GBP'),\n",
    "    ('Laptops', 2021, 'USD'),\n",
    "    ('Smartphones', 2021, 'EUR'),\n",
    "    ('Headphones', 2021, 'GBP'),\n",
    "    ('Laptops', 2022, 'USD'),\n",
    "    ('Smartphones', 2022, 'EUR'),\n",
    "    ('Headphones', 2022, 'JPY'),\n",
    "    ('Laptops', 2023, 'USD'),\n",
    "    ('Smartphones', 2023, 'JPY'),\n",
    "    ('Headphones', 2023, 'GBP')\n",
    "]"
   ]
  },
  {
   "cell_type": "code",
   "execution_count": 39,
   "id": "56421b73",
   "metadata": {},
   "outputs": [
    {
     "data": {
      "text/plain": [
       "(Laptops, 2020, USD)        100\n",
       "(Smartphones, 2020, EUR)     90\n",
       "(Headphones, 2020, GBP)     105\n",
       "(Laptops, 2021, USD)        115\n",
       "(Smartphones, 2021, EUR)     85\n",
       "(Headphones, 2021, GBP)      88\n",
       "(Laptops, 2022, USD)         95\n",
       "(Smartphones, 2022, EUR)     80\n",
       "(Headphones, 2022, JPY)     110\n",
       "(Laptops, 2023, USD)        120\n",
       "(Smartphones, 2023, JPY)    100\n",
       "(Headphones, 2023, GBP)     105\n",
       "dtype: int64"
      ]
     },
     "execution_count": 39,
     "metadata": {},
     "output_type": "execute_result"
    }
   ],
   "source": [
    "# Create a Series with a MultiIndex\n",
    "series = pd.Series(sales_data, index=index_tuples)\n",
    "series"
   ]
  },
  {
   "cell_type": "code",
   "execution_count": 40,
   "id": "d931f0f7",
   "metadata": {},
   "outputs": [
    {
     "name": "stdout",
     "output_type": "stream",
     "text": [
      "100\n"
     ]
    }
   ],
   "source": [
    "row_data = series[('Laptops', 2020, 'USD')]\n",
    "print(row_data)"
   ]
  },
  {
   "cell_type": "code",
   "execution_count": 43,
   "id": "b9eb50a0",
   "metadata": {},
   "outputs": [],
   "source": [
    "multiindex = pd.MultiIndex.from_tuples(index_tuples, names=['Product', 'Year', 'Currency'])"
   ]
  },
  {
   "cell_type": "code",
   "execution_count": 44,
   "id": "a27bd98e",
   "metadata": {},
   "outputs": [
    {
     "data": {
      "text/plain": [
       "Product      Year  Currency\n",
       "Laptops      2020  USD         100\n",
       "Smartphones  2020  EUR          90\n",
       "Headphones   2020  GBP         105\n",
       "Laptops      2021  USD         115\n",
       "Smartphones  2021  EUR          85\n",
       "Headphones   2021  GBP          88\n",
       "Laptops      2022  USD          95\n",
       "Smartphones  2022  EUR          80\n",
       "Headphones   2022  JPY         110\n",
       "Laptops      2023  USD         120\n",
       "Smartphones  2023  JPY         100\n",
       "Headphones   2023  GBP         105\n",
       "dtype: int64"
      ]
     },
     "execution_count": 44,
     "metadata": {},
     "output_type": "execute_result"
    }
   ],
   "source": [
    "series = pd.Series(sales_data, index=multiindex)\n",
    "series"
   ]
  },
  {
   "cell_type": "code",
   "execution_count": 46,
   "id": "4b196de0",
   "metadata": {},
   "outputs": [
    {
     "data": {
      "text/plain": [
       "Product      Currency\n",
       "Laptops      USD         100\n",
       "Smartphones  EUR          90\n",
       "Headphones   GBP         105\n",
       "dtype: int64"
      ]
     },
     "execution_count": 46,
     "metadata": {},
     "output_type": "execute_result"
    }
   ],
   "source": [
    "# Get all sales data for the year 2020\n",
    "data_2020 = series[:, 2020, :]\n",
    "\n",
    "data_2020"
   ]
  },
  {
   "cell_type": "code",
   "execution_count": 50,
   "id": "3237166c",
   "metadata": {},
   "outputs": [
    {
     "data": {
      "text/plain": [
       "Year  Currency\n",
       "2020  EUR          90\n",
       "2021  EUR          85\n",
       "2022  EUR          80\n",
       "2023  JPY         100\n",
       "dtype: int64"
      ]
     },
     "execution_count": 50,
     "metadata": {},
     "output_type": "execute_result"
    }
   ],
   "source": [
    "# Get sales data for Smartphones across all years and currencies\n",
    "Smartphones_sales = series['Smartphones']\n",
    "Smartphones_sales"
   ]
  },
  {
   "cell_type": "code",
   "execution_count": 51,
   "id": "e8a8e685",
   "metadata": {},
   "outputs": [
    {
     "data": {
      "text/plain": [
       "Product      Year\n",
       "Smartphones  2020    90\n",
       "             2021    85\n",
       "             2022    80\n",
       "dtype: int64"
      ]
     },
     "execution_count": 51,
     "metadata": {},
     "output_type": "execute_result"
    }
   ],
   "source": [
    "# Get all sales data for the currency 'EUR'\n",
    "series.xs(key='EUR', level='Currency', axis=0)"
   ]
  },
  {
   "cell_type": "code",
   "execution_count": 57,
   "id": "b691e29b",
   "metadata": {},
   "outputs": [],
   "source": [
    "sales_data = [100, 90, 105, 115]\n",
    "\n",
    "# Separate lists\n",
    "products = ['Smartphones', 'Laptops']\n",
    "years = [2020, 2021]\n",
    "currencies = ['USD', 'EUR']\n",
    "\n",
    "# Create MultiIndex using `from_product`\n",
    "index = pd.MultiIndex.from_product([products, years, currencies], names=['Product', 'Year', 'Currency'])\n",
    "\n",
    "# Adjust the sales_data to fit the index size\n",
    "series = pd.Series(sales_data * 2, index=index) "
   ]
  },
  {
   "cell_type": "code",
   "execution_count": 58,
   "id": "900941c9",
   "metadata": {},
   "outputs": [
    {
     "data": {
      "text/plain": [
       "Product      Year  Currency\n",
       "Smartphones  2020  USD         100\n",
       "                   EUR          90\n",
       "             2021  USD         105\n",
       "                   EUR         115\n",
       "Laptops      2020  USD         100\n",
       "                   EUR          90\n",
       "             2021  USD         105\n",
       "                   EUR         115\n",
       "dtype: int64"
      ]
     },
     "execution_count": 58,
     "metadata": {},
     "output_type": "execute_result"
    }
   ],
   "source": [
    "series"
   ]
  },
  {
   "cell_type": "code",
   "execution_count": 60,
   "id": "6a02b57b",
   "metadata": {},
   "outputs": [
    {
     "data": {
      "text/plain": [
       "Year  Currency\n",
       "2020  USD         100\n",
       "      EUR          90\n",
       "2021  USD         105\n",
       "      EUR         115\n",
       "dtype: int64"
      ]
     },
     "execution_count": 60,
     "metadata": {},
     "output_type": "execute_result"
    }
   ],
   "source": [
    "smartPhones_sales = series['Smartphones']\n",
    "smartPhones_sales"
   ]
  },
  {
   "cell_type": "code",
   "execution_count": 62,
   "id": "3baf94c7",
   "metadata": {},
   "outputs": [],
   "source": [
    "# Sample data\n",
    "data = [\n",
    "    [100, 101, 102, 103],\n",
    "    [90, 91, 92, 93],\n",
    "    [105, 106, 107, 108],\n",
    "    [115, 116, 117, 118]\n",
    "]\n",
    "\n",
    "# Separate lists for indices and columns\n",
    "products = ['Smartphones', 'Laptops']\n",
    "years = [2020, 2021]\n",
    "currencies = ['USD', 'EUR', 'GBP', 'JPY']  # Added two more currencies to match the data columns\n",
    "\n",
    "# Create row MultiIndex\n",
    "row_index = pd.MultiIndex.from_product([products, years], names=['Product', 'Year'])\n",
    "\n",
    "# Create a dataframe with the row MultiIndex and currency columns\n",
    "df = pd.DataFrame(data, index=row_index, columns=currencies)"
   ]
  },
  {
   "cell_type": "code",
   "execution_count": 63,
   "id": "d771e875",
   "metadata": {},
   "outputs": [
    {
     "data": {
      "text/html": [
       "<div>\n",
       "<style scoped>\n",
       "    .dataframe tbody tr th:only-of-type {\n",
       "        vertical-align: middle;\n",
       "    }\n",
       "\n",
       "    .dataframe tbody tr th {\n",
       "        vertical-align: top;\n",
       "    }\n",
       "\n",
       "    .dataframe thead th {\n",
       "        text-align: right;\n",
       "    }\n",
       "</style>\n",
       "<table border=\"1\" class=\"dataframe\">\n",
       "  <thead>\n",
       "    <tr style=\"text-align: right;\">\n",
       "      <th></th>\n",
       "      <th></th>\n",
       "      <th>USD</th>\n",
       "      <th>EUR</th>\n",
       "      <th>GBP</th>\n",
       "      <th>JPY</th>\n",
       "    </tr>\n",
       "    <tr>\n",
       "      <th>Product</th>\n",
       "      <th>Year</th>\n",
       "      <th></th>\n",
       "      <th></th>\n",
       "      <th></th>\n",
       "      <th></th>\n",
       "    </tr>\n",
       "  </thead>\n",
       "  <tbody>\n",
       "    <tr>\n",
       "      <th rowspan=\"2\" valign=\"top\">Smartphones</th>\n",
       "      <th>2020</th>\n",
       "      <td>100</td>\n",
       "      <td>101</td>\n",
       "      <td>102</td>\n",
       "      <td>103</td>\n",
       "    </tr>\n",
       "    <tr>\n",
       "      <th>2021</th>\n",
       "      <td>90</td>\n",
       "      <td>91</td>\n",
       "      <td>92</td>\n",
       "      <td>93</td>\n",
       "    </tr>\n",
       "    <tr>\n",
       "      <th rowspan=\"2\" valign=\"top\">Laptops</th>\n",
       "      <th>2020</th>\n",
       "      <td>105</td>\n",
       "      <td>106</td>\n",
       "      <td>107</td>\n",
       "      <td>108</td>\n",
       "    </tr>\n",
       "    <tr>\n",
       "      <th>2021</th>\n",
       "      <td>115</td>\n",
       "      <td>116</td>\n",
       "      <td>117</td>\n",
       "      <td>118</td>\n",
       "    </tr>\n",
       "  </tbody>\n",
       "</table>\n",
       "</div>"
      ],
      "text/plain": [
       "                  USD  EUR  GBP  JPY\n",
       "Product     Year                    \n",
       "Smartphones 2020  100  101  102  103\n",
       "            2021   90   91   92   93\n",
       "Laptops     2020  105  106  107  108\n",
       "            2021  115  116  117  118"
      ]
     },
     "execution_count": 63,
     "metadata": {},
     "output_type": "execute_result"
    }
   ],
   "source": [
    "df"
   ]
  },
  {
   "cell_type": "code",
   "execution_count": 64,
   "id": "e86fa4a6",
   "metadata": {},
   "outputs": [
    {
     "data": {
      "text/html": [
       "<div>\n",
       "<style scoped>\n",
       "    .dataframe tbody tr th:only-of-type {\n",
       "        vertical-align: middle;\n",
       "    }\n",
       "\n",
       "    .dataframe tbody tr th {\n",
       "        vertical-align: top;\n",
       "    }\n",
       "\n",
       "    .dataframe thead th {\n",
       "        text-align: right;\n",
       "    }\n",
       "</style>\n",
       "<table border=\"1\" class=\"dataframe\">\n",
       "  <thead>\n",
       "    <tr style=\"text-align: right;\">\n",
       "      <th></th>\n",
       "      <th>USD</th>\n",
       "      <th>EUR</th>\n",
       "      <th>GBP</th>\n",
       "      <th>JPY</th>\n",
       "    </tr>\n",
       "    <tr>\n",
       "      <th>Year</th>\n",
       "      <th></th>\n",
       "      <th></th>\n",
       "      <th></th>\n",
       "      <th></th>\n",
       "    </tr>\n",
       "  </thead>\n",
       "  <tbody>\n",
       "    <tr>\n",
       "      <th>2020</th>\n",
       "      <td>100</td>\n",
       "      <td>101</td>\n",
       "      <td>102</td>\n",
       "      <td>103</td>\n",
       "    </tr>\n",
       "    <tr>\n",
       "      <th>2021</th>\n",
       "      <td>90</td>\n",
       "      <td>91</td>\n",
       "      <td>92</td>\n",
       "      <td>93</td>\n",
       "    </tr>\n",
       "  </tbody>\n",
       "</table>\n",
       "</div>"
      ],
      "text/plain": [
       "      USD  EUR  GBP  JPY\n",
       "Year                    \n",
       "2020  100  101  102  103\n",
       "2021   90   91   92   93"
      ]
     },
     "execution_count": 64,
     "metadata": {},
     "output_type": "execute_result"
    }
   ],
   "source": [
    "df.loc['Smartphones']"
   ]
  },
  {
   "cell_type": "code",
   "execution_count": 65,
   "id": "fa8c2a10",
   "metadata": {},
   "outputs": [
    {
     "data": {
      "text/plain": [
       "USD    100\n",
       "EUR    101\n",
       "GBP    102\n",
       "JPY    103\n",
       "Name: (Smartphones, 2020), dtype: int64"
      ]
     },
     "execution_count": 65,
     "metadata": {},
     "output_type": "execute_result"
    }
   ],
   "source": [
    "df.loc[('Smartphones', 2020)]"
   ]
  },
  {
   "cell_type": "code",
   "execution_count": 66,
   "id": "cc84f8d3",
   "metadata": {},
   "outputs": [
    {
     "data": {
      "text/plain": [
       "100"
      ]
     },
     "execution_count": 66,
     "metadata": {},
     "output_type": "execute_result"
    }
   ],
   "source": [
    "df.loc[('Smartphones', 2020), 'USD']"
   ]
  },
  {
   "cell_type": "code",
   "execution_count": 67,
   "id": "f2d4dd45",
   "metadata": {},
   "outputs": [
    {
     "data": {
      "text/html": [
       "<div>\n",
       "<style scoped>\n",
       "    .dataframe tbody tr th:only-of-type {\n",
       "        vertical-align: middle;\n",
       "    }\n",
       "\n",
       "    .dataframe tbody tr th {\n",
       "        vertical-align: top;\n",
       "    }\n",
       "\n",
       "    .dataframe thead th {\n",
       "        text-align: right;\n",
       "    }\n",
       "</style>\n",
       "<table border=\"1\" class=\"dataframe\">\n",
       "  <thead>\n",
       "    <tr style=\"text-align: right;\">\n",
       "      <th></th>\n",
       "      <th></th>\n",
       "      <th>USD</th>\n",
       "      <th>EUR</th>\n",
       "      <th>GBP</th>\n",
       "      <th>JPY</th>\n",
       "    </tr>\n",
       "    <tr>\n",
       "      <th>Product</th>\n",
       "      <th>Year</th>\n",
       "      <th></th>\n",
       "      <th></th>\n",
       "      <th></th>\n",
       "      <th></th>\n",
       "    </tr>\n",
       "  </thead>\n",
       "  <tbody>\n",
       "    <tr>\n",
       "      <th rowspan=\"2\" valign=\"top\">Smartphones</th>\n",
       "      <th>2020</th>\n",
       "      <td>100</td>\n",
       "      <td>101</td>\n",
       "      <td>102</td>\n",
       "      <td>103</td>\n",
       "    </tr>\n",
       "    <tr>\n",
       "      <th>2021</th>\n",
       "      <td>90</td>\n",
       "      <td>91</td>\n",
       "      <td>92</td>\n",
       "      <td>93</td>\n",
       "    </tr>\n",
       "  </tbody>\n",
       "</table>\n",
       "</div>"
      ],
      "text/plain": [
       "                  USD  EUR  GBP  JPY\n",
       "Product     Year                    \n",
       "Smartphones 2020  100  101  102  103\n",
       "            2021   90   91   92   93"
      ]
     },
     "execution_count": 67,
     "metadata": {},
     "output_type": "execute_result"
    }
   ],
   "source": [
    "df.loc[('Smartphones', slice(None)), :]"
   ]
  },
  {
   "cell_type": "code",
   "execution_count": 68,
   "id": "2790088b",
   "metadata": {},
   "outputs": [
    {
     "name": "stdout",
     "output_type": "stream",
     "text": [
      "Product      Year\n",
      "Smartphones  2020    100\n",
      "             2021     90\n",
      "Laptops      2020    105\n",
      "             2021    115\n",
      "Name: USD, dtype: int64\n"
     ]
    }
   ],
   "source": [
    "print(df['USD'])"
   ]
  },
  {
   "cell_type": "code",
   "execution_count": 70,
   "id": "4b5fc7ba",
   "metadata": {},
   "outputs": [
    {
     "name": "stdout",
     "output_type": "stream",
     "text": [
      "Original DataFrame:\n",
      "              Sales  Returns\n",
      "Smartphones    100        5\n",
      "Laptops         90        4\n",
      "Cameras        105        8\n",
      "Tablets        115        7\n",
      "\n",
      "Stacked DataFrame:\n",
      " Smartphones  Sales      100\n",
      "             Returns      5\n",
      "Laptops      Sales       90\n",
      "             Returns      4\n",
      "Cameras      Sales      105\n",
      "             Returns      8\n",
      "Tablets      Sales      115\n",
      "             Returns      7\n",
      "dtype: int64\n"
     ]
    }
   ],
   "source": [
    "# Sample data\n",
    "data = {\n",
    "    'Sales': [100, 90, 105, 115],\n",
    "    'Returns': [5, 4, 8, 7]\n",
    "}\n",
    "\n",
    "# Index for the data\n",
    "index = ['Smartphones', 'Laptops', 'Cameras', 'Tablets']\n",
    "\n",
    "# Create a DataFrame\n",
    "df = pd.DataFrame(data, index=index)\n",
    "print(\"Original DataFrame:\\n\", df)\n",
    "\n",
    "# Stack the DataFrame\n",
    "stacked = df.stack()\n",
    "print(\"\\nStacked DataFrame:\\n\", stacked)"
   ]
  },
  {
   "cell_type": "code",
   "execution_count": null,
   "id": "d7e6afa8",
   "metadata": {},
   "outputs": [],
   "source": [
    "#Long and Wide\n",
    "\n",
    "\n"
   ]
  },
  {
   "cell_type": "code",
   "execution_count": 6,
   "id": "780acda2",
   "metadata": {},
   "outputs": [
    {
     "name": "stdout",
     "output_type": "stream",
     "text": [
      "Long-format DataFrame:\n"
     ]
    },
    {
     "data": {
      "text/html": [
       "<div>\n",
       "<style scoped>\n",
       "    .dataframe tbody tr th:only-of-type {\n",
       "        vertical-align: middle;\n",
       "    }\n",
       "\n",
       "    .dataframe tbody tr th {\n",
       "        vertical-align: top;\n",
       "    }\n",
       "\n",
       "    .dataframe thead th {\n",
       "        text-align: right;\n",
       "    }\n",
       "</style>\n",
       "<table border=\"1\" class=\"dataframe\">\n",
       "  <thead>\n",
       "    <tr style=\"text-align: right;\">\n",
       "      <th></th>\n",
       "      <th>Student</th>\n",
       "      <th>Subject</th>\n",
       "      <th>Score</th>\n",
       "    </tr>\n",
       "  </thead>\n",
       "  <tbody>\n",
       "    <tr>\n",
       "      <th>0</th>\n",
       "      <td>Alice</td>\n",
       "      <td>Math</td>\n",
       "      <td>90</td>\n",
       "    </tr>\n",
       "    <tr>\n",
       "      <th>1</th>\n",
       "      <td>Bob</td>\n",
       "      <td>Math</td>\n",
       "      <td>88</td>\n",
       "    </tr>\n",
       "    <tr>\n",
       "      <th>2</th>\n",
       "      <td>Alice</td>\n",
       "      <td>Science</td>\n",
       "      <td>85</td>\n",
       "    </tr>\n",
       "    <tr>\n",
       "      <th>3</th>\n",
       "      <td>Bob</td>\n",
       "      <td>Science</td>\n",
       "      <td>92</td>\n",
       "    </tr>\n",
       "  </tbody>\n",
       "</table>\n",
       "</div>"
      ],
      "text/plain": [
       "  Student  Subject  Score\n",
       "0   Alice     Math     90\n",
       "1     Bob     Math     88\n",
       "2   Alice  Science     85\n",
       "3     Bob  Science     92"
      ]
     },
     "execution_count": 6,
     "metadata": {},
     "output_type": "execute_result"
    }
   ],
   "source": [
    "# Create a sample long-format DataFrame\n",
    "data = {\n",
    "    'Student': ['Alice', 'Bob', 'Alice', 'Bob'],\n",
    "    'Subject': ['Math', 'Math', 'Science', 'Science'],\n",
    "    'Score': [90, 88, 85, 92]\n",
    "}\n",
    "\n",
    "df_long = pd.DataFrame(data)\n",
    "print(\"Long-format DataFrame:\")\n",
    "df_long"
   ]
  },
  {
   "cell_type": "code",
   "execution_count": 7,
   "id": "e7b4e455",
   "metadata": {},
   "outputs": [
    {
     "name": "stdout",
     "output_type": "stream",
     "text": [
      "\n",
      "Wide-format DataFrame:\n"
     ]
    },
    {
     "data": {
      "text/html": [
       "<div>\n",
       "<style scoped>\n",
       "    .dataframe tbody tr th:only-of-type {\n",
       "        vertical-align: middle;\n",
       "    }\n",
       "\n",
       "    .dataframe tbody tr th {\n",
       "        vertical-align: top;\n",
       "    }\n",
       "\n",
       "    .dataframe thead th {\n",
       "        text-align: right;\n",
       "    }\n",
       "</style>\n",
       "<table border=\"1\" class=\"dataframe\">\n",
       "  <thead>\n",
       "    <tr style=\"text-align: right;\">\n",
       "      <th></th>\n",
       "      <th>Student</th>\n",
       "      <th>Math</th>\n",
       "      <th>Science</th>\n",
       "    </tr>\n",
       "  </thead>\n",
       "  <tbody>\n",
       "    <tr>\n",
       "      <th>0</th>\n",
       "      <td>Alice</td>\n",
       "      <td>90</td>\n",
       "      <td>85</td>\n",
       "    </tr>\n",
       "    <tr>\n",
       "      <th>1</th>\n",
       "      <td>Bob</td>\n",
       "      <td>88</td>\n",
       "      <td>92</td>\n",
       "    </tr>\n",
       "  </tbody>\n",
       "</table>\n",
       "</div>"
      ],
      "text/plain": [
       "  Student  Math  Science\n",
       "0   Alice    90       85\n",
       "1     Bob    88       92"
      ]
     },
     "execution_count": 7,
     "metadata": {},
     "output_type": "execute_result"
    }
   ],
   "source": [
    "# Create a sample wide-format DataFrame\n",
    "data_wide = {\n",
    "    'Student': ['Alice', 'Bob'],\n",
    "    'Math': [90, 88],\n",
    "    'Science': [85, 92]\n",
    "}\n",
    "\n",
    "df_wide = pd.DataFrame(data_wide)\n",
    "print(\"\\nWide-format DataFrame:\")\n",
    "df_wide"
   ]
  },
  {
   "cell_type": "code",
   "execution_count": null,
   "id": "65e5bae3",
   "metadata": {},
   "outputs": [],
   "source": [
    "#stacking and Unstacking"
   ]
  },
  {
   "cell_type": "code",
   "execution_count": 3,
   "id": "6c0c12ed",
   "metadata": {},
   "outputs": [
    {
     "data": {
      "text/html": [
       "<div>\n",
       "<style scoped>\n",
       "    .dataframe tbody tr th:only-of-type {\n",
       "        vertical-align: middle;\n",
       "    }\n",
       "\n",
       "    .dataframe tbody tr th {\n",
       "        vertical-align: top;\n",
       "    }\n",
       "\n",
       "    .dataframe thead th {\n",
       "        text-align: right;\n",
       "    }\n",
       "</style>\n",
       "<table border=\"1\" class=\"dataframe\">\n",
       "  <thead>\n",
       "    <tr style=\"text-align: right;\">\n",
       "      <th></th>\n",
       "      <th>Quarter</th>\n",
       "      <th>Product_A</th>\n",
       "      <th>Product_B</th>\n",
       "      <th>Product_C</th>\n",
       "    </tr>\n",
       "  </thead>\n",
       "  <tbody>\n",
       "    <tr>\n",
       "      <th>0</th>\n",
       "      <td>Q1</td>\n",
       "      <td>1000</td>\n",
       "      <td>800</td>\n",
       "      <td>1200</td>\n",
       "    </tr>\n",
       "    <tr>\n",
       "      <th>1</th>\n",
       "      <td>Q2</td>\n",
       "      <td>1100</td>\n",
       "      <td>820</td>\n",
       "      <td>1300</td>\n",
       "    </tr>\n",
       "  </tbody>\n",
       "</table>\n",
       "</div>"
      ],
      "text/plain": [
       "  Quarter  Product_A  Product_B  Product_C\n",
       "0      Q1       1000        800       1200\n",
       "1      Q2       1100        820       1300"
      ]
     },
     "execution_count": 3,
     "metadata": {},
     "output_type": "execute_result"
    }
   ],
   "source": [
    "# Creating the wide-format DataFrame\n",
    "data_wide = {\n",
    "    'Quarter': ['Q1', 'Q2'],\n",
    "    'Product_A': [1000, 1100],\n",
    "    'Product_B': [800, 820],\n",
    "    'Product_C': [1200, 1300]\n",
    "}\n",
    "\n",
    "df_wide = pd.DataFrame(data_wide)\n",
    "\n",
    "df_wide"
   ]
  },
  {
   "cell_type": "code",
   "execution_count": 4,
   "id": "0ad4f30a",
   "metadata": {},
   "outputs": [
    {
     "name": "stdout",
     "output_type": "stream",
     "text": [
      "Stacked DataFrame:\n"
     ]
    },
    {
     "data": {
      "text/html": [
       "<div>\n",
       "<style scoped>\n",
       "    .dataframe tbody tr th:only-of-type {\n",
       "        vertical-align: middle;\n",
       "    }\n",
       "\n",
       "    .dataframe tbody tr th {\n",
       "        vertical-align: top;\n",
       "    }\n",
       "\n",
       "    .dataframe thead th {\n",
       "        text-align: right;\n",
       "    }\n",
       "</style>\n",
       "<table border=\"1\" class=\"dataframe\">\n",
       "  <thead>\n",
       "    <tr style=\"text-align: right;\">\n",
       "      <th></th>\n",
       "      <th>Quarter</th>\n",
       "      <th>level_1</th>\n",
       "      <th>Sales</th>\n",
       "    </tr>\n",
       "  </thead>\n",
       "  <tbody>\n",
       "    <tr>\n",
       "      <th>0</th>\n",
       "      <td>Q1</td>\n",
       "      <td>Product_A</td>\n",
       "      <td>1000</td>\n",
       "    </tr>\n",
       "    <tr>\n",
       "      <th>1</th>\n",
       "      <td>Q1</td>\n",
       "      <td>Product_B</td>\n",
       "      <td>800</td>\n",
       "    </tr>\n",
       "    <tr>\n",
       "      <th>2</th>\n",
       "      <td>Q1</td>\n",
       "      <td>Product_C</td>\n",
       "      <td>1200</td>\n",
       "    </tr>\n",
       "    <tr>\n",
       "      <th>3</th>\n",
       "      <td>Q2</td>\n",
       "      <td>Product_A</td>\n",
       "      <td>1100</td>\n",
       "    </tr>\n",
       "    <tr>\n",
       "      <th>4</th>\n",
       "      <td>Q2</td>\n",
       "      <td>Product_B</td>\n",
       "      <td>820</td>\n",
       "    </tr>\n",
       "    <tr>\n",
       "      <th>5</th>\n",
       "      <td>Q2</td>\n",
       "      <td>Product_C</td>\n",
       "      <td>1300</td>\n",
       "    </tr>\n",
       "  </tbody>\n",
       "</table>\n",
       "</div>"
      ],
      "text/plain": [
       "  Quarter    level_1  Sales\n",
       "0      Q1  Product_A   1000\n",
       "1      Q1  Product_B    800\n",
       "2      Q1  Product_C   1200\n",
       "3      Q2  Product_A   1100\n",
       "4      Q2  Product_B    820\n",
       "5      Q2  Product_C   1300"
      ]
     },
     "execution_count": 4,
     "metadata": {},
     "output_type": "execute_result"
    }
   ],
   "source": [
    "# Stacking (vertical transformation) the data\n",
    "stacked_df = df_wide.set_index('Quarter').stack().reset_index(name='Sales')\n",
    "print(\"Stacked DataFrame:\")\n",
    "stacked_df"
   ]
  },
  {
   "cell_type": "code",
   "execution_count": 6,
   "id": "09d27ae9",
   "metadata": {},
   "outputs": [
    {
     "data": {
      "text/html": [
       "<div>\n",
       "<style scoped>\n",
       "    .dataframe tbody tr th:only-of-type {\n",
       "        vertical-align: middle;\n",
       "    }\n",
       "\n",
       "    .dataframe tbody tr th {\n",
       "        vertical-align: top;\n",
       "    }\n",
       "\n",
       "    .dataframe thead th {\n",
       "        text-align: right;\n",
       "    }\n",
       "</style>\n",
       "<table border=\"1\" class=\"dataframe\">\n",
       "  <thead>\n",
       "    <tr style=\"text-align: right;\">\n",
       "      <th></th>\n",
       "      <th>Month</th>\n",
       "      <th>City</th>\n",
       "      <th>Temperature</th>\n",
       "    </tr>\n",
       "  </thead>\n",
       "  <tbody>\n",
       "    <tr>\n",
       "      <th>0</th>\n",
       "      <td>January</td>\n",
       "      <td>New York</td>\n",
       "      <td>32</td>\n",
       "    </tr>\n",
       "    <tr>\n",
       "      <th>1</th>\n",
       "      <td>January</td>\n",
       "      <td>Boston</td>\n",
       "      <td>30</td>\n",
       "    </tr>\n",
       "    <tr>\n",
       "      <th>2</th>\n",
       "      <td>February</td>\n",
       "      <td>New York</td>\n",
       "      <td>35</td>\n",
       "    </tr>\n",
       "    <tr>\n",
       "      <th>3</th>\n",
       "      <td>February</td>\n",
       "      <td>Boston</td>\n",
       "      <td>32</td>\n",
       "    </tr>\n",
       "  </tbody>\n",
       "</table>\n",
       "</div>"
      ],
      "text/plain": [
       "      Month      City  Temperature\n",
       "0   January  New York           32\n",
       "1   January    Boston           30\n",
       "2  February  New York           35\n",
       "3  February    Boston           32"
      ]
     },
     "execution_count": 6,
     "metadata": {},
     "output_type": "execute_result"
    }
   ],
   "source": [
    "# Creating the long-format DataFrame\n",
    "data_long = {\n",
    "    'Month': ['January', 'January', 'February', 'February'],\n",
    "    'City': ['New York', 'Boston', 'New York', 'Boston'],\n",
    "    'Temperature': [32, 30, 35, 32]\n",
    "}\n",
    "\n",
    "df_long = pd.DataFrame(data_long)\n",
    "df_long"
   ]
  },
  {
   "cell_type": "code",
   "execution_count": 7,
   "id": "23d547f1",
   "metadata": {},
   "outputs": [
    {
     "name": "stdout",
     "output_type": "stream",
     "text": [
      "\n",
      "Unstacked DataFrame:\n"
     ]
    },
    {
     "data": {
      "text/html": [
       "<div>\n",
       "<style scoped>\n",
       "    .dataframe tbody tr th:only-of-type {\n",
       "        vertical-align: middle;\n",
       "    }\n",
       "\n",
       "    .dataframe tbody tr th {\n",
       "        vertical-align: top;\n",
       "    }\n",
       "\n",
       "    .dataframe thead th {\n",
       "        text-align: right;\n",
       "    }\n",
       "</style>\n",
       "<table border=\"1\" class=\"dataframe\">\n",
       "  <thead>\n",
       "    <tr style=\"text-align: right;\">\n",
       "      <th>City</th>\n",
       "      <th>Month</th>\n",
       "      <th>Boston</th>\n",
       "      <th>New York</th>\n",
       "    </tr>\n",
       "  </thead>\n",
       "  <tbody>\n",
       "    <tr>\n",
       "      <th>0</th>\n",
       "      <td>February</td>\n",
       "      <td>32</td>\n",
       "      <td>35</td>\n",
       "    </tr>\n",
       "    <tr>\n",
       "      <th>1</th>\n",
       "      <td>January</td>\n",
       "      <td>30</td>\n",
       "      <td>32</td>\n",
       "    </tr>\n",
       "  </tbody>\n",
       "</table>\n",
       "</div>"
      ],
      "text/plain": [
       "City     Month  Boston  New York\n",
       "0     February      32        35\n",
       "1      January      30        32"
      ]
     },
     "execution_count": 7,
     "metadata": {},
     "output_type": "execute_result"
    }
   ],
   "source": [
    "\n",
    "# Unstacking (horizontal transformation) the data\n",
    "unstacked_df = df_long.set_index(['Month', 'City'])['Temperature'].unstack().reset_index()\n",
    "print(\"\\nUnstacked DataFrame:\")\n",
    "unstacked_df"
   ]
  },
  {
   "cell_type": "code",
   "execution_count": 9,
   "id": "30831e22",
   "metadata": {},
   "outputs": [
    {
     "data": {
      "text/html": [
       "<div>\n",
       "<style scoped>\n",
       "    .dataframe tbody tr th:only-of-type {\n",
       "        vertical-align: middle;\n",
       "    }\n",
       "\n",
       "    .dataframe tbody tr th {\n",
       "        vertical-align: top;\n",
       "    }\n",
       "\n",
       "    .dataframe thead th {\n",
       "        text-align: right;\n",
       "    }\n",
       "</style>\n",
       "<table border=\"1\" class=\"dataframe\">\n",
       "  <thead>\n",
       "    <tr style=\"text-align: right;\">\n",
       "      <th></th>\n",
       "      <th>Date</th>\n",
       "      <th>Temperature</th>\n",
       "      <th>Humidity</th>\n",
       "    </tr>\n",
       "  </thead>\n",
       "  <tbody>\n",
       "    <tr>\n",
       "      <th>0</th>\n",
       "      <td>2023-01-01</td>\n",
       "      <td>32</td>\n",
       "      <td>45</td>\n",
       "    </tr>\n",
       "    <tr>\n",
       "      <th>1</th>\n",
       "      <td>2023-01-02</td>\n",
       "      <td>30</td>\n",
       "      <td>48</td>\n",
       "    </tr>\n",
       "    <tr>\n",
       "      <th>2</th>\n",
       "      <td>2023-01-03</td>\n",
       "      <td>35</td>\n",
       "      <td>42</td>\n",
       "    </tr>\n",
       "  </tbody>\n",
       "</table>\n",
       "</div>"
      ],
      "text/plain": [
       "         Date  Temperature  Humidity\n",
       "0  2023-01-01           32        45\n",
       "1  2023-01-02           30        48\n",
       "2  2023-01-03           35        42"
      ]
     },
     "execution_count": 9,
     "metadata": {},
     "output_type": "execute_result"
    }
   ],
   "source": [
    "# Creating a sample wide-format DataFrame\n",
    "data_wide = {\n",
    "    'Date': ['2023-01-01', '2023-01-02', '2023-01-03'],\n",
    "    'Temperature': [32, 30, 35],\n",
    "    'Humidity': [45, 48, 42]\n",
    "}\n",
    "\n",
    "df_wide = pd.DataFrame(data_wide)\n",
    "\n",
    "df_wide"
   ]
  },
  {
   "cell_type": "code",
   "execution_count": 10,
   "id": "4121dd7d",
   "metadata": {},
   "outputs": [
    {
     "name": "stdout",
     "output_type": "stream",
     "text": [
      "Melted Time Series DataFrame:\n"
     ]
    },
    {
     "data": {
      "text/html": [
       "<div>\n",
       "<style scoped>\n",
       "    .dataframe tbody tr th:only-of-type {\n",
       "        vertical-align: middle;\n",
       "    }\n",
       "\n",
       "    .dataframe tbody tr th {\n",
       "        vertical-align: top;\n",
       "    }\n",
       "\n",
       "    .dataframe thead th {\n",
       "        text-align: right;\n",
       "    }\n",
       "</style>\n",
       "<table border=\"1\" class=\"dataframe\">\n",
       "  <thead>\n",
       "    <tr style=\"text-align: right;\">\n",
       "      <th></th>\n",
       "      <th>Date</th>\n",
       "      <th>Variable</th>\n",
       "      <th>Value</th>\n",
       "    </tr>\n",
       "  </thead>\n",
       "  <tbody>\n",
       "    <tr>\n",
       "      <th>0</th>\n",
       "      <td>2023-01-01</td>\n",
       "      <td>Temperature</td>\n",
       "      <td>32</td>\n",
       "    </tr>\n",
       "    <tr>\n",
       "      <th>1</th>\n",
       "      <td>2023-01-02</td>\n",
       "      <td>Temperature</td>\n",
       "      <td>30</td>\n",
       "    </tr>\n",
       "    <tr>\n",
       "      <th>2</th>\n",
       "      <td>2023-01-03</td>\n",
       "      <td>Temperature</td>\n",
       "      <td>35</td>\n",
       "    </tr>\n",
       "    <tr>\n",
       "      <th>3</th>\n",
       "      <td>2023-01-01</td>\n",
       "      <td>Humidity</td>\n",
       "      <td>45</td>\n",
       "    </tr>\n",
       "    <tr>\n",
       "      <th>4</th>\n",
       "      <td>2023-01-02</td>\n",
       "      <td>Humidity</td>\n",
       "      <td>48</td>\n",
       "    </tr>\n",
       "    <tr>\n",
       "      <th>5</th>\n",
       "      <td>2023-01-03</td>\n",
       "      <td>Humidity</td>\n",
       "      <td>42</td>\n",
       "    </tr>\n",
       "  </tbody>\n",
       "</table>\n",
       "</div>"
      ],
      "text/plain": [
       "         Date     Variable  Value\n",
       "0  2023-01-01  Temperature     32\n",
       "1  2023-01-02  Temperature     30\n",
       "2  2023-01-03  Temperature     35\n",
       "3  2023-01-01     Humidity     45\n",
       "4  2023-01-02     Humidity     48\n",
       "5  2023-01-03     Humidity     42"
      ]
     },
     "execution_count": 10,
     "metadata": {},
     "output_type": "execute_result"
    }
   ],
   "source": [
    "# Melting the time series data\n",
    "melted_df = df_wide.melt(id_vars=['Date'], var_name='Variable', value_name='Value')\n",
    "\n",
    "print(\"Melted Time Series DataFrame:\")\n",
    "melted_df"
   ]
  },
  {
   "cell_type": "code",
   "execution_count": 12,
   "id": "7e253b79",
   "metadata": {},
   "outputs": [
    {
     "name": "stdout",
     "output_type": "stream",
     "text": [
      "Melted DataFrame:\n",
      "   ID     Name        Subject  Score\n",
      "0   1    Alice     Math_Score     90\n",
      "1   2      Bob     Math_Score     88\n",
      "2   3  Charlie     Math_Score     76\n",
      "3   1    Alice  Science_Score     85\n",
      "4   2      Bob  Science_Score     92\n",
      "5   3  Charlie  Science_Score     78\n"
     ]
    }
   ],
   "source": [
    "# Creating a sample wide-format DataFrame\n",
    "data_wide = {\n",
    "    'ID': [1, 2, 3],\n",
    "    'Name': ['Alice', 'Bob', 'Charlie'],\n",
    "    'Math_Score': [90, 88, 76],\n",
    "    'Science_Score': [85, 92, 78],\n",
    "}\n",
    "\n",
    "df_wide = pd.DataFrame(data_wide)\n",
    "\n",
    "# Melting the data\n",
    "melted_df = df_wide.melt(id_vars=['ID', 'Name'], var_name='Subject', value_name='Score')\n",
    "print(\"Melted DataFrame:\")\n",
    "print(melted_df)"
   ]
  },
  {
   "cell_type": "code",
   "execution_count": 11,
   "id": "7dfb6ab6",
   "metadata": {},
   "outputs": [
    {
     "data": {
      "text/html": [
       "<div>\n",
       "<style scoped>\n",
       "    .dataframe tbody tr th:only-of-type {\n",
       "        vertical-align: middle;\n",
       "    }\n",
       "\n",
       "    .dataframe tbody tr th {\n",
       "        vertical-align: top;\n",
       "    }\n",
       "\n",
       "    .dataframe thead th {\n",
       "        text-align: right;\n",
       "    }\n",
       "</style>\n",
       "<table border=\"1\" class=\"dataframe\">\n",
       "  <thead>\n",
       "    <tr style=\"text-align: right;\">\n",
       "      <th></th>\n",
       "      <th>Student ID</th>\n",
       "      <th>Name</th>\n",
       "      <th>Courses</th>\n",
       "    </tr>\n",
       "  </thead>\n",
       "  <tbody>\n",
       "    <tr>\n",
       "      <th>0</th>\n",
       "      <td>1</td>\n",
       "      <td>Alice</td>\n",
       "      <td>[Math, Science]</td>\n",
       "    </tr>\n",
       "    <tr>\n",
       "      <th>1</th>\n",
       "      <td>2</td>\n",
       "      <td>Bob</td>\n",
       "      <td>[History, Geography]</td>\n",
       "    </tr>\n",
       "    <tr>\n",
       "      <th>2</th>\n",
       "      <td>3</td>\n",
       "      <td>Charlie</td>\n",
       "      <td>[English]</td>\n",
       "    </tr>\n",
       "  </tbody>\n",
       "</table>\n",
       "</div>"
      ],
      "text/plain": [
       "   Student ID     Name               Courses\n",
       "0           1    Alice       [Math, Science]\n",
       "1           2      Bob  [History, Geography]\n",
       "2           3  Charlie             [English]"
      ]
     },
     "execution_count": 11,
     "metadata": {},
     "output_type": "execute_result"
    }
   ],
   "source": [
    "# Creating a DataFrame with the original data\n",
    "\n",
    "data = {\n",
    "    'Student ID': [1, 2, 3],\n",
    "    'Name': ['Alice', 'Bob', 'Charlie'],\n",
    "    'Courses': [['Math', 'Science'], ['History', 'Geography'], ['English']]\n",
    "}\n",
    "\n",
    "df = pd.DataFrame(data)\n",
    "\n",
    "df\n"
   ]
  },
  {
   "cell_type": "code",
   "execution_count": 12,
   "id": "ad3087d8",
   "metadata": {},
   "outputs": [
    {
     "name": "stdout",
     "output_type": "stream",
     "text": [
      "Exploded DataFrame:\n"
     ]
    },
    {
     "data": {
      "text/html": [
       "<div>\n",
       "<style scoped>\n",
       "    .dataframe tbody tr th:only-of-type {\n",
       "        vertical-align: middle;\n",
       "    }\n",
       "\n",
       "    .dataframe tbody tr th {\n",
       "        vertical-align: top;\n",
       "    }\n",
       "\n",
       "    .dataframe thead th {\n",
       "        text-align: right;\n",
       "    }\n",
       "</style>\n",
       "<table border=\"1\" class=\"dataframe\">\n",
       "  <thead>\n",
       "    <tr style=\"text-align: right;\">\n",
       "      <th></th>\n",
       "      <th>Student ID</th>\n",
       "      <th>Name</th>\n",
       "      <th>Courses</th>\n",
       "    </tr>\n",
       "  </thead>\n",
       "  <tbody>\n",
       "    <tr>\n",
       "      <th>0</th>\n",
       "      <td>1</td>\n",
       "      <td>Alice</td>\n",
       "      <td>Math</td>\n",
       "    </tr>\n",
       "    <tr>\n",
       "      <th>1</th>\n",
       "      <td>1</td>\n",
       "      <td>Alice</td>\n",
       "      <td>Science</td>\n",
       "    </tr>\n",
       "    <tr>\n",
       "      <th>2</th>\n",
       "      <td>2</td>\n",
       "      <td>Bob</td>\n",
       "      <td>History</td>\n",
       "    </tr>\n",
       "    <tr>\n",
       "      <th>3</th>\n",
       "      <td>2</td>\n",
       "      <td>Bob</td>\n",
       "      <td>Geography</td>\n",
       "    </tr>\n",
       "    <tr>\n",
       "      <th>4</th>\n",
       "      <td>3</td>\n",
       "      <td>Charlie</td>\n",
       "      <td>English</td>\n",
       "    </tr>\n",
       "  </tbody>\n",
       "</table>\n",
       "</div>"
      ],
      "text/plain": [
       "   Student ID     Name    Courses\n",
       "0           1    Alice       Math\n",
       "1           1    Alice    Science\n",
       "2           2      Bob    History\n",
       "3           2      Bob  Geography\n",
       "4           3  Charlie    English"
      ]
     },
     "execution_count": 12,
     "metadata": {},
     "output_type": "execute_result"
    }
   ],
   "source": [
    "# Using explode to expand the 'Courses' column\n",
    "exploded_df = df.explode('Courses', ignore_index=True)\n",
    "\n",
    "print(\"Exploded DataFrame:\")\n",
    "exploded_df"
   ]
  },
  {
   "cell_type": "code",
   "execution_count": 13,
   "id": "90bd9833",
   "metadata": {},
   "outputs": [
    {
     "data": {
      "text/html": [
       "<div>\n",
       "<style scoped>\n",
       "    .dataframe tbody tr th:only-of-type {\n",
       "        vertical-align: middle;\n",
       "    }\n",
       "\n",
       "    .dataframe tbody tr th {\n",
       "        vertical-align: top;\n",
       "    }\n",
       "\n",
       "    .dataframe thead th {\n",
       "        text-align: right;\n",
       "    }\n",
       "</style>\n",
       "<table border=\"1\" class=\"dataframe\">\n",
       "  <thead>\n",
       "    <tr style=\"text-align: right;\">\n",
       "      <th></th>\n",
       "      <th>Product Category</th>\n",
       "      <th>Sales Region</th>\n",
       "      <th>Revenue</th>\n",
       "    </tr>\n",
       "  </thead>\n",
       "  <tbody>\n",
       "    <tr>\n",
       "      <th>0</th>\n",
       "      <td>Electronics</td>\n",
       "      <td>North</td>\n",
       "      <td>5000</td>\n",
       "    </tr>\n",
       "    <tr>\n",
       "      <th>1</th>\n",
       "      <td>Clothing</td>\n",
       "      <td>South</td>\n",
       "      <td>3000</td>\n",
       "    </tr>\n",
       "    <tr>\n",
       "      <th>2</th>\n",
       "      <td>Electronics</td>\n",
       "      <td>North</td>\n",
       "      <td>6000</td>\n",
       "    </tr>\n",
       "    <tr>\n",
       "      <th>3</th>\n",
       "      <td>Clothing</td>\n",
       "      <td>South</td>\n",
       "      <td>4000</td>\n",
       "    </tr>\n",
       "  </tbody>\n",
       "</table>\n",
       "</div>"
      ],
      "text/plain": [
       "  Product Category Sales Region  Revenue\n",
       "0      Electronics        North     5000\n",
       "1         Clothing        South     3000\n",
       "2      Electronics        North     6000\n",
       "3         Clothing        South     4000"
      ]
     },
     "execution_count": 13,
     "metadata": {},
     "output_type": "execute_result"
    }
   ],
   "source": [
    "# Creating a sample DataFrame\n",
    "data = {\n",
    "    'Product Category': ['Electronics', 'Clothing', 'Electronics', 'Clothing'],\n",
    "    'Sales Region': ['North', 'South', 'North', 'South'],\n",
    "    'Revenue': [5000, 3000, 6000, 4000]\n",
    "}\n",
    "\n",
    "df = pd.DataFrame(data)\n",
    "df"
   ]
  },
  {
   "cell_type": "code",
   "execution_count": 14,
   "id": "4d66110e",
   "metadata": {},
   "outputs": [
    {
     "name": "stdout",
     "output_type": "stream",
     "text": [
      "Pivot Table:\n"
     ]
    },
    {
     "data": {
      "text/html": [
       "<div>\n",
       "<style scoped>\n",
       "    .dataframe tbody tr th:only-of-type {\n",
       "        vertical-align: middle;\n",
       "    }\n",
       "\n",
       "    .dataframe tbody tr th {\n",
       "        vertical-align: top;\n",
       "    }\n",
       "\n",
       "    .dataframe thead th {\n",
       "        text-align: right;\n",
       "    }\n",
       "</style>\n",
       "<table border=\"1\" class=\"dataframe\">\n",
       "  <thead>\n",
       "    <tr style=\"text-align: right;\">\n",
       "      <th>Sales Region</th>\n",
       "      <th>North</th>\n",
       "      <th>South</th>\n",
       "    </tr>\n",
       "    <tr>\n",
       "      <th>Product Category</th>\n",
       "      <th></th>\n",
       "      <th></th>\n",
       "    </tr>\n",
       "  </thead>\n",
       "  <tbody>\n",
       "    <tr>\n",
       "      <th>Clothing</th>\n",
       "      <td>0</td>\n",
       "      <td>7000</td>\n",
       "    </tr>\n",
       "    <tr>\n",
       "      <th>Electronics</th>\n",
       "      <td>11000</td>\n",
       "      <td>0</td>\n",
       "    </tr>\n",
       "  </tbody>\n",
       "</table>\n",
       "</div>"
      ],
      "text/plain": [
       "Sales Region      North  South\n",
       "Product Category              \n",
       "Clothing              0   7000\n",
       "Electronics       11000      0"
      ]
     },
     "execution_count": 14,
     "metadata": {},
     "output_type": "execute_result"
    }
   ],
   "source": [
    "# Creating a pivot table to summarize revenue by category and region\n",
    "pivot_table = pd.pivot_table(df, values='Revenue', index='Product Category', columns='Sales Region', \n",
    "                             aggfunc='sum', fill_value=0)\n",
    "\n",
    "print(\"Pivot Table:\")\n",
    "pivot_table"
   ]
  },
  {
   "cell_type": "code",
   "execution_count": 36,
   "id": "fd6ec0b8",
   "metadata": {},
   "outputs": [
    {
     "data": {
      "text/html": [
       "<div>\n",
       "<style scoped>\n",
       "    .dataframe tbody tr th:only-of-type {\n",
       "        vertical-align: middle;\n",
       "    }\n",
       "\n",
       "    .dataframe tbody tr th {\n",
       "        vertical-align: top;\n",
       "    }\n",
       "\n",
       "    .dataframe thead th {\n",
       "        text-align: right;\n",
       "    }\n",
       "</style>\n",
       "<table border=\"1\" class=\"dataframe\">\n",
       "  <thead>\n",
       "    <tr style=\"text-align: right;\">\n",
       "      <th></th>\n",
       "      <th>Year</th>\n",
       "      <th>Quarter</th>\n",
       "      <th>Product Category</th>\n",
       "      <th>Region</th>\n",
       "      <th>Revenue</th>\n",
       "    </tr>\n",
       "  </thead>\n",
       "  <tbody>\n",
       "    <tr>\n",
       "      <th>0</th>\n",
       "      <td>2021</td>\n",
       "      <td>Q1</td>\n",
       "      <td>Electronics</td>\n",
       "      <td>North</td>\n",
       "      <td>5000</td>\n",
       "    </tr>\n",
       "    <tr>\n",
       "      <th>1</th>\n",
       "      <td>2021</td>\n",
       "      <td>Q2</td>\n",
       "      <td>Clothing</td>\n",
       "      <td>South</td>\n",
       "      <td>3000</td>\n",
       "    </tr>\n",
       "    <tr>\n",
       "      <th>2</th>\n",
       "      <td>2022</td>\n",
       "      <td>Q1</td>\n",
       "      <td>Electronics</td>\n",
       "      <td>North</td>\n",
       "      <td>6000</td>\n",
       "    </tr>\n",
       "    <tr>\n",
       "      <th>3</th>\n",
       "      <td>2022</td>\n",
       "      <td>Q2</td>\n",
       "      <td>Clothing</td>\n",
       "      <td>South</td>\n",
       "      <td>4000</td>\n",
       "    </tr>\n",
       "  </tbody>\n",
       "</table>\n",
       "</div>"
      ],
      "text/plain": [
       "   Year Quarter Product Category Region  Revenue\n",
       "0  2021      Q1      Electronics  North     5000\n",
       "1  2021      Q2         Clothing  South     3000\n",
       "2  2022      Q1      Electronics  North     6000\n",
       "3  2022      Q2         Clothing  South     4000"
      ]
     },
     "execution_count": 36,
     "metadata": {},
     "output_type": "execute_result"
    }
   ],
   "source": [
    "# Creating a sample DataFrame for sales data\n",
    "data = {\n",
    "    'Year': [2021, 2021, 2022, 2022],\n",
    "    'Quarter': ['Q1', 'Q2', 'Q1', 'Q2'],\n",
    "    'Product Category': ['Electronics', 'Clothing', 'Electronics', 'Clothing'],\n",
    "    'Region': ['North', 'South', 'North', 'South'],\n",
    "    'Revenue': [5000, 3000, 6000, 4000]\n",
    "}\n",
    "\n",
    "df = pd.DataFrame(data)\n",
    "\n",
    "df"
   ]
  },
  {
   "cell_type": "code",
   "execution_count": 35,
   "id": "bb6910fd",
   "metadata": {},
   "outputs": [
    {
     "name": "stdout",
     "output_type": "stream",
     "text": [
      "Multi-Index Pivot Table:\n"
     ]
    },
    {
     "data": {
      "text/html": [
       "<div>\n",
       "<style scoped>\n",
       "    .dataframe tbody tr th:only-of-type {\n",
       "        vertical-align: middle;\n",
       "    }\n",
       "\n",
       "    .dataframe tbody tr th {\n",
       "        vertical-align: top;\n",
       "    }\n",
       "\n",
       "    .dataframe thead tr th {\n",
       "        text-align: left;\n",
       "    }\n",
       "\n",
       "    .dataframe thead tr:last-of-type th {\n",
       "        text-align: right;\n",
       "    }\n",
       "</style>\n",
       "<table border=\"1\" class=\"dataframe\">\n",
       "  <thead>\n",
       "    <tr>\n",
       "      <th></th>\n",
       "      <th>Product Category</th>\n",
       "      <th>Clothing</th>\n",
       "      <th>Electronics</th>\n",
       "    </tr>\n",
       "    <tr>\n",
       "      <th></th>\n",
       "      <th>Region</th>\n",
       "      <th>South</th>\n",
       "      <th>North</th>\n",
       "    </tr>\n",
       "    <tr>\n",
       "      <th>Year</th>\n",
       "      <th>Quarter</th>\n",
       "      <th></th>\n",
       "      <th></th>\n",
       "    </tr>\n",
       "  </thead>\n",
       "  <tbody>\n",
       "    <tr>\n",
       "      <th rowspan=\"2\" valign=\"top\">2021</th>\n",
       "      <th>Q1</th>\n",
       "      <td>0</td>\n",
       "      <td>5000</td>\n",
       "    </tr>\n",
       "    <tr>\n",
       "      <th>Q2</th>\n",
       "      <td>3000</td>\n",
       "      <td>0</td>\n",
       "    </tr>\n",
       "    <tr>\n",
       "      <th rowspan=\"2\" valign=\"top\">2022</th>\n",
       "      <th>Q1</th>\n",
       "      <td>0</td>\n",
       "      <td>6000</td>\n",
       "    </tr>\n",
       "    <tr>\n",
       "      <th>Q2</th>\n",
       "      <td>4000</td>\n",
       "      <td>0</td>\n",
       "    </tr>\n",
       "  </tbody>\n",
       "</table>\n",
       "</div>"
      ],
      "text/plain": [
       "Product Category Clothing Electronics\n",
       "Region              South       North\n",
       "Year Quarter                         \n",
       "2021 Q1                 0        5000\n",
       "     Q2              3000           0\n",
       "2022 Q1                 0        6000\n",
       "     Q2              4000           0"
      ]
     },
     "execution_count": 35,
     "metadata": {},
     "output_type": "execute_result"
    }
   ],
   "source": [
    "# Creating a multi-index pivot table with hierarchical row and column indices\n",
    "pivot_table = df.pivot_table(index=['Year', 'Quarter'], columns=['Product Category', 'Region'], values='Revenue', aggfunc='sum', fill_value=0)\n",
    "\n",
    "print(\"Multi-Index Pivot Table:\")\n",
    "pivot_table"
   ]
  },
  {
   "cell_type": "code",
   "execution_count": 39,
   "id": "47fbfd8b",
   "metadata": {},
   "outputs": [
    {
     "name": "stdout",
     "output_type": "stream",
     "text": [
      "Multi-Index Pivot Table:\n"
     ]
    },
    {
     "data": {
      "text/html": [
       "<div>\n",
       "<style scoped>\n",
       "    .dataframe tbody tr th:only-of-type {\n",
       "        vertical-align: middle;\n",
       "    }\n",
       "\n",
       "    .dataframe tbody tr th {\n",
       "        vertical-align: top;\n",
       "    }\n",
       "\n",
       "    .dataframe thead tr th {\n",
       "        text-align: left;\n",
       "    }\n",
       "\n",
       "    .dataframe thead tr:last-of-type th {\n",
       "        text-align: right;\n",
       "    }\n",
       "</style>\n",
       "<table border=\"1\" class=\"dataframe\">\n",
       "  <thead>\n",
       "    <tr>\n",
       "      <th></th>\n",
       "      <th>Product Category</th>\n",
       "      <th>Clothing</th>\n",
       "      <th>Electronics</th>\n",
       "    </tr>\n",
       "    <tr>\n",
       "      <th></th>\n",
       "      <th>Region</th>\n",
       "      <th>South</th>\n",
       "      <th>North</th>\n",
       "    </tr>\n",
       "    <tr>\n",
       "      <th>Year</th>\n",
       "      <th>Quarter</th>\n",
       "      <th></th>\n",
       "      <th></th>\n",
       "    </tr>\n",
       "  </thead>\n",
       "  <tbody>\n",
       "    <tr>\n",
       "      <th rowspan=\"2\" valign=\"top\">2021</th>\n",
       "      <th>Q1</th>\n",
       "      <td>0</td>\n",
       "      <td>5000</td>\n",
       "    </tr>\n",
       "    <tr>\n",
       "      <th>Q2</th>\n",
       "      <td>3000</td>\n",
       "      <td>0</td>\n",
       "    </tr>\n",
       "    <tr>\n",
       "      <th rowspan=\"2\" valign=\"top\">2022</th>\n",
       "      <th>Q1</th>\n",
       "      <td>0</td>\n",
       "      <td>6000</td>\n",
       "    </tr>\n",
       "    <tr>\n",
       "      <th>Q2</th>\n",
       "      <td>4000</td>\n",
       "      <td>0</td>\n",
       "    </tr>\n",
       "  </tbody>\n",
       "</table>\n",
       "</div>"
      ],
      "text/plain": [
       "Product Category Clothing Electronics\n",
       "Region              South       North\n",
       "Year Quarter                         \n",
       "2021 Q1                 0        5000\n",
       "     Q2              3000           0\n",
       "2022 Q1                 0        6000\n",
       "     Q2              4000           0"
      ]
     },
     "execution_count": 39,
     "metadata": {},
     "output_type": "execute_result"
    }
   ],
   "source": [
    "# Creating a multi-index pivot table with hierarchical row and column indices\n",
    "pivot_table = df.pivot_table(index=['Year', 'Quarter'], columns=['Product Category', 'Region'], \n",
    "                             values='Revenue', aggfunc='sum', fill_value=0)\n",
    "\n",
    "print(\"Multi-Index Pivot Table:\")\n",
    "pivot_table"
   ]
  },
  {
   "cell_type": "code",
   "execution_count": 42,
   "id": "bf076933",
   "metadata": {},
   "outputs": [
    {
     "name": "stdout",
     "output_type": "stream",
     "text": [
      "hierarchical columns Pivot Table:\n"
     ]
    },
    {
     "data": {
      "text/html": [
       "<div>\n",
       "<style scoped>\n",
       "    .dataframe tbody tr th:only-of-type {\n",
       "        vertical-align: middle;\n",
       "    }\n",
       "\n",
       "    .dataframe tbody tr th {\n",
       "        vertical-align: top;\n",
       "    }\n",
       "\n",
       "    .dataframe thead tr th {\n",
       "        text-align: left;\n",
       "    }\n",
       "\n",
       "    .dataframe thead tr:last-of-type th {\n",
       "        text-align: right;\n",
       "    }\n",
       "</style>\n",
       "<table border=\"1\" class=\"dataframe\">\n",
       "  <thead>\n",
       "    <tr>\n",
       "      <th>Product Category</th>\n",
       "      <th>Clothing</th>\n",
       "      <th>Electronics</th>\n",
       "    </tr>\n",
       "    <tr>\n",
       "      <th>Region</th>\n",
       "      <th>South</th>\n",
       "      <th>North</th>\n",
       "    </tr>\n",
       "    <tr>\n",
       "      <th>Year</th>\n",
       "      <th></th>\n",
       "      <th></th>\n",
       "    </tr>\n",
       "  </thead>\n",
       "  <tbody>\n",
       "    <tr>\n",
       "      <th>2021</th>\n",
       "      <td>3000</td>\n",
       "      <td>5000</td>\n",
       "    </tr>\n",
       "    <tr>\n",
       "      <th>2022</th>\n",
       "      <td>4000</td>\n",
       "      <td>6000</td>\n",
       "    </tr>\n",
       "  </tbody>\n",
       "</table>\n",
       "</div>"
      ],
      "text/plain": [
       "Product Category Clothing Electronics\n",
       "Region              South       North\n",
       "Year                                 \n",
       "2021                 3000        5000\n",
       "2022                 4000        6000"
      ]
     },
     "execution_count": 42,
     "metadata": {},
     "output_type": "execute_result"
    }
   ],
   "source": [
    "# Creating a pivot table with hierarchical columns\n",
    "pivot_table = df.pivot_table(index='Year', columns=['Product Category', 'Region'], \n",
    "                             values='Revenue', aggfunc='sum', fill_value=0)\n",
    "\n",
    "print(\"hierarchical columns Pivot Table:\")\n",
    "pivot_table"
   ]
  },
  {
   "cell_type": "code",
   "execution_count": 45,
   "id": "86d0d4a4",
   "metadata": {},
   "outputs": [
    {
     "data": {
      "text/html": [
       "<div>\n",
       "<style scoped>\n",
       "    .dataframe tbody tr th:only-of-type {\n",
       "        vertical-align: middle;\n",
       "    }\n",
       "\n",
       "    .dataframe tbody tr th {\n",
       "        vertical-align: top;\n",
       "    }\n",
       "\n",
       "    .dataframe thead th {\n",
       "        text-align: right;\n",
       "    }\n",
       "</style>\n",
       "<table border=\"1\" class=\"dataframe\">\n",
       "  <thead>\n",
       "    <tr style=\"text-align: right;\">\n",
       "      <th></th>\n",
       "      <th>Date</th>\n",
       "      <th>Stock</th>\n",
       "      <th>Price</th>\n",
       "    </tr>\n",
       "  </thead>\n",
       "  <tbody>\n",
       "    <tr>\n",
       "      <th>0</th>\n",
       "      <td>2023-01-01</td>\n",
       "      <td>AAPL</td>\n",
       "      <td>150.1</td>\n",
       "    </tr>\n",
       "    <tr>\n",
       "      <th>1</th>\n",
       "      <td>2023-01-02</td>\n",
       "      <td>AAPL</td>\n",
       "      <td>151.2</td>\n",
       "    </tr>\n",
       "    <tr>\n",
       "      <th>2</th>\n",
       "      <td>2023-01-03</td>\n",
       "      <td>AAPL</td>\n",
       "      <td>149.8</td>\n",
       "    </tr>\n",
       "    <tr>\n",
       "      <th>3</th>\n",
       "      <td>2023-01-04</td>\n",
       "      <td>GOOGL</td>\n",
       "      <td>2700.0</td>\n",
       "    </tr>\n",
       "    <tr>\n",
       "      <th>4</th>\n",
       "      <td>2023-01-05</td>\n",
       "      <td>GOOGL</td>\n",
       "      <td>2710.0</td>\n",
       "    </tr>\n",
       "    <tr>\n",
       "      <th>5</th>\n",
       "      <td>2023-01-06</td>\n",
       "      <td>GOOGL</td>\n",
       "      <td>2685.0</td>\n",
       "    </tr>\n",
       "  </tbody>\n",
       "</table>\n",
       "</div>"
      ],
      "text/plain": [
       "        Date  Stock   Price\n",
       "0 2023-01-01   AAPL   150.1\n",
       "1 2023-01-02   AAPL   151.2\n",
       "2 2023-01-03   AAPL   149.8\n",
       "3 2023-01-04  GOOGL  2700.0\n",
       "4 2023-01-05  GOOGL  2710.0\n",
       "5 2023-01-06  GOOGL  2685.0"
      ]
     },
     "execution_count": 45,
     "metadata": {},
     "output_type": "execute_result"
    }
   ],
   "source": [
    "# Creating a sample DataFrame for time series data (stock prices)\n",
    "data = {\n",
    "    'Date': pd.date_range(start='2023-01-01', periods=6, freq='D'),\n",
    "    'Stock': ['AAPL', 'AAPL', 'AAPL', 'GOOGL', 'GOOGL', 'GOOGL'],\n",
    "    'Price': [150.1, 151.2, 149.8, 2700.0, 2710.0, 2685.0]\n",
    "}\n",
    "\n",
    "df = pd.DataFrame(data)\n",
    "\n",
    "df"
   ]
  },
  {
   "cell_type": "code",
   "execution_count": 47,
   "id": "53133d6b",
   "metadata": {},
   "outputs": [
    {
     "name": "stdout",
     "output_type": "stream",
     "text": [
      "Time Series Pivot Table (Monthly Averages):\n"
     ]
    },
    {
     "data": {
      "text/html": [
       "<div>\n",
       "<style scoped>\n",
       "    .dataframe tbody tr th:only-of-type {\n",
       "        vertical-align: middle;\n",
       "    }\n",
       "\n",
       "    .dataframe tbody tr th {\n",
       "        vertical-align: top;\n",
       "    }\n",
       "\n",
       "    .dataframe thead th {\n",
       "        text-align: right;\n",
       "    }\n",
       "</style>\n",
       "<table border=\"1\" class=\"dataframe\">\n",
       "  <thead>\n",
       "    <tr style=\"text-align: right;\">\n",
       "      <th>Stock</th>\n",
       "      <th>AAPL</th>\n",
       "      <th>GOOGL</th>\n",
       "    </tr>\n",
       "    <tr>\n",
       "      <th>Date</th>\n",
       "      <th></th>\n",
       "      <th></th>\n",
       "    </tr>\n",
       "  </thead>\n",
       "  <tbody>\n",
       "    <tr>\n",
       "      <th>1</th>\n",
       "      <td>150.366667</td>\n",
       "      <td>2698.333333</td>\n",
       "    </tr>\n",
       "  </tbody>\n",
       "</table>\n",
       "</div>"
      ],
      "text/plain": [
       "Stock        AAPL        GOOGL\n",
       "Date                          \n",
       "1      150.366667  2698.333333"
      ]
     },
     "execution_count": 47,
     "metadata": {},
     "output_type": "execute_result"
    }
   ],
   "source": [
    "# Creating a pivot table for time series analysis (e.g., calculating monthly averages)\n",
    "pivot_table = df.pivot_table(index=df['Date'].dt.month, columns='Stock', values='Price', aggfunc='mean')\n",
    "\n",
    "print(\"Time Series Pivot Table (Monthly Averages):\")\n",
    "pivot_table"
   ]
  },
  {
   "cell_type": "code",
   "execution_count": null,
   "id": "c572484a",
   "metadata": {},
   "outputs": [],
   "source": [
    "#Exercise questions"
   ]
  },
  {
   "cell_type": "code",
   "execution_count": 49,
   "id": "c8246617",
   "metadata": {},
   "outputs": [
    {
     "name": "stdout",
     "output_type": "stream",
     "text": [
      "   Student  Year Subject  Score\n",
      "0    Alice  2021    Math     85\n",
      "1    Alice  2022    Math     88\n",
      "2      Bob  2021    Math     90\n",
      "3      Bob  2022    Math     92\n",
      "4  Charlie  2021    Math     78\n",
      "5  Charlie  2022    Math     82\n"
     ]
    }
   ],
   "source": [
    "# Sample long-format DataFrame\n",
    "data = {\n",
    "    'Student': ['Alice', 'Alice', 'Bob', 'Bob', 'Charlie', 'Charlie'],\n",
    "    'Year': [2021, 2022, 2021, 2022, 2021, 2022],\n",
    "    'Subject': ['Math', 'Math', 'Math', 'Math', 'Math', 'Math'],\n",
    "    'Score': [85, 88, 90, 92, 78, 82]\n",
    "}\n",
    "\n",
    "df_long = pd.DataFrame(data)\n",
    "\n",
    "# Display the long-format DataFrame\n",
    "print(df_long)"
   ]
  },
  {
   "cell_type": "code",
   "execution_count": 50,
   "id": "bf608809",
   "metadata": {},
   "outputs": [
    {
     "data": {
      "text/html": [
       "<div>\n",
       "<style scoped>\n",
       "    .dataframe tbody tr th:only-of-type {\n",
       "        vertical-align: middle;\n",
       "    }\n",
       "\n",
       "    .dataframe tbody tr th {\n",
       "        vertical-align: top;\n",
       "    }\n",
       "\n",
       "    .dataframe thead th {\n",
       "        text-align: right;\n",
       "    }\n",
       "</style>\n",
       "<table border=\"1\" class=\"dataframe\">\n",
       "  <thead>\n",
       "    <tr style=\"text-align: right;\">\n",
       "      <th></th>\n",
       "      <th>Respondent</th>\n",
       "      <th>Responses</th>\n",
       "    </tr>\n",
       "  </thead>\n",
       "  <tbody>\n",
       "    <tr>\n",
       "      <th>0</th>\n",
       "      <td>1</td>\n",
       "      <td>[Option A, Option B]</td>\n",
       "    </tr>\n",
       "    <tr>\n",
       "      <th>1</th>\n",
       "      <td>2</td>\n",
       "      <td>[Option B]</td>\n",
       "    </tr>\n",
       "    <tr>\n",
       "      <th>2</th>\n",
       "      <td>3</td>\n",
       "      <td>[Option A, Option C]</td>\n",
       "    </tr>\n",
       "  </tbody>\n",
       "</table>\n",
       "</div>"
      ],
      "text/plain": [
       "   Respondent             Responses\n",
       "0           1  [Option A, Option B]\n",
       "1           2            [Option B]\n",
       "2           3  [Option A, Option C]"
      ]
     },
     "execution_count": 50,
     "metadata": {},
     "output_type": "execute_result"
    }
   ],
   "source": [
    "data = {\n",
    "    'Respondent': [1, 2, 3],\n",
    "    'Responses': [\n",
    "        ['Option A', 'Option B'],\n",
    "        ['Option B'],\n",
    "        ['Option A', 'Option C']\n",
    "    ]\n",
    "}\n",
    "\n",
    "df_survey = pd.DataFrame(data)\n",
    "\n",
    "df_survey"
   ]
  },
  {
   "cell_type": "code",
   "execution_count": 52,
   "id": "3b766d6b",
   "metadata": {},
   "outputs": [
    {
     "data": {
      "text/html": [
       "<div>\n",
       "<style scoped>\n",
       "    .dataframe tbody tr th:only-of-type {\n",
       "        vertical-align: middle;\n",
       "    }\n",
       "\n",
       "    .dataframe tbody tr th {\n",
       "        vertical-align: top;\n",
       "    }\n",
       "\n",
       "    .dataframe thead th {\n",
       "        text-align: right;\n",
       "    }\n",
       "</style>\n",
       "<table border=\"1\" class=\"dataframe\">\n",
       "  <thead>\n",
       "    <tr style=\"text-align: right;\">\n",
       "      <th></th>\n",
       "      <th>Respondent</th>\n",
       "      <th>Responses</th>\n",
       "    </tr>\n",
       "  </thead>\n",
       "  <tbody>\n",
       "    <tr>\n",
       "      <th>0</th>\n",
       "      <td>1</td>\n",
       "      <td>Option A</td>\n",
       "    </tr>\n",
       "    <tr>\n",
       "      <th>1</th>\n",
       "      <td>1</td>\n",
       "      <td>Option B</td>\n",
       "    </tr>\n",
       "    <tr>\n",
       "      <th>2</th>\n",
       "      <td>2</td>\n",
       "      <td>Option B</td>\n",
       "    </tr>\n",
       "    <tr>\n",
       "      <th>3</th>\n",
       "      <td>3</td>\n",
       "      <td>Option A</td>\n",
       "    </tr>\n",
       "    <tr>\n",
       "      <th>4</th>\n",
       "      <td>3</td>\n",
       "      <td>Option C</td>\n",
       "    </tr>\n",
       "  </tbody>\n",
       "</table>\n",
       "</div>"
      ],
      "text/plain": [
       "   Respondent Responses\n",
       "0           1  Option A\n",
       "1           1  Option B\n",
       "2           2  Option B\n",
       "3           3  Option A\n",
       "4           3  Option C"
      ]
     },
     "execution_count": 52,
     "metadata": {},
     "output_type": "execute_result"
    }
   ],
   "source": [
    "# Using Pandas 'explode' function to unnest the 'Responses' column\n",
    "df_survey_exploded = df_survey.explode('Responses', ignore_index=True)\n",
    "\n",
    "# Display the exploded DataFrame\n",
    "df_survey_exploded"
   ]
  },
  {
   "cell_type": "code",
   "execution_count": 54,
   "id": "ae8122bf",
   "metadata": {},
   "outputs": [
    {
     "data": {
      "text/html": [
       "<div>\n",
       "<style scoped>\n",
       "    .dataframe tbody tr th:only-of-type {\n",
       "        vertical-align: middle;\n",
       "    }\n",
       "\n",
       "    .dataframe tbody tr th {\n",
       "        vertical-align: top;\n",
       "    }\n",
       "\n",
       "    .dataframe thead th {\n",
       "        text-align: right;\n",
       "    }\n",
       "</style>\n",
       "<table border=\"1\" class=\"dataframe\">\n",
       "  <thead>\n",
       "    <tr style=\"text-align: right;\">\n",
       "      <th></th>\n",
       "      <th>Purchase Date</th>\n",
       "      <th>Product</th>\n",
       "      <th>Price</th>\n",
       "    </tr>\n",
       "  </thead>\n",
       "  <tbody>\n",
       "    <tr>\n",
       "      <th>0</th>\n",
       "      <td>2022-01-01</td>\n",
       "      <td>A</td>\n",
       "      <td>50</td>\n",
       "    </tr>\n",
       "    <tr>\n",
       "      <th>1</th>\n",
       "      <td>2022-01-01</td>\n",
       "      <td>B</td>\n",
       "      <td>30</td>\n",
       "    </tr>\n",
       "    <tr>\n",
       "      <th>2</th>\n",
       "      <td>2022-01-02</td>\n",
       "      <td>A</td>\n",
       "      <td>45</td>\n",
       "    </tr>\n",
       "    <tr>\n",
       "      <th>3</th>\n",
       "      <td>2022-01-02</td>\n",
       "      <td>C</td>\n",
       "      <td>25</td>\n",
       "    </tr>\n",
       "  </tbody>\n",
       "</table>\n",
       "</div>"
      ],
      "text/plain": [
       "  Purchase Date Product  Price\n",
       "0    2022-01-01       A     50\n",
       "1    2022-01-01       B     30\n",
       "2    2022-01-02       A     45\n",
       "3    2022-01-02       C     25"
      ]
     },
     "execution_count": 54,
     "metadata": {},
     "output_type": "execute_result"
    }
   ],
   "source": [
    "data = {\n",
    "    'Purchase Date': ['2022-01-01', '2022-01-01', '2022-01-02', '2022-01-02'],\n",
    "    'Product': ['A', 'B', 'A', 'C'],\n",
    "    'Price': [50, 30, 45, 25]\n",
    "}\n",
    "\n",
    "df_purchases = pd.DataFrame(data)\n",
    "\n",
    "df_purchases"
   ]
  },
  {
   "cell_type": "code",
   "execution_count": 55,
   "id": "ed2df969",
   "metadata": {},
   "outputs": [
    {
     "name": "stdout",
     "output_type": "stream",
     "text": [
      "Pivot Table for Summary Insights:\n"
     ]
    },
    {
     "data": {
      "text/html": [
       "<div>\n",
       "<style scoped>\n",
       "    .dataframe tbody tr th:only-of-type {\n",
       "        vertical-align: middle;\n",
       "    }\n",
       "\n",
       "    .dataframe tbody tr th {\n",
       "        vertical-align: top;\n",
       "    }\n",
       "\n",
       "    .dataframe thead th {\n",
       "        text-align: right;\n",
       "    }\n",
       "</style>\n",
       "<table border=\"1\" class=\"dataframe\">\n",
       "  <thead>\n",
       "    <tr style=\"text-align: right;\">\n",
       "      <th>Purchase Date</th>\n",
       "      <th>2022-01-01</th>\n",
       "      <th>2022-01-02</th>\n",
       "    </tr>\n",
       "    <tr>\n",
       "      <th>Product</th>\n",
       "      <th></th>\n",
       "      <th></th>\n",
       "    </tr>\n",
       "  </thead>\n",
       "  <tbody>\n",
       "    <tr>\n",
       "      <th>A</th>\n",
       "      <td>50</td>\n",
       "      <td>45</td>\n",
       "    </tr>\n",
       "    <tr>\n",
       "      <th>B</th>\n",
       "      <td>30</td>\n",
       "      <td>0</td>\n",
       "    </tr>\n",
       "    <tr>\n",
       "      <th>C</th>\n",
       "      <td>0</td>\n",
       "      <td>25</td>\n",
       "    </tr>\n",
       "  </tbody>\n",
       "</table>\n",
       "</div>"
      ],
      "text/plain": [
       "Purchase Date  2022-01-01  2022-01-02\n",
       "Product                              \n",
       "A                      50          45\n",
       "B                      30           0\n",
       "C                       0          25"
      ]
     },
     "execution_count": 55,
     "metadata": {},
     "output_type": "execute_result"
    }
   ],
   "source": [
    "# Creating a pivot table to summarize total spending by product and purchase date\n",
    "pivot_table = pd.pivot_table(df_purchases, values='Price', index='Product', columns='Purchase Date', aggfunc='sum', fill_value=0)\n",
    "\n",
    "# Display the pivot table\n",
    "print(\"Pivot Table for Summary Insights:\")\n",
    "pivot_table"
   ]
  }
 ],
 "metadata": {
  "kernelspec": {
   "display_name": "Python 3 (ipykernel)",
   "language": "python",
   "name": "python3"
  },
  "language_info": {
   "codemirror_mode": {
    "name": "ipython",
    "version": 3
   },
   "file_extension": ".py",
   "mimetype": "text/x-python",
   "name": "python",
   "nbconvert_exporter": "python",
   "pygments_lexer": "ipython3",
   "version": "3.8.13"
  }
 },
 "nbformat": 4,
 "nbformat_minor": 5
}
