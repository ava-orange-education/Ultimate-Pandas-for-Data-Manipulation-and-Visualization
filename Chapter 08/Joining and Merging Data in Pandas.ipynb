{
 "cells": [
  {
   "cell_type": "code",
   "execution_count": 1,
   "id": "9eb7c6a1",
   "metadata": {},
   "outputs": [],
   "source": [
    "import pandas as pd\n"
   ]
  },
  {
   "cell_type": "code",
   "execution_count": 2,
   "id": "4d6ed251",
   "metadata": {},
   "outputs": [],
   "source": [
    "# Create two dataframes\n",
    "dataframe1 = pd.DataFrame({\n",
    "    'Employee_ID': [101, 102],\n",
    "    'Name': ['Alice', 'Bob'],\n",
    "    'Department': ['HR', 'Finance']\n",
    "})\n",
    "\n",
    "dataframe2 = pd.DataFrame({\n",
    "    'Employee_ID': [103, 104],\n",
    "    'Name': ['Charlie', 'David'],\n",
    "    'Department': ['Marketing', 'IT']\n",
    "})"
   ]
  },
  {
   "cell_type": "code",
   "execution_count": 4,
   "id": "377f145c",
   "metadata": {},
   "outputs": [
    {
     "data": {
      "text/html": [
       "<div>\n",
       "<style scoped>\n",
       "    .dataframe tbody tr th:only-of-type {\n",
       "        vertical-align: middle;\n",
       "    }\n",
       "\n",
       "    .dataframe tbody tr th {\n",
       "        vertical-align: top;\n",
       "    }\n",
       "\n",
       "    .dataframe thead th {\n",
       "        text-align: right;\n",
       "    }\n",
       "</style>\n",
       "<table border=\"1\" class=\"dataframe\">\n",
       "  <thead>\n",
       "    <tr style=\"text-align: right;\">\n",
       "      <th></th>\n",
       "      <th>Employee_ID</th>\n",
       "      <th>Name</th>\n",
       "      <th>Department</th>\n",
       "    </tr>\n",
       "  </thead>\n",
       "  <tbody>\n",
       "    <tr>\n",
       "      <th>0</th>\n",
       "      <td>101</td>\n",
       "      <td>Alice</td>\n",
       "      <td>HR</td>\n",
       "    </tr>\n",
       "    <tr>\n",
       "      <th>1</th>\n",
       "      <td>102</td>\n",
       "      <td>Bob</td>\n",
       "      <td>Finance</td>\n",
       "    </tr>\n",
       "    <tr>\n",
       "      <th>0</th>\n",
       "      <td>103</td>\n",
       "      <td>Charlie</td>\n",
       "      <td>Marketing</td>\n",
       "    </tr>\n",
       "    <tr>\n",
       "      <th>1</th>\n",
       "      <td>104</td>\n",
       "      <td>David</td>\n",
       "      <td>IT</td>\n",
       "    </tr>\n",
       "  </tbody>\n",
       "</table>\n",
       "</div>"
      ],
      "text/plain": [
       "   Employee_ID     Name Department\n",
       "0          101    Alice         HR\n",
       "1          102      Bob    Finance\n",
       "0          103  Charlie  Marketing\n",
       "1          104    David         IT"
      ]
     },
     "execution_count": 4,
     "metadata": {},
     "output_type": "execute_result"
    }
   ],
   "source": [
    "# Concatenate along rows\n",
    "concatenated_rows = pd.concat([dataframe1, dataframe2], axis=0)\n",
    "\n",
    "concatenated_rows"
   ]
  },
  {
   "cell_type": "code",
   "execution_count": 5,
   "id": "7c90ac6c",
   "metadata": {},
   "outputs": [],
   "source": [
    "# Create two dataframes\n",
    "dataframe1 = pd.DataFrame({\n",
    "    'Employee_ID': [101, 102],\n",
    "    'Name': ['Alice', 'Bob']\n",
    "})\n",
    "\n",
    "dataframe2 = pd.DataFrame({\n",
    "    'Salary': [50000, 60000],\n",
    "    'Department': ['HR', 'Finance']\n",
    "})"
   ]
  },
  {
   "cell_type": "code",
   "execution_count": 6,
   "id": "33e05d74",
   "metadata": {},
   "outputs": [
    {
     "data": {
      "text/html": [
       "<div>\n",
       "<style scoped>\n",
       "    .dataframe tbody tr th:only-of-type {\n",
       "        vertical-align: middle;\n",
       "    }\n",
       "\n",
       "    .dataframe tbody tr th {\n",
       "        vertical-align: top;\n",
       "    }\n",
       "\n",
       "    .dataframe thead th {\n",
       "        text-align: right;\n",
       "    }\n",
       "</style>\n",
       "<table border=\"1\" class=\"dataframe\">\n",
       "  <thead>\n",
       "    <tr style=\"text-align: right;\">\n",
       "      <th></th>\n",
       "      <th>Employee_ID</th>\n",
       "      <th>Name</th>\n",
       "      <th>Salary</th>\n",
       "      <th>Department</th>\n",
       "    </tr>\n",
       "  </thead>\n",
       "  <tbody>\n",
       "    <tr>\n",
       "      <th>0</th>\n",
       "      <td>101</td>\n",
       "      <td>Alice</td>\n",
       "      <td>50000</td>\n",
       "      <td>HR</td>\n",
       "    </tr>\n",
       "    <tr>\n",
       "      <th>1</th>\n",
       "      <td>102</td>\n",
       "      <td>Bob</td>\n",
       "      <td>60000</td>\n",
       "      <td>Finance</td>\n",
       "    </tr>\n",
       "  </tbody>\n",
       "</table>\n",
       "</div>"
      ],
      "text/plain": [
       "   Employee_ID   Name  Salary Department\n",
       "0          101  Alice   50000         HR\n",
       "1          102    Bob   60000    Finance"
      ]
     },
     "execution_count": 6,
     "metadata": {},
     "output_type": "execute_result"
    }
   ],
   "source": [
    "# Concatenate along columns\n",
    "concatenated_columns = pd.concat([dataframe1, dataframe2], axis=1)\n",
    "\n",
    "concatenated_columns"
   ]
  },
  {
   "cell_type": "code",
   "execution_count": 8,
   "id": "5c7bb090",
   "metadata": {},
   "outputs": [
    {
     "name": "stdout",
     "output_type": "stream",
     "text": [
      "   Employee_ID     Name   Salary\n",
      "0        101.0    Alice      NaN\n",
      "1        102.0      Bob      NaN\n",
      "0          NaN  Charlie  60000.0\n",
      "1          NaN    David  75000.0\n"
     ]
    }
   ],
   "source": [
    "import pandas as pd\n",
    "\n",
    "# Create two dataframes\n",
    "dataframe1 = pd.DataFrame({\n",
    "    'Employee_ID': [101, 102],\n",
    "    'Name': ['Alice', 'Bob']\n",
    "})\n",
    "\n",
    "dataframe2 = pd.DataFrame({\n",
    "    'Name': ['Charlie', 'David'],\n",
    "    'Salary': [60000, 75000]\n",
    "})\n",
    "\n",
    "# Concatenate dataframes with missing values\n",
    "concatenated_with_missing = pd.concat([dataframe1, dataframe2])\n",
    "\n",
    "print(concatenated_with_missing)"
   ]
  },
  {
   "cell_type": "code",
   "execution_count": 9,
   "id": "92f50e30",
   "metadata": {},
   "outputs": [],
   "source": [
    "# Create orders_data dataframe\n",
    "orders_data = pd.DataFrame({\n",
    "    'Order_ID': [101, 102, 103],\n",
    "    'Customer_ID': [201, 202, 203],\n",
    "    'Product': ['A', 'B', 'C']\n",
    "})\n",
    "\n",
    "# Create customers_data dataframe\n",
    "customers_data = pd.DataFrame({\n",
    "    'Customer_ID': [201, 202, 204],\n",
    "    'Name': ['Alice', 'Bob', 'Charlie'],\n",
    "    'Location': ['New York', 'San Francisco', 'Los Angeles']\n",
    "})"
   ]
  },
  {
   "cell_type": "code",
   "execution_count": 12,
   "id": "1a50c725",
   "metadata": {},
   "outputs": [
    {
     "data": {
      "text/html": [
       "<div>\n",
       "<style scoped>\n",
       "    .dataframe tbody tr th:only-of-type {\n",
       "        vertical-align: middle;\n",
       "    }\n",
       "\n",
       "    .dataframe tbody tr th {\n",
       "        vertical-align: top;\n",
       "    }\n",
       "\n",
       "    .dataframe thead th {\n",
       "        text-align: right;\n",
       "    }\n",
       "</style>\n",
       "<table border=\"1\" class=\"dataframe\">\n",
       "  <thead>\n",
       "    <tr style=\"text-align: right;\">\n",
       "      <th></th>\n",
       "      <th>Order_ID</th>\n",
       "      <th>Customer_ID</th>\n",
       "      <th>Product</th>\n",
       "    </tr>\n",
       "  </thead>\n",
       "  <tbody>\n",
       "    <tr>\n",
       "      <th>0</th>\n",
       "      <td>101</td>\n",
       "      <td>201</td>\n",
       "      <td>A</td>\n",
       "    </tr>\n",
       "    <tr>\n",
       "      <th>1</th>\n",
       "      <td>102</td>\n",
       "      <td>202</td>\n",
       "      <td>B</td>\n",
       "    </tr>\n",
       "    <tr>\n",
       "      <th>2</th>\n",
       "      <td>103</td>\n",
       "      <td>203</td>\n",
       "      <td>C</td>\n",
       "    </tr>\n",
       "  </tbody>\n",
       "</table>\n",
       "</div>"
      ],
      "text/plain": [
       "   Order_ID  Customer_ID Product\n",
       "0       101          201       A\n",
       "1       102          202       B\n",
       "2       103          203       C"
      ]
     },
     "execution_count": 12,
     "metadata": {},
     "output_type": "execute_result"
    }
   ],
   "source": [
    "orders_data"
   ]
  },
  {
   "cell_type": "code",
   "execution_count": 13,
   "id": "3695f740",
   "metadata": {},
   "outputs": [
    {
     "data": {
      "text/html": [
       "<div>\n",
       "<style scoped>\n",
       "    .dataframe tbody tr th:only-of-type {\n",
       "        vertical-align: middle;\n",
       "    }\n",
       "\n",
       "    .dataframe tbody tr th {\n",
       "        vertical-align: top;\n",
       "    }\n",
       "\n",
       "    .dataframe thead th {\n",
       "        text-align: right;\n",
       "    }\n",
       "</style>\n",
       "<table border=\"1\" class=\"dataframe\">\n",
       "  <thead>\n",
       "    <tr style=\"text-align: right;\">\n",
       "      <th></th>\n",
       "      <th>Customer_ID</th>\n",
       "      <th>Name</th>\n",
       "      <th>Location</th>\n",
       "    </tr>\n",
       "  </thead>\n",
       "  <tbody>\n",
       "    <tr>\n",
       "      <th>0</th>\n",
       "      <td>201</td>\n",
       "      <td>Alice</td>\n",
       "      <td>New York</td>\n",
       "    </tr>\n",
       "    <tr>\n",
       "      <th>1</th>\n",
       "      <td>202</td>\n",
       "      <td>Bob</td>\n",
       "      <td>San Francisco</td>\n",
       "    </tr>\n",
       "    <tr>\n",
       "      <th>2</th>\n",
       "      <td>204</td>\n",
       "      <td>Charlie</td>\n",
       "      <td>Los Angeles</td>\n",
       "    </tr>\n",
       "  </tbody>\n",
       "</table>\n",
       "</div>"
      ],
      "text/plain": [
       "   Customer_ID     Name       Location\n",
       "0          201    Alice       New York\n",
       "1          202      Bob  San Francisco\n",
       "2          204  Charlie    Los Angeles"
      ]
     },
     "execution_count": 13,
     "metadata": {},
     "output_type": "execute_result"
    }
   ],
   "source": [
    "customers_data"
   ]
  },
  {
   "cell_type": "code",
   "execution_count": 11,
   "id": "a0f4fab2",
   "metadata": {},
   "outputs": [
    {
     "name": "stdout",
     "output_type": "stream",
     "text": [
      "   Order_ID  Customer_ID Product   Name       Location\n",
      "0       101          201       A  Alice       New York\n",
      "1       102          202       B    Bob  San Francisco\n"
     ]
    }
   ],
   "source": [
    "# Perform inner join based on 'Customer_ID'\n",
    "inner_join_result = pd.merge(orders_data, customers_data, on='Customer_ID', how='inner')\n",
    "\n",
    "print(inner_join_result)"
   ]
  },
  {
   "cell_type": "code",
   "execution_count": 20,
   "id": "b4eddf0d",
   "metadata": {},
   "outputs": [
    {
     "data": {
      "text/html": [
       "<div>\n",
       "<style scoped>\n",
       "    .dataframe tbody tr th:only-of-type {\n",
       "        vertical-align: middle;\n",
       "    }\n",
       "\n",
       "    .dataframe tbody tr th {\n",
       "        vertical-align: top;\n",
       "    }\n",
       "\n",
       "    .dataframe thead th {\n",
       "        text-align: right;\n",
       "    }\n",
       "</style>\n",
       "<table border=\"1\" class=\"dataframe\">\n",
       "  <thead>\n",
       "    <tr style=\"text-align: right;\">\n",
       "      <th></th>\n",
       "      <th>Employee_ID</th>\n",
       "      <th>Name</th>\n",
       "      <th>Department_ID</th>\n",
       "    </tr>\n",
       "  </thead>\n",
       "  <tbody>\n",
       "    <tr>\n",
       "      <th>0</th>\n",
       "      <td>101</td>\n",
       "      <td>Alice</td>\n",
       "      <td>1</td>\n",
       "    </tr>\n",
       "    <tr>\n",
       "      <th>1</th>\n",
       "      <td>102</td>\n",
       "      <td>Bob</td>\n",
       "      <td>2</td>\n",
       "    </tr>\n",
       "    <tr>\n",
       "      <th>2</th>\n",
       "      <td>103</td>\n",
       "      <td>Charlie</td>\n",
       "      <td>1</td>\n",
       "    </tr>\n",
       "    <tr>\n",
       "      <th>3</th>\n",
       "      <td>104</td>\n",
       "      <td>David</td>\n",
       "      <td>3</td>\n",
       "    </tr>\n",
       "  </tbody>\n",
       "</table>\n",
       "</div>"
      ],
      "text/plain": [
       "   Employee_ID     Name  Department_ID\n",
       "0          101    Alice              1\n",
       "1          102      Bob              2\n",
       "2          103  Charlie              1\n",
       "3          104    David              3"
      ]
     },
     "execution_count": 20,
     "metadata": {},
     "output_type": "execute_result"
    }
   ],
   "source": [
    "# Create employees dataframe\n",
    "employees = pd.DataFrame({\n",
    "    'Employee_ID': [101, 102, 103, 104],\n",
    "    'Name': ['Alice', 'Bob', 'Charlie', 'David'],\n",
    "    'Department_ID': [1, 2, 1, 3]\n",
    "})\n",
    "\n",
    "# Create departments dataframe\n",
    "departments = pd.DataFrame({\n",
    "    'Department_ID': [1, 2, 4],\n",
    "    'Department_Name': ['HR', 'Finance', 'Marketing']\n",
    "})\n",
    "\n",
    "employees\n"
   ]
  },
  {
   "cell_type": "code",
   "execution_count": 17,
   "id": "4fc83999",
   "metadata": {},
   "outputs": [
    {
     "data": {
      "text/html": [
       "<div>\n",
       "<style scoped>\n",
       "    .dataframe tbody tr th:only-of-type {\n",
       "        vertical-align: middle;\n",
       "    }\n",
       "\n",
       "    .dataframe tbody tr th {\n",
       "        vertical-align: top;\n",
       "    }\n",
       "\n",
       "    .dataframe thead th {\n",
       "        text-align: right;\n",
       "    }\n",
       "</style>\n",
       "<table border=\"1\" class=\"dataframe\">\n",
       "  <thead>\n",
       "    <tr style=\"text-align: right;\">\n",
       "      <th></th>\n",
       "      <th>Department_ID</th>\n",
       "      <th>Department_Name</th>\n",
       "    </tr>\n",
       "  </thead>\n",
       "  <tbody>\n",
       "    <tr>\n",
       "      <th>0</th>\n",
       "      <td>1</td>\n",
       "      <td>HR</td>\n",
       "    </tr>\n",
       "    <tr>\n",
       "      <th>1</th>\n",
       "      <td>2</td>\n",
       "      <td>Finance</td>\n",
       "    </tr>\n",
       "    <tr>\n",
       "      <th>2</th>\n",
       "      <td>4</td>\n",
       "      <td>Marketing</td>\n",
       "    </tr>\n",
       "  </tbody>\n",
       "</table>\n",
       "</div>"
      ],
      "text/plain": [
       "   Department_ID Department_Name\n",
       "0              1              HR\n",
       "1              2         Finance\n",
       "2              4       Marketing"
      ]
     },
     "execution_count": 17,
     "metadata": {},
     "output_type": "execute_result"
    }
   ],
   "source": [
    "departments"
   ]
  },
  {
   "cell_type": "code",
   "execution_count": 18,
   "id": "0f7c4f85",
   "metadata": {},
   "outputs": [
    {
     "name": "stdout",
     "output_type": "stream",
     "text": [
      "   Employee_ID     Name  Department_ID Department_Name\n",
      "0        101.0    Alice              1              HR\n",
      "1        103.0  Charlie              1              HR\n",
      "2        102.0      Bob              2         Finance\n",
      "3        104.0    David              3             NaN\n",
      "4          NaN      NaN              4       Marketing\n"
     ]
    }
   ],
   "source": [
    "# Perform an outer join based on 'Department_ID'\n",
    "outer_joined = pd.merge(employees, departments, on='Department_ID', how='outer')\n",
    "\n",
    "print(outer_joined)"
   ]
  },
  {
   "cell_type": "code",
   "execution_count": 22,
   "id": "184a2b90",
   "metadata": {},
   "outputs": [
    {
     "name": "stdout",
     "output_type": "stream",
     "text": [
      "   Employee_ID     Name  Department_ID Department_Name\n",
      "0          101    Alice              1              HR\n",
      "1          102      Bob              2         Finance\n",
      "2          103  Charlie              1              HR\n",
      "3          104    David              3             NaN\n"
     ]
    }
   ],
   "source": [
    "# Perform left join based on 'Department_ID'\n",
    "left_joined = pd.merge(employees, departments, on='Department_ID', how='left')\n",
    "\n",
    "print(left_joined)"
   ]
  },
  {
   "cell_type": "code",
   "execution_count": 24,
   "id": "5213c6a4",
   "metadata": {},
   "outputs": [
    {
     "data": {
      "text/html": [
       "<div>\n",
       "<style scoped>\n",
       "    .dataframe tbody tr th:only-of-type {\n",
       "        vertical-align: middle;\n",
       "    }\n",
       "\n",
       "    .dataframe tbody tr th {\n",
       "        vertical-align: top;\n",
       "    }\n",
       "\n",
       "    .dataframe thead th {\n",
       "        text-align: right;\n",
       "    }\n",
       "</style>\n",
       "<table border=\"1\" class=\"dataframe\">\n",
       "  <thead>\n",
       "    <tr style=\"text-align: right;\">\n",
       "      <th></th>\n",
       "      <th>Employee_ID</th>\n",
       "      <th>Name</th>\n",
       "      <th>Department_ID</th>\n",
       "      <th>Department_Name</th>\n",
       "    </tr>\n",
       "  </thead>\n",
       "  <tbody>\n",
       "    <tr>\n",
       "      <th>0</th>\n",
       "      <td>101.0</td>\n",
       "      <td>Alice</td>\n",
       "      <td>1</td>\n",
       "      <td>HR</td>\n",
       "    </tr>\n",
       "    <tr>\n",
       "      <th>1</th>\n",
       "      <td>103.0</td>\n",
       "      <td>Charlie</td>\n",
       "      <td>1</td>\n",
       "      <td>HR</td>\n",
       "    </tr>\n",
       "    <tr>\n",
       "      <th>2</th>\n",
       "      <td>102.0</td>\n",
       "      <td>Bob</td>\n",
       "      <td>2</td>\n",
       "      <td>Finance</td>\n",
       "    </tr>\n",
       "    <tr>\n",
       "      <th>3</th>\n",
       "      <td>NaN</td>\n",
       "      <td>NaN</td>\n",
       "      <td>4</td>\n",
       "      <td>Marketing</td>\n",
       "    </tr>\n",
       "  </tbody>\n",
       "</table>\n",
       "</div>"
      ],
      "text/plain": [
       "   Employee_ID     Name  Department_ID Department_Name\n",
       "0        101.0    Alice              1              HR\n",
       "1        103.0  Charlie              1              HR\n",
       "2        102.0      Bob              2         Finance\n",
       "3          NaN      NaN              4       Marketing"
      ]
     },
     "execution_count": 24,
     "metadata": {},
     "output_type": "execute_result"
    }
   ],
   "source": [
    "right_joined = pd.merge(employees, departments, on='Department_ID', how='right')\n",
    "right_joined"
   ]
  },
  {
   "cell_type": "code",
   "execution_count": 26,
   "id": "fba1a3c4",
   "metadata": {},
   "outputs": [
    {
     "data": {
      "text/html": [
       "<div>\n",
       "<style scoped>\n",
       "    .dataframe tbody tr th:only-of-type {\n",
       "        vertical-align: middle;\n",
       "    }\n",
       "\n",
       "    .dataframe tbody tr th {\n",
       "        vertical-align: top;\n",
       "    }\n",
       "\n",
       "    .dataframe thead th {\n",
       "        text-align: right;\n",
       "    }\n",
       "</style>\n",
       "<table border=\"1\" class=\"dataframe\">\n",
       "  <thead>\n",
       "    <tr style=\"text-align: right;\">\n",
       "      <th></th>\n",
       "      <th>Name</th>\n",
       "      <th>Age</th>\n",
       "    </tr>\n",
       "  </thead>\n",
       "  <tbody>\n",
       "    <tr>\n",
       "      <th>101</th>\n",
       "      <td>Alice</td>\n",
       "      <td>21</td>\n",
       "    </tr>\n",
       "    <tr>\n",
       "      <th>102</th>\n",
       "      <td>Bob</td>\n",
       "      <td>22</td>\n",
       "    </tr>\n",
       "    <tr>\n",
       "      <th>103</th>\n",
       "      <td>Charlie</td>\n",
       "      <td>20</td>\n",
       "    </tr>\n",
       "  </tbody>\n",
       "</table>\n",
       "</div>"
      ],
      "text/plain": [
       "        Name  Age\n",
       "101    Alice   21\n",
       "102      Bob   22\n",
       "103  Charlie   20"
      ]
     },
     "execution_count": 26,
     "metadata": {},
     "output_type": "execute_result"
    }
   ],
   "source": [
    "# Create students dataframe\n",
    "students = pd.DataFrame({\n",
    "    'Name': ['Alice', 'Bob', 'Charlie'],\n",
    "    'Age': [21, 22, 20]\n",
    "}, index=[101, 102, 103])\n",
    "\n",
    "# Create scores dataframe\n",
    "scores = pd.DataFrame({\n",
    "    'Math': [95, 85, 78],\n",
    "    'Science': [89, 92, 81]\n",
    "    }, index=[101, 102, 104])  # Note the missing index 103\n",
    "\n",
    "    students"
   ]
  },
  {
   "cell_type": "code",
   "execution_count": 27,
   "id": "04179b55",
   "metadata": {},
   "outputs": [
    {
     "data": {
      "text/html": [
       "<div>\n",
       "<style scoped>\n",
       "    .dataframe tbody tr th:only-of-type {\n",
       "        vertical-align: middle;\n",
       "    }\n",
       "\n",
       "    .dataframe tbody tr th {\n",
       "        vertical-align: top;\n",
       "    }\n",
       "\n",
       "    .dataframe thead th {\n",
       "        text-align: right;\n",
       "    }\n",
       "</style>\n",
       "<table border=\"1\" class=\"dataframe\">\n",
       "  <thead>\n",
       "    <tr style=\"text-align: right;\">\n",
       "      <th></th>\n",
       "      <th>Math</th>\n",
       "      <th>Science</th>\n",
       "    </tr>\n",
       "  </thead>\n",
       "  <tbody>\n",
       "    <tr>\n",
       "      <th>101</th>\n",
       "      <td>95</td>\n",
       "      <td>89</td>\n",
       "    </tr>\n",
       "    <tr>\n",
       "      <th>102</th>\n",
       "      <td>85</td>\n",
       "      <td>92</td>\n",
       "    </tr>\n",
       "    <tr>\n",
       "      <th>104</th>\n",
       "      <td>78</td>\n",
       "      <td>81</td>\n",
       "    </tr>\n",
       "  </tbody>\n",
       "</table>\n",
       "</div>"
      ],
      "text/plain": [
       "     Math  Science\n",
       "101    95       89\n",
       "102    85       92\n",
       "104    78       81"
      ]
     },
     "execution_count": 27,
     "metadata": {},
     "output_type": "execute_result"
    }
   ],
   "source": [
    "scores"
   ]
  },
  {
   "cell_type": "code",
   "execution_count": 28,
   "id": "3c0ac1b9",
   "metadata": {},
   "outputs": [
    {
     "name": "stdout",
     "output_type": "stream",
     "text": [
      "Inner Joined:\n",
      "      Name  Age  Math  Science\n",
      "101  Alice   21    95       89\n",
      "102    Bob   22    85       92\n"
     ]
    }
   ],
   "source": [
    "    # Perform an inner join based on indices\n",
    "    inner_joined = pd.merge(students, scores, left_index=True, right_index=True, how='inner')\n",
    "\n",
    "    print(\"Inner Joined:\")\n",
    "    print(inner_joined)"
   ]
  },
  {
   "cell_type": "code",
   "execution_count": 2,
   "id": "7c4466a3",
   "metadata": {},
   "outputs": [],
   "source": [
    "# Sample dataframes\n",
    "students = pd.DataFrame({\n",
    "    'StudentID': [1, 1, 2, 2],\n",
    "    'Subject': ['Math', 'History', 'Math', 'History'],\n",
    "    'Name': ['Alice', 'Alice', 'Bob', 'Bob']\n",
    "})\n",
    "\n",
    "scores = pd.DataFrame({\n",
    "    'StudentID': [1, 1, 2, 2],\n",
    "    'Subject': ['Math', 'History', 'Math', 'History'],\n",
    "    'Score': [90, 85, 78, 88]\n",
    "})"
   ]
  },
  {
   "cell_type": "code",
   "execution_count": 3,
   "id": "2bb9c3e6",
   "metadata": {},
   "outputs": [
    {
     "name": "stdout",
     "output_type": "stream",
     "text": [
      "   StudentID  Subject   Name  Score\n",
      "0          1     Math  Alice     90\n",
      "1          1  History  Alice     85\n",
      "2          2     Math    Bob     78\n",
      "3          2  History    Bob     88\n"
     ]
    }
   ],
   "source": [
    "# Merging on multiple columns\n",
    "merged_df = pd.merge(students, scores, on=['StudentID', 'Subject'], how='inner')\n",
    "print(merged_df)"
   ]
  }
 ],
 "metadata": {
  "kernelspec": {
   "display_name": "Python 3 (ipykernel)",
   "language": "python",
   "name": "python3"
  },
  "language_info": {
   "codemirror_mode": {
    "name": "ipython",
    "version": 3
   },
   "file_extension": ".py",
   "mimetype": "text/x-python",
   "name": "python",
   "nbconvert_exporter": "python",
   "pygments_lexer": "ipython3",
   "version": "3.8.13"
  }
 },
 "nbformat": 4,
 "nbformat_minor": 5
}
