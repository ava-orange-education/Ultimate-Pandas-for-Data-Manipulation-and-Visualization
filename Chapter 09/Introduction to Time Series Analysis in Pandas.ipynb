{
 "cells": [
  {
   "cell_type": "code",
   "execution_count": 1,
   "id": "9bd6726f",
   "metadata": {},
   "outputs": [
    {
     "name": "stdout",
     "output_type": "stream",
     "text": [
      "2023-10-19 14:30:00\n"
     ]
    }
   ],
   "source": [
    "import pandas as pd\n",
    "\n",
    "# Creating a Timestamp from a string\n",
    "timestamp_str = \"2023-10-19 14:30:00\"\n",
    "timestamp = pd.Timestamp(timestamp_str)\n",
    "print(timestamp)"
   ]
  },
  {
   "cell_type": "code",
   "execution_count": 2,
   "id": "c094eb2c",
   "metadata": {},
   "outputs": [
    {
     "name": "stdout",
     "output_type": "stream",
     "text": [
      "2023-10-19 14:30:00\n"
     ]
    }
   ],
   "source": [
    "timestamp_str = \"2023/10/19 14:30:00\"\n",
    "timestamp = pd.Timestamp(timestamp_str)\n",
    "print(timestamp)"
   ]
  },
  {
   "cell_type": "code",
   "execution_count": 3,
   "id": "74d348e3",
   "metadata": {},
   "outputs": [
    {
     "name": "stdout",
     "output_type": "stream",
     "text": [
      "2023-10-19 14:30:00\n"
     ]
    }
   ],
   "source": [
    "timestamp_str = \"10-19-2023 14:30:00\"\n",
    "timestamp = pd.Timestamp(timestamp_str)\n",
    "print(timestamp)"
   ]
  },
  {
   "cell_type": "code",
   "execution_count": 4,
   "id": "249777a5",
   "metadata": {},
   "outputs": [
    {
     "name": "stdout",
     "output_type": "stream",
     "text": [
      "2023-10-19 14:30:00\n"
     ]
    }
   ],
   "source": [
    "    import pandas as pd\n",
    "\n",
    "    # Creating a Timestamp using parameters\n",
    "    timestamp = pd.Timestamp(year=2023, month=10, day=19, hour=14, minute=30, second=0)\n",
    "    print(timestamp)"
   ]
  },
  {
   "cell_type": "code",
   "execution_count": 5,
   "id": "d03c4c9f",
   "metadata": {},
   "outputs": [
    {
     "name": "stdout",
     "output_type": "stream",
     "text": [
      "Year: 2023\n",
      "Month: 10\n",
      "Day: 19\n",
      "Hour: 14\n",
      "Minute: 30\n",
      "Second: 0\n",
      "Microsecond: 0\n",
      "Day of the week (0=Monday, 6=Sunday): 3\n",
      "Day of the year: 292\n",
      "Is it a leap year? False\n"
     ]
    }
   ],
   "source": [
    "# Creating a Timestamp\n",
    "timestamp = pd.Timestamp(\"2023-10-19 14:30:00\")\n",
    "\n",
    "# Accessing timestamp attributes and properties\n",
    "print(\"Year:\", timestamp.year)\n",
    "print(\"Month:\", timestamp.month)\n",
    "print(\"Day:\", timestamp.day)\n",
    "print(\"Hour:\", timestamp.hour)\n",
    "print(\"Minute:\", timestamp.minute)\n",
    "print(\"Second:\", timestamp.second)\n",
    "print(\"Microsecond:\", timestamp.microsecond)\n",
    "print(\"Day of the week (0=Monday, 6=Sunday):\", timestamp.dayofweek)\n",
    "print(\"Day of the year:\", timestamp.dayofyear)\n",
    "print(\"Is it a leap year?\", timestamp.is_leap_year)"
   ]
  },
  {
   "cell_type": "code",
   "execution_count": 6,
   "id": "1270c8db",
   "metadata": {},
   "outputs": [
    {
     "name": "stdout",
     "output_type": "stream",
     "text": [
      "2023-10-19 14:30:00\n"
     ]
    }
   ],
   "source": [
    "from datetime import datetime\n",
    "\n",
    "# Creating a datetime object for a specific date and time\n",
    "dt = datetime(2023, 10, 19, 14, 30, 0)\n",
    "print(dt)"
   ]
  },
  {
   "cell_type": "code",
   "execution_count": 7,
   "id": "cf345ee9",
   "metadata": {},
   "outputs": [
    {
     "name": "stdout",
     "output_type": "stream",
     "text": [
      "Year: 2023\n",
      "Month: 10\n",
      "Day: 19\n",
      "Hour: 14\n",
      "Minute: 30\n",
      "Second: 0\n"
     ]
    }
   ],
   "source": [
    "# Creating a datetime object for a specific date and time\n",
    "dt = datetime(2023, 10, 19, 14, 30, 0)\n",
    "\n",
    "# Extracting components\n",
    "year = dt.year\n",
    "month = dt.month\n",
    "day = dt.day\n",
    "hour = dt.hour\n",
    "minute = dt.minute\n",
    "second = dt.second\n",
    "microsecond = dt.microsecond\n",
    "\n",
    "# Printing the extracted components\n",
    "print(f\"Year: {year}\")\n",
    "print(f\"Month: {month}\")\n",
    "print(f\"Day: {day}\")\n",
    "print(f\"Hour: {hour}\")\n",
    "print(f\"Minute: {minute}\")\n",
    "print(f\"Second: {second}\")"
   ]
  },
  {
   "cell_type": "code",
   "execution_count": 8,
   "id": "a8f1b586",
   "metadata": {},
   "outputs": [
    {
     "name": "stdout",
     "output_type": "stream",
     "text": [
      "2023-10-19 14:30:00\n"
     ]
    }
   ],
   "source": [
    "from datetime import datetime\n",
    "\n",
    "# Creating a datetime object for a specific date and time\n",
    "dt = datetime(2023, 10, 19, 14, 30, 0)\n",
    "\n",
    "# Formatting the datetime as a string\n",
    "formatted_datetime = dt.strftime(\"%Y-%m-%d %H:%M:%S\")\n",
    "\n",
    "# Printing the formatted datetime\n",
    "print(formatted_datetime)"
   ]
  },
  {
   "cell_type": "code",
   "execution_count": 9,
   "id": "9be8fc62",
   "metadata": {},
   "outputs": [
    {
     "data": {
      "text/plain": [
       "2023-10-01    75.550854\n",
       "2023-10-02    70.950306\n",
       "2023-10-03    75.152774\n",
       "2023-10-04    66.079876\n",
       "2023-10-05    78.399431\n",
       "2023-10-06    73.326583\n",
       "2023-10-07    77.636648\n",
       "2023-10-08    73.080332\n",
       "2023-10-09    75.388359\n",
       "2023-10-10    76.166928\n",
       "2023-10-11    69.887674\n",
       "2023-10-12    71.412684\n",
       "2023-10-13    60.059215\n",
       "2023-10-14    76.170724\n",
       "2023-10-15    62.794483\n",
       "Freq: D, dtype: float64"
      ]
     },
     "execution_count": 9,
     "metadata": {},
     "output_type": "execute_result"
    }
   ],
   "source": [
    "from datetime import datetime\n",
    "import random\n",
    "\n",
    "# Generate a datetime index for a month, starting from October 1, 2023\n",
    "start_date = datetime(2023, 10, 1)\n",
    "end_date = datetime(2023, 10, 15)\n",
    "date_index = pd.date_range(start=start_date, end=end_date, freq='D')\n",
    "\n",
    "# Generate random temperature data for each day\n",
    "temperature_data = [random.uniform(60, 80) for _ in date_index]\n",
    "\n",
    "# Create a Series with a datetime index\n",
    "temperature_series = pd.Series(temperature_data, index=date_index)\n",
    "temperature_series"
   ]
  },
  {
   "cell_type": "code",
   "execution_count": 10,
   "id": "b4ade72c",
   "metadata": {},
   "outputs": [
    {
     "data": {
      "text/html": [
       "<div>\n",
       "<style scoped>\n",
       "    .dataframe tbody tr th:only-of-type {\n",
       "        vertical-align: middle;\n",
       "    }\n",
       "\n",
       "    .dataframe tbody tr th {\n",
       "        vertical-align: top;\n",
       "    }\n",
       "\n",
       "    .dataframe thead th {\n",
       "        text-align: right;\n",
       "    }\n",
       "</style>\n",
       "<table border=\"1\" class=\"dataframe\">\n",
       "  <thead>\n",
       "    <tr style=\"text-align: right;\">\n",
       "      <th></th>\n",
       "      <th>Temperature (°C)</th>\n",
       "      <th>Humidity (%)</th>\n",
       "    </tr>\n",
       "  </thead>\n",
       "  <tbody>\n",
       "    <tr>\n",
       "      <th>2023-01-01</th>\n",
       "      <td>20.1</td>\n",
       "      <td>50</td>\n",
       "    </tr>\n",
       "    <tr>\n",
       "      <th>2023-01-02</th>\n",
       "      <td>21.3</td>\n",
       "      <td>48</td>\n",
       "    </tr>\n",
       "    <tr>\n",
       "      <th>2023-01-03</th>\n",
       "      <td>19.8</td>\n",
       "      <td>52</td>\n",
       "    </tr>\n",
       "    <tr>\n",
       "      <th>2023-01-04</th>\n",
       "      <td>22.5</td>\n",
       "      <td>47</td>\n",
       "    </tr>\n",
       "    <tr>\n",
       "      <th>2023-01-05</th>\n",
       "      <td>20.9</td>\n",
       "      <td>49</td>\n",
       "    </tr>\n",
       "  </tbody>\n",
       "</table>\n",
       "</div>"
      ],
      "text/plain": [
       "            Temperature (°C)  Humidity (%)\n",
       "2023-01-01              20.1            50\n",
       "2023-01-02              21.3            48\n",
       "2023-01-03              19.8            52\n",
       "2023-01-04              22.5            47\n",
       "2023-01-05              20.9            49"
      ]
     },
     "execution_count": 10,
     "metadata": {},
     "output_type": "execute_result"
    }
   ],
   "source": [
    "# Create a datetime index\n",
    "date_index = pd.date_range(start='2023-01-01', end='2023-01-05', freq='D')\n",
    "\n",
    "# Create a DataFrame with a datetime index and sample data\n",
    "data = {\n",
    "    'Temperature (°C)': [20.1, 21.3, 19.8, 22.5, 20.9],\n",
    "    'Humidity (%)': [50, 48, 52, 47, 49]\n",
    "}\n",
    "\n",
    "df = pd.DataFrame(data, index=date_index)\n",
    "\n",
    "# Print the DataFrame\n",
    "df"
   ]
  },
  {
   "cell_type": "code",
   "execution_count": 11,
   "id": "2d4dc731",
   "metadata": {},
   "outputs": [
    {
     "data": {
      "text/plain": [
       "Temperature (°C)    21.3\n",
       "Humidity (%)        48.0\n",
       "Name: 2023-01-02 00:00:00, dtype: float64"
      ]
     },
     "execution_count": 11,
     "metadata": {},
     "output_type": "execute_result"
    }
   ],
   "source": [
    "# Select data for a specific date\n",
    "specific_date_data = df.loc['2023-01-02']\n",
    "specific_date_data"
   ]
  },
  {
   "cell_type": "code",
   "execution_count": 12,
   "id": "871a03be",
   "metadata": {},
   "outputs": [
    {
     "data": {
      "text/html": [
       "<div>\n",
       "<style scoped>\n",
       "    .dataframe tbody tr th:only-of-type {\n",
       "        vertical-align: middle;\n",
       "    }\n",
       "\n",
       "    .dataframe tbody tr th {\n",
       "        vertical-align: top;\n",
       "    }\n",
       "\n",
       "    .dataframe thead th {\n",
       "        text-align: right;\n",
       "    }\n",
       "</style>\n",
       "<table border=\"1\" class=\"dataframe\">\n",
       "  <thead>\n",
       "    <tr style=\"text-align: right;\">\n",
       "      <th></th>\n",
       "      <th>Temperature (°C)</th>\n",
       "      <th>Humidity (%)</th>\n",
       "    </tr>\n",
       "  </thead>\n",
       "  <tbody>\n",
       "    <tr>\n",
       "      <th>2023-01-02</th>\n",
       "      <td>21.3</td>\n",
       "      <td>48</td>\n",
       "    </tr>\n",
       "    <tr>\n",
       "      <th>2023-01-03</th>\n",
       "      <td>19.8</td>\n",
       "      <td>52</td>\n",
       "    </tr>\n",
       "    <tr>\n",
       "      <th>2023-01-04</th>\n",
       "      <td>22.5</td>\n",
       "      <td>47</td>\n",
       "    </tr>\n",
       "  </tbody>\n",
       "</table>\n",
       "</div>"
      ],
      "text/plain": [
       "            Temperature (°C)  Humidity (%)\n",
       "2023-01-02              21.3            48\n",
       "2023-01-03              19.8            52\n",
       "2023-01-04              22.5            47"
      ]
     },
     "execution_count": 12,
     "metadata": {},
     "output_type": "execute_result"
    }
   ],
   "source": [
    "# Select data for a range of dates\n",
    "date_range_data = df['2023-01-02':'2023-01-04']\n",
    "date_range_data"
   ]
  },
  {
   "cell_type": "code",
   "execution_count": 13,
   "id": "dc44857c",
   "metadata": {},
   "outputs": [
    {
     "name": "stdout",
     "output_type": "stream",
     "text": [
      "            Temperature (°C)  Humidity (%)\n",
      "2022-12-15              18.5            55\n",
      "2023-01-02              20.1            50\n",
      "2023-02-10              19.8            48\n",
      "2023-03-25              21.5            53\n",
      "2024-01-05              22.0            49\n"
     ]
    }
   ],
   "source": [
    "# Create a datetime index with various dates\n",
    "date_index = pd.to_datetime(['2022-12-15', '2023-01-02', '2023-02-10', '2023-03-25', '2024-01-05'])\n",
    "\n",
    "# Create a DataFrame with temperature and humidity data\n",
    "data = {\n",
    "    'Temperature (°C)': [18.5, 20.1, 19.8, 21.5, 22.0],\n",
    "    'Humidity (%)': [55, 50, 48, 53, 49]\n",
    "}\n",
    "\n",
    "df = pd.DataFrame(data, index=date_index)\n",
    "\n",
    "# Print the DataFrame\n",
    "print(df)"
   ]
  },
  {
   "cell_type": "code",
   "execution_count": 14,
   "id": "04ee257c",
   "metadata": {},
   "outputs": [
    {
     "name": "stdout",
     "output_type": "stream",
     "text": [
      "            Temperature (°C)  Humidity (%)\n",
      "2023-01-02              20.1            50\n"
     ]
    }
   ],
   "source": [
    "# Select data for January 2023\n",
    "january_data = df.loc['2023-01']\n",
    "print(january_data)"
   ]
  },
  {
   "cell_type": "code",
   "execution_count": 15,
   "id": "1b3ad33b",
   "metadata": {},
   "outputs": [
    {
     "name": "stdout",
     "output_type": "stream",
     "text": [
      "            Temperature (°C)  Humidity (%)\n",
      "2023-01-02              20.1            50\n"
     ]
    }
   ],
   "source": [
    "january_2nd_data = df[df.index.day == 2]\n",
    "print(january_2nd_data)"
   ]
  },
  {
   "cell_type": "code",
   "execution_count": 16,
   "id": "bbb8ed0b",
   "metadata": {},
   "outputs": [
    {
     "name": "stdout",
     "output_type": "stream",
     "text": [
      "            Temperature (°C)  Humidity (%)\n",
      "2023-01-02              20.1            50\n",
      "2023-02-10              19.8            48\n",
      "2023-03-25              21.5            53\n"
     ]
    }
   ],
   "source": [
    "year_2023_data = df.loc['2023']\n",
    "print(year_2023_data)"
   ]
  },
  {
   "cell_type": "code",
   "execution_count": 19,
   "id": "4382cdc8",
   "metadata": {},
   "outputs": [
    {
     "data": {
      "text/html": [
       "<div>\n",
       "<style scoped>\n",
       "    .dataframe tbody tr th:only-of-type {\n",
       "        vertical-align: middle;\n",
       "    }\n",
       "\n",
       "    .dataframe tbody tr th {\n",
       "        vertical-align: top;\n",
       "    }\n",
       "\n",
       "    .dataframe thead th {\n",
       "        text-align: right;\n",
       "    }\n",
       "</style>\n",
       "<table border=\"1\" class=\"dataframe\">\n",
       "  <thead>\n",
       "    <tr style=\"text-align: right;\">\n",
       "      <th></th>\n",
       "      <th>Temperature (°C)</th>\n",
       "    </tr>\n",
       "  </thead>\n",
       "  <tbody>\n",
       "    <tr>\n",
       "      <th>2023-01-01</th>\n",
       "      <td>20.1</td>\n",
       "    </tr>\n",
       "    <tr>\n",
       "      <th>2023-01-02</th>\n",
       "      <td>20.3</td>\n",
       "    </tr>\n",
       "    <tr>\n",
       "      <th>2023-01-03</th>\n",
       "      <td>20.5</td>\n",
       "    </tr>\n",
       "    <tr>\n",
       "      <th>2023-01-04</th>\n",
       "      <td>20.7</td>\n",
       "    </tr>\n",
       "    <tr>\n",
       "      <th>2023-01-05</th>\n",
       "      <td>20.9</td>\n",
       "    </tr>\n",
       "    <tr>\n",
       "      <th>2023-01-06</th>\n",
       "      <td>21.1</td>\n",
       "    </tr>\n",
       "    <tr>\n",
       "      <th>2023-01-07</th>\n",
       "      <td>21.3</td>\n",
       "    </tr>\n",
       "    <tr>\n",
       "      <th>2023-01-08</th>\n",
       "      <td>21.5</td>\n",
       "    </tr>\n",
       "    <tr>\n",
       "      <th>2023-01-09</th>\n",
       "      <td>21.7</td>\n",
       "    </tr>\n",
       "    <tr>\n",
       "      <th>2023-01-10</th>\n",
       "      <td>21.9</td>\n",
       "    </tr>\n",
       "    <tr>\n",
       "      <th>2023-01-11</th>\n",
       "      <td>22.1</td>\n",
       "    </tr>\n",
       "    <tr>\n",
       "      <th>2023-01-12</th>\n",
       "      <td>22.3</td>\n",
       "    </tr>\n",
       "    <tr>\n",
       "      <th>2023-01-13</th>\n",
       "      <td>22.5</td>\n",
       "    </tr>\n",
       "    <tr>\n",
       "      <th>2023-01-14</th>\n",
       "      <td>22.7</td>\n",
       "    </tr>\n",
       "    <tr>\n",
       "      <th>2023-01-15</th>\n",
       "      <td>22.9</td>\n",
       "    </tr>\n",
       "  </tbody>\n",
       "</table>\n",
       "</div>"
      ],
      "text/plain": [
       "            Temperature (°C)\n",
       "2023-01-01              20.1\n",
       "2023-01-02              20.3\n",
       "2023-01-03              20.5\n",
       "2023-01-04              20.7\n",
       "2023-01-05              20.9\n",
       "2023-01-06              21.1\n",
       "2023-01-07              21.3\n",
       "2023-01-08              21.5\n",
       "2023-01-09              21.7\n",
       "2023-01-10              21.9\n",
       "2023-01-11              22.1\n",
       "2023-01-12              22.3\n",
       "2023-01-13              22.5\n",
       "2023-01-14              22.7\n",
       "2023-01-15              22.9"
      ]
     },
     "execution_count": 19,
     "metadata": {},
     "output_type": "execute_result"
    }
   ],
   "source": [
    "# Create a datetime index for daily data\n",
    "date_index = pd.date_range(start='2023-01-01', end='2023-01-15', freq='D')\n",
    "\n",
    "# Generate random daily temperature data\n",
    "temperature_data = [20.1 + i * 0.2 for i in range(len(date_index))]\n",
    "\n",
    "# Create a DataFrame with daily data\n",
    "df = pd.DataFrame({'Temperature (°C)': temperature_data}, index=date_index)\n",
    "\n",
    "df"
   ]
  },
  {
   "cell_type": "code",
   "execution_count": 20,
   "id": "804c2bd6",
   "metadata": {},
   "outputs": [
    {
     "data": {
      "text/plain": [
       "2023-01-01    20.1\n",
       "2023-01-08    20.9\n",
       "2023-01-15    22.3\n",
       "Freq: W-SUN, Name: Temperature (°C), dtype: float64"
      ]
     },
     "execution_count": 20,
     "metadata": {},
     "output_type": "execute_result"
    }
   ],
   "source": [
    "# Downsample to weekly data with mean aggregation\n",
    "weekly_mean = df['Temperature (°C)'].resample('W').mean()\n",
    "weekly_mean"
   ]
  },
  {
   "cell_type": "code",
   "execution_count": 22,
   "id": "5640b945",
   "metadata": {},
   "outputs": [
    {
     "data": {
      "text/html": [
       "<div>\n",
       "<style scoped>\n",
       "    .dataframe tbody tr th:only-of-type {\n",
       "        vertical-align: middle;\n",
       "    }\n",
       "\n",
       "    .dataframe tbody tr th {\n",
       "        vertical-align: top;\n",
       "    }\n",
       "\n",
       "    .dataframe thead th {\n",
       "        text-align: right;\n",
       "    }\n",
       "</style>\n",
       "<table border=\"1\" class=\"dataframe\">\n",
       "  <thead>\n",
       "    <tr style=\"text-align: right;\">\n",
       "      <th></th>\n",
       "      <th>Temperature (°C)</th>\n",
       "    </tr>\n",
       "    <tr>\n",
       "      <th>Date</th>\n",
       "      <th></th>\n",
       "    </tr>\n",
       "  </thead>\n",
       "  <tbody>\n",
       "    <tr>\n",
       "      <th>2023-01-01</th>\n",
       "      <td>20.1</td>\n",
       "    </tr>\n",
       "    <tr>\n",
       "      <th>2023-02-01</th>\n",
       "      <td>21.5</td>\n",
       "    </tr>\n",
       "    <tr>\n",
       "      <th>2023-03-01</th>\n",
       "      <td>22.0</td>\n",
       "    </tr>\n",
       "  </tbody>\n",
       "</table>\n",
       "</div>"
      ],
      "text/plain": [
       "            Temperature (°C)\n",
       "Date                        \n",
       "2023-01-01              20.1\n",
       "2023-02-01              21.5\n",
       "2023-03-01              22.0"
      ]
     },
     "execution_count": 22,
     "metadata": {},
     "output_type": "execute_result"
    }
   ],
   "source": [
    "# Create a DataFrame with monthly temperature data\n",
    "data = {\n",
    "    'Date': ['2023-01-01', '2023-02-01', '2023-03-01'],\n",
    "    'Temperature (°C)': [20.1, 21.5, 22.0]\n",
    "}\n",
    "\n",
    "df = pd.DataFrame(data)\n",
    "df['Date'] = pd.to_datetime(df['Date'])\n",
    "\n",
    "# Set the 'Date' column as the index\n",
    "df.set_index('Date', inplace=True)\n",
    "df"
   ]
  },
  {
   "cell_type": "code",
   "execution_count": 23,
   "id": "0e140cfa",
   "metadata": {},
   "outputs": [
    {
     "name": "stdout",
     "output_type": "stream",
     "text": [
      "            Temperature (°C)\n",
      "Date                        \n",
      "2023-01-01         20.100000\n",
      "2023-01-02         20.145161\n",
      "2023-01-03         20.190323\n",
      "2023-01-04         20.235484\n",
      "2023-01-05         20.280645\n",
      "2023-01-06         20.325806\n",
      "2023-01-07         20.370968\n",
      "2023-01-08         20.416129\n",
      "2023-01-09         20.461290\n",
      "2023-01-10         20.506452\n",
      "2023-01-11         20.551613\n",
      "2023-01-12         20.596774\n",
      "2023-01-13         20.641935\n",
      "2023-01-14         20.687097\n",
      "2023-01-15         20.732258\n",
      "2023-01-16         20.777419\n",
      "2023-01-17         20.822581\n",
      "2023-01-18         20.867742\n",
      "2023-01-19         20.912903\n",
      "2023-01-20         20.958065\n",
      "2023-01-21         21.003226\n",
      "2023-01-22         21.048387\n",
      "2023-01-23         21.093548\n",
      "2023-01-24         21.138710\n",
      "2023-01-25         21.183871\n",
      "2023-01-26         21.229032\n",
      "2023-01-27         21.274194\n",
      "2023-01-28         21.319355\n",
      "2023-01-29         21.364516\n",
      "2023-01-30         21.409677\n",
      "2023-01-31         21.454839\n",
      "2023-02-01         21.500000\n",
      "2023-02-02         21.517857\n",
      "2023-02-03         21.535714\n",
      "2023-02-04         21.553571\n",
      "2023-02-05         21.571429\n",
      "2023-02-06         21.589286\n",
      "2023-02-07         21.607143\n",
      "2023-02-08         21.625000\n",
      "2023-02-09         21.642857\n",
      "2023-02-10         21.660714\n",
      "2023-02-11         21.678571\n",
      "2023-02-12         21.696429\n",
      "2023-02-13         21.714286\n",
      "2023-02-14         21.732143\n",
      "2023-02-15         21.750000\n",
      "2023-02-16         21.767857\n",
      "2023-02-17         21.785714\n",
      "2023-02-18         21.803571\n",
      "2023-02-19         21.821429\n",
      "2023-02-20         21.839286\n",
      "2023-02-21         21.857143\n",
      "2023-02-22         21.875000\n",
      "2023-02-23         21.892857\n",
      "2023-02-24         21.910714\n",
      "2023-02-25         21.928571\n",
      "2023-02-26         21.946429\n",
      "2023-02-27         21.964286\n",
      "2023-02-28         21.982143\n",
      "2023-03-01         22.000000\n"
     ]
    }
   ],
   "source": [
    "# Upsample to daily data with linear interpolation\n",
    "df_upsampled = df.resample('D').asfreq().interpolate(method='linear')\n",
    "\n",
    "# Print the upsampled DataFrame\n",
    "print(df_upsampled)"
   ]
  },
  {
   "cell_type": "code",
   "execution_count": 25,
   "id": "7c34068a",
   "metadata": {},
   "outputs": [
    {
     "data": {
      "text/html": [
       "<div>\n",
       "<style scoped>\n",
       "    .dataframe tbody tr th:only-of-type {\n",
       "        vertical-align: middle;\n",
       "    }\n",
       "\n",
       "    .dataframe tbody tr th {\n",
       "        vertical-align: top;\n",
       "    }\n",
       "\n",
       "    .dataframe thead th {\n",
       "        text-align: right;\n",
       "    }\n",
       "</style>\n",
       "<table border=\"1\" class=\"dataframe\">\n",
       "  <thead>\n",
       "    <tr style=\"text-align: right;\">\n",
       "      <th></th>\n",
       "      <th>Temperature (°C)</th>\n",
       "    </tr>\n",
       "    <tr>\n",
       "      <th>Date</th>\n",
       "      <th></th>\n",
       "    </tr>\n",
       "  </thead>\n",
       "  <tbody>\n",
       "    <tr>\n",
       "      <th>2023-01-01</th>\n",
       "      <td>20.1</td>\n",
       "    </tr>\n",
       "    <tr>\n",
       "      <th>2023-01-02</th>\n",
       "      <td>21.5</td>\n",
       "    </tr>\n",
       "    <tr>\n",
       "      <th>2023-01-03</th>\n",
       "      <td>22.0</td>\n",
       "    </tr>\n",
       "    <tr>\n",
       "      <th>2023-01-04</th>\n",
       "      <td>23.2</td>\n",
       "    </tr>\n",
       "    <tr>\n",
       "      <th>2023-01-05</th>\n",
       "      <td>22.8</td>\n",
       "    </tr>\n",
       "  </tbody>\n",
       "</table>\n",
       "</div>"
      ],
      "text/plain": [
       "            Temperature (°C)\n",
       "Date                        \n",
       "2023-01-01              20.1\n",
       "2023-01-02              21.5\n",
       "2023-01-03              22.0\n",
       "2023-01-04              23.2\n",
       "2023-01-05              22.8"
      ]
     },
     "execution_count": 25,
     "metadata": {},
     "output_type": "execute_result"
    }
   ],
   "source": [
    "# Create a DataFrame with temperature data\n",
    "data = {\n",
    "    'Date': ['2023-01-01', '2023-01-02', '2023-01-03', '2023-01-04', '2023-01-05'],\n",
    "    'Temperature (°C)': [20.1, 21.5, 22.0, 23.2, 22.8]\n",
    "}\n",
    "\n",
    "df = pd.DataFrame(data)\n",
    "df['Date'] = pd.to_datetime(df['Date'])\n",
    "df.set_index('Date', inplace=True)\n",
    "df"
   ]
  },
  {
   "cell_type": "code",
   "execution_count": 28,
   "id": "07cb80aa",
   "metadata": {},
   "outputs": [],
   "source": [
    "# Creating a lagged feature for temperature with a lag of 1 time period\n",
    "df['Temperature (°C)_lag1'] = df['Temperature (°C)'].shift(1)\n"
   ]
  },
  {
   "cell_type": "code",
   "execution_count": 29,
   "id": "477b102d",
   "metadata": {},
   "outputs": [
    {
     "data": {
      "text/html": [
       "<div>\n",
       "<style scoped>\n",
       "    .dataframe tbody tr th:only-of-type {\n",
       "        vertical-align: middle;\n",
       "    }\n",
       "\n",
       "    .dataframe tbody tr th {\n",
       "        vertical-align: top;\n",
       "    }\n",
       "\n",
       "    .dataframe thead th {\n",
       "        text-align: right;\n",
       "    }\n",
       "</style>\n",
       "<table border=\"1\" class=\"dataframe\">\n",
       "  <thead>\n",
       "    <tr style=\"text-align: right;\">\n",
       "      <th></th>\n",
       "      <th>Temperature (°C)</th>\n",
       "      <th>Temperature (°C)_lag1</th>\n",
       "    </tr>\n",
       "    <tr>\n",
       "      <th>Date</th>\n",
       "      <th></th>\n",
       "      <th></th>\n",
       "    </tr>\n",
       "  </thead>\n",
       "  <tbody>\n",
       "    <tr>\n",
       "      <th>2023-01-01</th>\n",
       "      <td>20.1</td>\n",
       "      <td>NaN</td>\n",
       "    </tr>\n",
       "    <tr>\n",
       "      <th>2023-01-02</th>\n",
       "      <td>21.5</td>\n",
       "      <td>20.1</td>\n",
       "    </tr>\n",
       "    <tr>\n",
       "      <th>2023-01-03</th>\n",
       "      <td>22.0</td>\n",
       "      <td>21.5</td>\n",
       "    </tr>\n",
       "    <tr>\n",
       "      <th>2023-01-04</th>\n",
       "      <td>23.2</td>\n",
       "      <td>22.0</td>\n",
       "    </tr>\n",
       "    <tr>\n",
       "      <th>2023-01-05</th>\n",
       "      <td>22.8</td>\n",
       "      <td>23.2</td>\n",
       "    </tr>\n",
       "  </tbody>\n",
       "</table>\n",
       "</div>"
      ],
      "text/plain": [
       "            Temperature (°C)  Temperature (°C)_lag1\n",
       "Date                                               \n",
       "2023-01-01              20.1                    NaN\n",
       "2023-01-02              21.5                   20.1\n",
       "2023-01-03              22.0                   21.5\n",
       "2023-01-04              23.2                   22.0\n",
       "2023-01-05              22.8                   23.2"
      ]
     },
     "execution_count": 29,
     "metadata": {},
     "output_type": "execute_result"
    }
   ],
   "source": [
    "df"
   ]
  },
  {
   "cell_type": "code",
   "execution_count": 30,
   "id": "c28dcb3d",
   "metadata": {},
   "outputs": [],
   "source": [
    "# Creating a lead feature for temperature with a lead of 1 time period\n",
    "df['Temperature (°C)_lead1'] = df['Temperature (°C)'].shift(-1)"
   ]
  },
  {
   "cell_type": "code",
   "execution_count": 31,
   "id": "e898ba73",
   "metadata": {},
   "outputs": [
    {
     "data": {
      "text/html": [
       "<div>\n",
       "<style scoped>\n",
       "    .dataframe tbody tr th:only-of-type {\n",
       "        vertical-align: middle;\n",
       "    }\n",
       "\n",
       "    .dataframe tbody tr th {\n",
       "        vertical-align: top;\n",
       "    }\n",
       "\n",
       "    .dataframe thead th {\n",
       "        text-align: right;\n",
       "    }\n",
       "</style>\n",
       "<table border=\"1\" class=\"dataframe\">\n",
       "  <thead>\n",
       "    <tr style=\"text-align: right;\">\n",
       "      <th></th>\n",
       "      <th>Temperature (°C)</th>\n",
       "      <th>Temperature (°C)_lag1</th>\n",
       "      <th>Temperature (°C)_lead1</th>\n",
       "    </tr>\n",
       "    <tr>\n",
       "      <th>Date</th>\n",
       "      <th></th>\n",
       "      <th></th>\n",
       "      <th></th>\n",
       "    </tr>\n",
       "  </thead>\n",
       "  <tbody>\n",
       "    <tr>\n",
       "      <th>2023-01-01</th>\n",
       "      <td>20.1</td>\n",
       "      <td>NaN</td>\n",
       "      <td>21.5</td>\n",
       "    </tr>\n",
       "    <tr>\n",
       "      <th>2023-01-02</th>\n",
       "      <td>21.5</td>\n",
       "      <td>20.1</td>\n",
       "      <td>22.0</td>\n",
       "    </tr>\n",
       "    <tr>\n",
       "      <th>2023-01-03</th>\n",
       "      <td>22.0</td>\n",
       "      <td>21.5</td>\n",
       "      <td>23.2</td>\n",
       "    </tr>\n",
       "    <tr>\n",
       "      <th>2023-01-04</th>\n",
       "      <td>23.2</td>\n",
       "      <td>22.0</td>\n",
       "      <td>22.8</td>\n",
       "    </tr>\n",
       "    <tr>\n",
       "      <th>2023-01-05</th>\n",
       "      <td>22.8</td>\n",
       "      <td>23.2</td>\n",
       "      <td>NaN</td>\n",
       "    </tr>\n",
       "  </tbody>\n",
       "</table>\n",
       "</div>"
      ],
      "text/plain": [
       "            Temperature (°C)  Temperature (°C)_lag1  Temperature (°C)_lead1\n",
       "Date                                                                       \n",
       "2023-01-01              20.1                    NaN                    21.5\n",
       "2023-01-02              21.5                   20.1                    22.0\n",
       "2023-01-03              22.0                   21.5                    23.2\n",
       "2023-01-04              23.2                   22.0                    22.8\n",
       "2023-01-05              22.8                   23.2                     NaN"
      ]
     },
     "execution_count": 31,
     "metadata": {},
     "output_type": "execute_result"
    }
   ],
   "source": [
    "df"
   ]
  },
  {
   "cell_type": "code",
   "execution_count": 32,
   "id": "2bf8db90",
   "metadata": {},
   "outputs": [],
   "source": [
    "# Calculate a 3-day rolling mean of daily temperature data\n",
    "rolling_mean_3d = df['Temperature (°C)'].rolling(window=3).mean()"
   ]
  },
  {
   "cell_type": "code",
   "execution_count": 33,
   "id": "951e6038",
   "metadata": {},
   "outputs": [
    {
     "data": {
      "text/plain": [
       "Date\n",
       "2023-01-01          NaN\n",
       "2023-01-02          NaN\n",
       "2023-01-03    21.200000\n",
       "2023-01-04    22.233333\n",
       "2023-01-05    22.666667\n",
       "Name: Temperature (°C), dtype: float64"
      ]
     },
     "execution_count": 33,
     "metadata": {},
     "output_type": "execute_result"
    }
   ],
   "source": [
    "rolling_mean_3d"
   ]
  },
  {
   "cell_type": "code",
   "execution_count": 35,
   "id": "cae7f86c",
   "metadata": {},
   "outputs": [],
   "source": [
    "# Calculate a 3-day rolling standard deviation of daily temperature data\n",
    "rolling_std_3d = df['Temperature (°C)'].rolling(window=3).std()\n",
    "\n"
   ]
  },
  {
   "cell_type": "code",
   "execution_count": 37,
   "id": "10d77dc4",
   "metadata": {},
   "outputs": [
    {
     "data": {
      "text/plain": [
       "Date\n",
       "2023-01-01         NaN\n",
       "2023-01-02         NaN\n",
       "2023-01-03    0.984886\n",
       "2023-01-04    0.873689\n",
       "2023-01-05    0.611010\n",
       "Name: Temperature (°C), dtype: float64"
      ]
     },
     "execution_count": 37,
     "metadata": {},
     "output_type": "execute_result"
    }
   ],
   "source": [
    "# Print the result\n",
    "rolling_std_3d"
   ]
  },
  {
   "cell_type": "code",
   "execution_count": 41,
   "id": "6740796e",
   "metadata": {},
   "outputs": [],
   "source": [
    "# Create a DataFrame with monthly sales data\n",
    "data = {\n",
    "    'Date': ['2023-01-01', '2023-02-01', '2023-03-01', '2023-04-01', '2023-05-01'],\n",
    "    'Monthly Sales': [1000, 1200, 900, 1100, 950]\n",
    "}\n",
    "\n",
    "df = pd.DataFrame(data)\n",
    "df['Date'] = pd.to_datetime(df['Date'])\n",
    "df.set_index('Date', inplace=True)\n",
    "\n",
    "# Calculate a 3-month rolling sum of monthly sales data\n",
    "rolling_sum_3m = df['Monthly Sales'].rolling(window=3).sum()"
   ]
  },
  {
   "cell_type": "code",
   "execution_count": 42,
   "id": "1a7aafd2",
   "metadata": {},
   "outputs": [
    {
     "data": {
      "text/plain": [
       "Date\n",
       "2023-01-01       NaN\n",
       "2023-02-01       NaN\n",
       "2023-03-01    3100.0\n",
       "2023-04-01    3200.0\n",
       "2023-05-01    2950.0\n",
       "Name: Monthly Sales, dtype: float64"
      ]
     },
     "execution_count": 42,
     "metadata": {},
     "output_type": "execute_result"
    }
   ],
   "source": [
    "# Print the result\n",
    "rolling_sum_3m"
   ]
  },
  {
   "cell_type": "code",
   "execution_count": 46,
   "id": "146a95c2",
   "metadata": {},
   "outputs": [
    {
     "data": {
      "text/html": [
       "<div>\n",
       "<style scoped>\n",
       "    .dataframe tbody tr th:only-of-type {\n",
       "        vertical-align: middle;\n",
       "    }\n",
       "\n",
       "    .dataframe tbody tr th {\n",
       "        vertical-align: top;\n",
       "    }\n",
       "\n",
       "    .dataframe thead th {\n",
       "        text-align: right;\n",
       "    }\n",
       "</style>\n",
       "<table border=\"1\" class=\"dataframe\">\n",
       "  <thead>\n",
       "    <tr style=\"text-align: right;\">\n",
       "      <th></th>\n",
       "      <th>Closing Price</th>\n",
       "    </tr>\n",
       "    <tr>\n",
       "      <th>Date</th>\n",
       "      <th></th>\n",
       "    </tr>\n",
       "  </thead>\n",
       "  <tbody>\n",
       "    <tr>\n",
       "      <th>2023-01-01</th>\n",
       "      <td>100.2</td>\n",
       "    </tr>\n",
       "    <tr>\n",
       "      <th>2023-01-02</th>\n",
       "      <td>101.0</td>\n",
       "    </tr>\n",
       "    <tr>\n",
       "      <th>2023-01-03</th>\n",
       "      <td>101.5</td>\n",
       "    </tr>\n",
       "    <tr>\n",
       "      <th>2023-01-04</th>\n",
       "      <td>100.8</td>\n",
       "    </tr>\n",
       "    <tr>\n",
       "      <th>2023-01-05</th>\n",
       "      <td>101.2</td>\n",
       "    </tr>\n",
       "  </tbody>\n",
       "</table>\n",
       "</div>"
      ],
      "text/plain": [
       "            Closing Price\n",
       "Date                     \n",
       "2023-01-01          100.2\n",
       "2023-01-02          101.0\n",
       "2023-01-03          101.5\n",
       "2023-01-04          100.8\n",
       "2023-01-05          101.2"
      ]
     },
     "execution_count": 46,
     "metadata": {},
     "output_type": "execute_result"
    }
   ],
   "source": [
    "\n",
    "# Create a DataFrame with daily closing price data\n",
    "data = {\n",
    "    'Date': ['2023-01-01', '2023-01-02', '2023-01-03', '2023-01-04', '2023-01-05'],\n",
    "    'Closing Price': [100.2, 101.0, 101.5, 100.8, 101.2]\n",
    "}\n",
    "\n",
    "df = pd.DataFrame(data)\n",
    "df['Date'] = pd.to_datetime(df['Date'])\n",
    "df.set_index('Date', inplace=True)\n",
    "\n",
    "df"
   ]
  },
  {
   "cell_type": "code",
   "execution_count": 48,
   "id": "4aa7accb",
   "metadata": {},
   "outputs": [
    {
     "data": {
      "text/plain": [
       "Date\n",
       "2023-01-01    100.200000\n",
       "2023-01-02    100.733333\n",
       "2023-01-03    101.171429\n",
       "2023-01-04    100.973333\n",
       "2023-01-05    101.090323\n",
       "Name: Closing Price, dtype: float64"
      ]
     },
     "execution_count": 48,
     "metadata": {},
     "output_type": "execute_result"
    }
   ],
   "source": [
    "# Calculate a 3-day Exponential Moving Average (EMA) of daily closing prices\n",
    "ema_3d = df['Closing Price'].ewm(span=3).mean()\n",
    "# Print the result\n",
    "ema_3d"
   ]
  },
  {
   "cell_type": "code",
   "execution_count": 50,
   "id": "8d6955c3",
   "metadata": {},
   "outputs": [
    {
     "data": {
      "text/html": [
       "<div>\n",
       "<style scoped>\n",
       "    .dataframe tbody tr th:only-of-type {\n",
       "        vertical-align: middle;\n",
       "    }\n",
       "\n",
       "    .dataframe tbody tr th {\n",
       "        vertical-align: top;\n",
       "    }\n",
       "\n",
       "    .dataframe thead th {\n",
       "        text-align: right;\n",
       "    }\n",
       "</style>\n",
       "<table border=\"1\" class=\"dataframe\">\n",
       "  <thead>\n",
       "    <tr style=\"text-align: right;\">\n",
       "      <th></th>\n",
       "      <th>Year</th>\n",
       "      <th>Month</th>\n",
       "      <th>Day</th>\n",
       "      <th>Hour</th>\n",
       "      <th>Minute</th>\n",
       "      <th>Second</th>\n",
       "    </tr>\n",
       "  </thead>\n",
       "  <tbody>\n",
       "    <tr>\n",
       "      <th>0</th>\n",
       "      <td>2023</td>\n",
       "      <td>1</td>\n",
       "      <td>15</td>\n",
       "      <td>10</td>\n",
       "      <td>30</td>\n",
       "      <td>0</td>\n",
       "    </tr>\n",
       "    <tr>\n",
       "      <th>1</th>\n",
       "      <td>2023</td>\n",
       "      <td>2</td>\n",
       "      <td>20</td>\n",
       "      <td>15</td>\n",
       "      <td>45</td>\n",
       "      <td>0</td>\n",
       "    </tr>\n",
       "    <tr>\n",
       "      <th>2</th>\n",
       "      <td>2023</td>\n",
       "      <td>3</td>\n",
       "      <td>25</td>\n",
       "      <td>18</td>\n",
       "      <td>0</td>\n",
       "      <td>0</td>\n",
       "    </tr>\n",
       "  </tbody>\n",
       "</table>\n",
       "</div>"
      ],
      "text/plain": [
       "   Year  Month  Day  Hour  Minute  Second\n",
       "0  2023      1   15    10      30       0\n",
       "1  2023      2   20    15      45       0\n",
       "2  2023      3   25    18       0       0"
      ]
     },
     "execution_count": 50,
     "metadata": {},
     "output_type": "execute_result"
    }
   ],
   "source": [
    "# Create a DataFrame with date and time information in separate columns\n",
    "data = {\n",
    "    'Year': [2023, 2023, 2023],\n",
    "    'Month': [1, 2, 3],\n",
    "    'Day': [15, 20, 25],\n",
    "    'Hour': [10, 15, 18],\n",
    "    'Minute': [30, 45, 0],\n",
    "    'Second': [0, 0, 0]\n",
    "}\n",
    "\n",
    "df = pd.DataFrame(data)\n",
    "df"
   ]
  },
  {
   "cell_type": "code",
   "execution_count": 51,
   "id": "92c7e510",
   "metadata": {},
   "outputs": [
    {
     "data": {
      "text/html": [
       "<div>\n",
       "<style scoped>\n",
       "    .dataframe tbody tr th:only-of-type {\n",
       "        vertical-align: middle;\n",
       "    }\n",
       "\n",
       "    .dataframe tbody tr th {\n",
       "        vertical-align: top;\n",
       "    }\n",
       "\n",
       "    .dataframe thead th {\n",
       "        text-align: right;\n",
       "    }\n",
       "</style>\n",
       "<table border=\"1\" class=\"dataframe\">\n",
       "  <thead>\n",
       "    <tr style=\"text-align: right;\">\n",
       "      <th></th>\n",
       "      <th>Year</th>\n",
       "      <th>Month</th>\n",
       "      <th>Day</th>\n",
       "      <th>Hour</th>\n",
       "      <th>Minute</th>\n",
       "      <th>Second</th>\n",
       "      <th>Datetime</th>\n",
       "    </tr>\n",
       "  </thead>\n",
       "  <tbody>\n",
       "    <tr>\n",
       "      <th>0</th>\n",
       "      <td>2023</td>\n",
       "      <td>1</td>\n",
       "      <td>15</td>\n",
       "      <td>10</td>\n",
       "      <td>30</td>\n",
       "      <td>0</td>\n",
       "      <td>2023-01-15 10:30:00</td>\n",
       "    </tr>\n",
       "    <tr>\n",
       "      <th>1</th>\n",
       "      <td>2023</td>\n",
       "      <td>2</td>\n",
       "      <td>20</td>\n",
       "      <td>15</td>\n",
       "      <td>45</td>\n",
       "      <td>0</td>\n",
       "      <td>2023-02-20 15:45:00</td>\n",
       "    </tr>\n",
       "    <tr>\n",
       "      <th>2</th>\n",
       "      <td>2023</td>\n",
       "      <td>3</td>\n",
       "      <td>25</td>\n",
       "      <td>18</td>\n",
       "      <td>0</td>\n",
       "      <td>0</td>\n",
       "      <td>2023-03-25 18:00:00</td>\n",
       "    </tr>\n",
       "  </tbody>\n",
       "</table>\n",
       "</div>"
      ],
      "text/plain": [
       "   Year  Month  Day  Hour  Minute  Second            Datetime\n",
       "0  2023      1   15    10      30       0 2023-01-15 10:30:00\n",
       "1  2023      2   20    15      45       0 2023-02-20 15:45:00\n",
       "2  2023      3   25    18       0       0 2023-03-25 18:00:00"
      ]
     },
     "execution_count": 51,
     "metadata": {},
     "output_type": "execute_result"
    }
   ],
   "source": [
    "# Assemble a datetime column from multiple columns\n",
    "df['Datetime'] = pd.to_datetime(df[['Year', 'Month', 'Day', 'Hour', 'Minute', 'Second']], format='%Y-%m-%d %H:%M:%S')\n"
   ]
  },
  {
   "cell_type": "code",
   "execution_count": 52,
   "id": "706c6385",
   "metadata": {},
   "outputs": [
    {
     "data": {
      "text/html": [
       "<div>\n",
       "<style scoped>\n",
       "    .dataframe tbody tr th:only-of-type {\n",
       "        vertical-align: middle;\n",
       "    }\n",
       "\n",
       "    .dataframe tbody tr th {\n",
       "        vertical-align: top;\n",
       "    }\n",
       "\n",
       "    .dataframe thead th {\n",
       "        text-align: right;\n",
       "    }\n",
       "</style>\n",
       "<table border=\"1\" class=\"dataframe\">\n",
       "  <thead>\n",
       "    <tr style=\"text-align: right;\">\n",
       "      <th></th>\n",
       "      <th>Year</th>\n",
       "      <th>Month</th>\n",
       "      <th>Day</th>\n",
       "      <th>Hour</th>\n",
       "      <th>Minute</th>\n",
       "      <th>Second</th>\n",
       "      <th>Datetime</th>\n",
       "    </tr>\n",
       "  </thead>\n",
       "  <tbody>\n",
       "    <tr>\n",
       "      <th>0</th>\n",
       "      <td>2023</td>\n",
       "      <td>1</td>\n",
       "      <td>15</td>\n",
       "      <td>10</td>\n",
       "      <td>30</td>\n",
       "      <td>0</td>\n",
       "      <td>2023-01-15 10:30:00</td>\n",
       "    </tr>\n",
       "    <tr>\n",
       "      <th>1</th>\n",
       "      <td>2023</td>\n",
       "      <td>2</td>\n",
       "      <td>20</td>\n",
       "      <td>15</td>\n",
       "      <td>45</td>\n",
       "      <td>0</td>\n",
       "      <td>2023-02-20 15:45:00</td>\n",
       "    </tr>\n",
       "    <tr>\n",
       "      <th>2</th>\n",
       "      <td>2023</td>\n",
       "      <td>3</td>\n",
       "      <td>25</td>\n",
       "      <td>18</td>\n",
       "      <td>0</td>\n",
       "      <td>0</td>\n",
       "      <td>2023-03-25 18:00:00</td>\n",
       "    </tr>\n",
       "  </tbody>\n",
       "</table>\n",
       "</div>"
      ],
      "text/plain": [
       "   Year  Month  Day  Hour  Minute  Second            Datetime\n",
       "0  2023      1   15    10      30       0 2023-01-15 10:30:00\n",
       "1  2023      2   20    15      45       0 2023-02-20 15:45:00\n",
       "2  2023      3   25    18       0       0 2023-03-25 18:00:00"
      ]
     },
     "execution_count": 52,
     "metadata": {},
     "output_type": "execute_result"
    }
   ],
   "source": [
    "df"
   ]
  }
 ],
 "metadata": {
  "kernelspec": {
   "display_name": "Python 3 (ipykernel)",
   "language": "python",
   "name": "python3"
  },
  "language_info": {
   "codemirror_mode": {
    "name": "ipython",
    "version": 3
   },
   "file_extension": ".py",
   "mimetype": "text/x-python",
   "name": "python",
   "nbconvert_exporter": "python",
   "pygments_lexer": "ipython3",
   "version": "3.8.13"
  }
 },
 "nbformat": 4,
 "nbformat_minor": 5
}
